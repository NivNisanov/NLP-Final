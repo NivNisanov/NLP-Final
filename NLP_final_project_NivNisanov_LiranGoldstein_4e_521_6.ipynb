{
  "cells": [
    {
      "cell_type": "code",
      "execution_count": 1,
      "metadata": {
        "colab": {
          "base_uri": "https://localhost:8080/"
        },
        "id": "7-zLJOk2u_Q5",
        "outputId": "5110e486-3536-4735-8484-ed1bc44cfda7"
      },
      "outputs": [
        {
          "output_type": "stream",
          "name": "stdout",
          "text": [
            "Looking in indexes: https://pypi.org/simple, https://us-python.pkg.dev/colab-wheels/public/simple/\n",
            "Collecting transformers==2.11.0\n",
            "  Downloading transformers-2.11.0-py3-none-any.whl (674 kB)\n",
            "\u001b[K     |████████████████████████████████| 674 kB 4.1 MB/s \n",
            "\u001b[?25hCollecting tokenizers==0.7.0\n",
            "  Downloading tokenizers-0.7.0-cp37-cp37m-manylinux1_x86_64.whl (5.6 MB)\n",
            "\u001b[K     |████████████████████████████████| 5.6 MB 29.3 MB/s \n",
            "\u001b[?25hCollecting sentencepiece\n",
            "  Downloading sentencepiece-0.1.96-cp37-cp37m-manylinux_2_17_x86_64.manylinux2014_x86_64.whl (1.2 MB)\n",
            "\u001b[K     |████████████████████████████████| 1.2 MB 66.8 MB/s \n",
            "\u001b[?25hRequirement already satisfied: numpy in /usr/local/lib/python3.7/dist-packages (from transformers==2.11.0) (1.21.6)\n",
            "Requirement already satisfied: tqdm>=4.27 in /usr/local/lib/python3.7/dist-packages (from transformers==2.11.0) (4.64.0)\n",
            "Requirement already satisfied: packaging in /usr/local/lib/python3.7/dist-packages (from transformers==2.11.0) (21.3)\n",
            "Collecting sacremoses\n",
            "  Downloading sacremoses-0.0.53.tar.gz (880 kB)\n",
            "\u001b[K     |████████████████████████████████| 880 kB 78.4 MB/s \n",
            "\u001b[?25hRequirement already satisfied: filelock in /usr/local/lib/python3.7/dist-packages (from transformers==2.11.0) (3.7.1)\n",
            "Requirement already satisfied: regex!=2019.12.17 in /usr/local/lib/python3.7/dist-packages (from transformers==2.11.0) (2022.6.2)\n",
            "Requirement already satisfied: requests in /usr/local/lib/python3.7/dist-packages (from transformers==2.11.0) (2.23.0)\n",
            "Requirement already satisfied: pyparsing!=3.0.5,>=2.0.2 in /usr/local/lib/python3.7/dist-packages (from packaging->transformers==2.11.0) (3.0.9)\n",
            "Requirement already satisfied: urllib3!=1.25.0,!=1.25.1,<1.26,>=1.21.1 in /usr/local/lib/python3.7/dist-packages (from requests->transformers==2.11.0) (1.24.3)\n",
            "Requirement already satisfied: certifi>=2017.4.17 in /usr/local/lib/python3.7/dist-packages (from requests->transformers==2.11.0) (2022.6.15)\n",
            "Requirement already satisfied: idna<3,>=2.5 in /usr/local/lib/python3.7/dist-packages (from requests->transformers==2.11.0) (2.10)\n",
            "Requirement already satisfied: chardet<4,>=3.0.2 in /usr/local/lib/python3.7/dist-packages (from requests->transformers==2.11.0) (3.0.4)\n",
            "Requirement already satisfied: six in /usr/local/lib/python3.7/dist-packages (from sacremoses->transformers==2.11.0) (1.15.0)\n",
            "Requirement already satisfied: click in /usr/local/lib/python3.7/dist-packages (from sacremoses->transformers==2.11.0) (7.1.2)\n",
            "Requirement already satisfied: joblib in /usr/local/lib/python3.7/dist-packages (from sacremoses->transformers==2.11.0) (1.1.0)\n",
            "Building wheels for collected packages: sacremoses\n",
            "  Building wheel for sacremoses (setup.py) ... \u001b[?25l\u001b[?25hdone\n",
            "  Created wheel for sacremoses: filename=sacremoses-0.0.53-py3-none-any.whl size=895260 sha256=b39f25b3cffe562ede25aefa16626446c04b6f17831e78f688c79c628845c516\n",
            "  Stored in directory: /root/.cache/pip/wheels/87/39/dd/a83eeef36d0bf98e7a4d1933a4ad2d660295a40613079bafc9\n",
            "Successfully built sacremoses\n",
            "Installing collected packages: tokenizers, sentencepiece, sacremoses, transformers\n",
            "  Attempting uninstall: tokenizers\n",
            "    Found existing installation: tokenizers 0.12.1\n",
            "    Uninstalling tokenizers-0.12.1:\n",
            "      Successfully uninstalled tokenizers-0.12.1\n",
            "  Attempting uninstall: transformers\n",
            "    Found existing installation: transformers 4.21.0\n",
            "    Uninstalling transformers-4.21.0:\n",
            "      Successfully uninstalled transformers-4.21.0\n",
            "Successfully installed sacremoses-0.0.53 sentencepiece-0.1.96 tokenizers-0.7.0 transformers-2.11.0\n"
          ]
        }
      ],
      "source": [
        "!pip install transformers==2.11.0"
      ]
    },
    {
      "cell_type": "code",
      "execution_count": 2,
      "metadata": {
        "id": "7qYbt8zAvzEF"
      },
      "outputs": [],
      "source": [
        "import json\n",
        "import torch\n",
        "import numpy as np\n",
        "from torch import nn\n",
        "import torch.nn.functional as F\n",
        "from torch.utils.data import DataLoader\n",
        "from transformers import BertTokenizerFast, BertModel, BertPreTrainedModel, AdamW\n",
        "import matplotlib.pyplot as plt"
      ]
    },
    {
      "cell_type": "code",
      "execution_count": 3,
      "metadata": {
        "colab": {
          "base_uri": "https://localhost:8080/"
        },
        "id": "PPjKyF4AE4di",
        "outputId": "55a33383-4827-4a64-c66c-6f5b3c10b385"
      },
      "outputs": [
        {
          "output_type": "stream",
          "name": "stdout",
          "text": [
            "Drive already mounted at /content/drive; to attempt to forcibly remount, call drive.mount(\"/content/drive\", force_remount=True).\n",
            "/content/drive/My Drive/NLP\n"
          ]
        }
      ],
      "source": [
        "from google.colab import drive\n",
        "drive.mount('/content/drive')\n",
        "%cd '/content/drive/My Drive/NLP/'"
      ]
    },
    {
      "cell_type": "code",
      "execution_count": 4,
      "metadata": {
        "id": "UVFMh87Nv8KS",
        "colab": {
          "base_uri": "https://localhost:8080/",
          "height": 49,
          "referenced_widgets": [
            "ed2b366c66844745a8479c9f8f29758c",
            "854a39a7ec5d4427b868678f56fed727",
            "08ddcb70cee8499cb9316398973fd2a9",
            "fa387bae565b4995a72de555eaf3ba10",
            "e14e5c5886d64d62ae66118a589d7eff",
            "7c8e18a2cfcb4692b8e9caedd8766a97",
            "794649b1b850466c8a1a0adabb93c9cd",
            "19b287af32a74db5b0121ad8c4f34c1b",
            "d70b43f9b58e4777a6617545633294cf",
            "58fec5dc76694d9aa6840ba060fdd683",
            "85aa74587bf44043990e58ff3e0a1a1a"
          ]
        },
        "outputId": "ec314e47-dd07-425d-8d14-7a31f23f1b02"
      },
      "outputs": [
        {
          "output_type": "display_data",
          "data": {
            "text/plain": [
              "Downloading:   0%|          | 0.00/232k [00:00<?, ?B/s]"
            ],
            "application/vnd.jupyter.widget-view+json": {
              "version_major": 2,
              "version_minor": 0,
              "model_id": "ed2b366c66844745a8479c9f8f29758c"
            }
          },
          "metadata": {}
        }
      ],
      "source": [
        "np.random.seed(42)\n",
        "torch.manual_seed(42)\n",
        "torch.cuda.manual_seed(42)\n",
        "\n",
        "DEVICE = torch.device('cuda') if torch.cuda.is_available() else torch.device('cpu')\n",
        "tokenizer = BertTokenizerFast.from_pretrained('bert-base-uncased', do_lower_case=True)"
      ]
    },
    {
      "cell_type": "code",
      "execution_count": 5,
      "metadata": {
        "id": "kCtApFNbwLHD"
      },
      "outputs": [],
      "source": [
        "class Bert_QA_Model(nn.Module):\n",
        "\n",
        "    def __init__(self, freeze = 0):\n",
        "        super(Bert_QA_Model, self).__init__()\n",
        "\n",
        "        self.bert = BertModel.from_pretrained(\"bert-base-uncased\")\n",
        "        self.hidden_size = self.bert.config.hidden_size\n",
        "        self.start_lin = nn.Linear(self.hidden_size, 1)\n",
        "        self.end_lin = nn.Linear(self.hidden_size, 1)\n",
        "\n",
        "        if freeze != 0:\n",
        "          for param in list(self.bert.embeddings.parameters()):\n",
        "              param.requires_grad = False\n",
        "                \n",
        "          for i in range(1, 1 + freeze):\n",
        "              for param in list(self.bert.encoder.layer[i].parameters()):\n",
        "                  param.requires_grad = False\n",
        "\n",
        "\n",
        "    def forward(self, input_ids=None, attention_mask=None, token_type_ids=None):\n",
        "        hidden = self.bert(input_ids=input_ids, attention_mask=attention_mask, token_type_ids=token_type_ids)[0]\n",
        "        start_log = self.start_lin(hidden).squeeze(-1)\n",
        "        start_p = F.log_softmax(start_log, dim=1)\n",
        "        end_log = self.end_lin(hidden).squeeze(-1) \n",
        "        end_p = F.log_softmax(end_log, dim=1)\n",
        "\n",
        "        return start_p, end_p"
      ]
    },
    {
      "cell_type": "code",
      "execution_count": 6,
      "metadata": {
        "id": "lRoV2LFtxCGv",
        "colab": {
          "base_uri": "https://localhost:8080/",
          "height": 81,
          "referenced_widgets": [
            "459f18f51afa46d28adc5186c216fbe9",
            "4458c24477ce41b9b97981410362ce32",
            "06324a5ab3e4404c82e1d25e7e0a9f79",
            "5e40f5bbb98a40309759c710f4ff6267",
            "89bec8022a384520bb1f14b47b206d99",
            "0bce3487dd934f22b64842625c5fbb04",
            "d00e1a53acaf4f8cac97621da2bf62e5",
            "1b1a4ab223d24c78b4e376ce3ceb1274",
            "719e80ef799741a899f017352d123b9f",
            "2ea042ab1b644a80846b9f703c5dfb0e",
            "506dbe05787b4f3e92b4efefa9915e13",
            "b6431521e41b47088e05a824196355f3",
            "8888dddb43a743488aec23f42473d5ac",
            "253e33ea79c7478683af337dfdae2258",
            "8c1b824fc10542009e958216920ffcb5",
            "995d41a59f7b46e094268e8a4a30c61e",
            "b29ad8a5b0b04b8b80120c78dfce07c1",
            "98779a9d2d0a4931abeb775dfe1db101",
            "aa7d445ce76749c5b65a62197bb7bbf4",
            "3323fa581944495e9f2796d6321cbe53",
            "c401faabfadc49bf878eb4942c5e57c4",
            "280b256256164674a6b2c8ade5fddb26"
          ]
        },
        "outputId": "0936cca9-f414-4441-f3e7-732ebb049c5c"
      },
      "outputs": [
        {
          "output_type": "display_data",
          "data": {
            "text/plain": [
              "Downloading:   0%|          | 0.00/433 [00:00<?, ?B/s]"
            ],
            "application/vnd.jupyter.widget-view+json": {
              "version_major": 2,
              "version_minor": 0,
              "model_id": "459f18f51afa46d28adc5186c216fbe9"
            }
          },
          "metadata": {}
        },
        {
          "output_type": "display_data",
          "data": {
            "text/plain": [
              "Downloading:   0%|          | 0.00/440M [00:00<?, ?B/s]"
            ],
            "application/vnd.jupyter.widget-view+json": {
              "version_major": 2,
              "version_minor": 0,
              "model_id": "b6431521e41b47088e05a824196355f3"
            }
          },
          "metadata": {}
        }
      ],
      "source": [
        "m_1 = Bert_QA_Model()\n",
        "m_2 = Bert_QA_Model(2)\n",
        "m_3 = Bert_QA_Model(4)\n",
        "m_4 = Bert_QA_Model(8)"
      ]
    },
    {
      "cell_type": "code",
      "execution_count": 7,
      "metadata": {
        "id": "vCATwB0IdEpf"
      },
      "outputs": [],
      "source": [
        "def squad_to_lists(file_name, cutsize=False):\n",
        "    with open(file_name, 'r') as file:\n",
        "        data = json.load(file)\n",
        "\n",
        "    que, con, ans, que_id = [], [], [], []\n",
        "\n",
        "    for i in range(0,len(data['data']), 5):\n",
        "      for p in range(0, len(data['data'][i]['paragraphs']), 2): \n",
        "\n",
        "          context = data['data'][i]['paragraphs'][p]['context']\n",
        "          for q in range(0, len(data['data'][i]['paragraphs'][p]['qas']), 1): \n",
        "\n",
        "              question = data['data'][i]['paragraphs'][p]['qas'][q]['question']\n",
        "              question_id = data['data'][i]['paragraphs'][p]['qas'][q][\"id\"]\n",
        "              temp = data['data'][i]['paragraphs'][p]['qas'][q]['answers']\n",
        "              answer = temp[0] if temp else {\"answer_end\": 0, \"answer_start\": 0}\n",
        "\n",
        "              if temp:\n",
        "                answer[\"answer_end\"] = answer[\"answer_start\"] + len(answer[\"text\"])\n",
        "\n",
        "              con.append(context)\n",
        "              que.append(question)                    \n",
        "              ans.append(answer)\n",
        "              que_id.append(question_id)\n",
        "\n",
        "    return que, con, ans, que_id"
      ]
    },
    {
      "cell_type": "code",
      "execution_count": 8,
      "metadata": {
        "id": "6CNb7jbBExEp"
      },
      "outputs": [],
      "source": [
        "train_que, train_con, train_ans, _ = squad_to_lists('train-v2.0.json', True)\n",
        "dev_que, dev_con, dev_ans, dev_que_id = squad_to_lists('dev-v2.0.json',True)"
      ]
    },
    {
      "cell_type": "code",
      "execution_count": 9,
      "metadata": {
        "colab": {
          "base_uri": "https://localhost:8080/"
        },
        "id": "Khnz2HldKNOb",
        "outputId": "685bc953-b0bf-430d-9764-a8d4aaccf84f"
      },
      "outputs": [
        {
          "output_type": "stream",
          "name": "stdout",
          "text": [
            "12941\n"
          ]
        }
      ],
      "source": [
        "print(len(train_que))"
      ]
    },
    {
      "cell_type": "code",
      "execution_count": 10,
      "metadata": {
        "id": "LXJgqKq3LIFZ"
      },
      "outputs": [],
      "source": [
        "zipped_train = list(zip(train_con, train_que))\n",
        "zipped_dev = list(zip(dev_con, dev_que))\n",
        "\n",
        "train_encod = tokenizer.batch_encode_plus(zipped_train, max_length=tokenizer.model_max_length, pad_to_max_length=True, return_token_type_ids=True)\n",
        "\n",
        "dev_encod = tokenizer.batch_encode_plus(zipped_dev, max_length=tokenizer.model_max_length, pad_to_max_length=True, return_token_type_ids=True)"
      ]
    },
    {
      "cell_type": "code",
      "execution_count": 11,
      "metadata": {
        "id": "uO3-MsJ3N4Bk"
      },
      "outputs": [],
      "source": [
        "def tok_dict_pos(tokenizer, encodings, answers):\n",
        "    start_pos = []\n",
        "    end_pos = []\n",
        "    \n",
        "    for i in range(len(answers)):\n",
        "\n",
        "        start_pos.append(encodings.char_to_token(i, answers[i]['answer_start']) if answers[i]['answer_end'] != 0 else 0)\n",
        "        end_pos.append(encodings.char_to_token(i, answers[i]['answer_end'] - 1) if answers[i]['answer_end'] != 0 else 0)    \n",
        "        \n",
        "        start_pos[-1] = tokenizer.model_max_length if start_pos[-1] is None else start_pos[-1]\n",
        "        end_pos[-1] = tokenizer.model_max_length if end_pos[-1] is None else end_pos[-1]\n",
        "    \n",
        "    encodings.update({'start_positions': start_pos, 'end_positions': end_pos})\n"
      ]
    },
    {
      "cell_type": "code",
      "execution_count": 12,
      "metadata": {
        "id": "XIqRZGKLPBUZ"
      },
      "outputs": [],
      "source": [
        "tok_dict_pos(tokenizer, train_encod, train_ans)\n",
        "tok_dict_pos(tokenizer,dev_encod, dev_ans)"
      ]
    },
    {
      "cell_type": "code",
      "execution_count": 13,
      "metadata": {
        "id": "KStrzdbKQ06I"
      },
      "outputs": [],
      "source": [
        "class Squad_ds(torch.utils.data.Dataset):\n",
        "    \n",
        "  def __init__(self, encodings):\n",
        "    self.encodings = encodings\n",
        "    self.length = len(self.encodings.input_ids)\n",
        "\n",
        "  def __getitem__(self, idx):\n",
        "    res = {}\n",
        "    for key, val in self.encodings.items():\n",
        "      res[key] = torch.tensor(val[idx])\n",
        "\n",
        "    return res\n",
        "\n",
        "  def __len__(self):\n",
        "    return self.length"
      ]
    },
    {
      "cell_type": "code",
      "execution_count": 14,
      "metadata": {
        "id": "Bti8m3VDQ2aW"
      },
      "outputs": [],
      "source": [
        "train_data_loader = DataLoader(Squad_ds(train_encod), batch_size=6, shuffle=True)\n",
        "\n",
        "dev_data_loader = DataLoader(Squad_ds(dev_encod), batch_size=6, shuffle=False)"
      ]
    },
    {
      "cell_type": "code",
      "source": [
        "def get_batch_params(batch):\n",
        "    start_positions = batch['start_positions'].to(DEVICE)\n",
        "    end_positions = batch['end_positions'].to(DEVICE)\n",
        "    token_type_ids = batch['token_type_ids'].to(DEVICE)\n",
        "    attention_mask = batch['attention_mask'].to(DEVICE)\n",
        "    input_ids = batch['input_ids'].to(DEVICE)\n",
        "\n",
        "    return start_positions, end_positions, token_type_ids, attention_mask, input_ids\n"
      ],
      "metadata": {
        "id": "CnXjrAgfUVt8"
      },
      "execution_count": 15,
      "outputs": []
    },
    {
      "cell_type": "code",
      "execution_count": 16,
      "metadata": {
        "id": "NRWym9m4XWYo"
      },
      "outputs": [],
      "source": [
        "def evaluate(model, loader, ignored_index):\n",
        "    answers = []\n",
        "    total_dev_loss = 0\n",
        "\n",
        "    with torch.no_grad():\n",
        "\n",
        "        for b in loader:\n",
        "            start_positions, end_positions, token_type_ids, attention_mask, input_ids = get_batch_params(b)\n",
        "\n",
        "            start_o, end_o = model(input_ids=input_ids, attention_mask=attention_mask, token_type_ids=token_type_ids) \n",
        "\n",
        "            start_loss = F.nll_loss(start_o, start_positions, ignore_index=ignored_index)\n",
        "            end_loss = F.nll_loss(end_o, end_positions, ignore_index=ignored_index)\n",
        "\n",
        "            total_loss = (start_loss + end_loss) / 2\n",
        "            total_dev_loss += total_loss.item()\n",
        "            start_pred = torch.argmax(start_o.detach().cpu(), dim=1).tolist()\n",
        "            end_pred = torch.argmax(end_o.detach().cpu(), dim=1).tolist()\n",
        "            input_ids = input_ids.detach().cpu().tolist()\n",
        "            cls_t = [tokenizer.cls_token_id]\n",
        "\n",
        "            for current_input_ids, start_p, end_p in zip(input_ids, start_pred, end_pred):\n",
        "\n",
        "                ans_tokens = current_input_ids[start_p: end_p + 1]\n",
        "\n",
        "                if cls_t != ans_tokens and cls_t[0] in ans_tokens:\n",
        "                    del ans_tokens[0]\n",
        "                \n",
        "                if cls_t == ans_tokens:\n",
        "                    answers.append('')\n",
        "                else:\n",
        "                    answers.append(tokenizer.convert_tokens_to_string(ans_tokens))\n",
        "\n",
        "    return total_dev_loss / len(loader), answers"
      ]
    },
    {
      "cell_type": "code",
      "execution_count": 17,
      "metadata": {
        "id": "dxo0VGLdrcSF"
      },
      "outputs": [],
      "source": [
        "def print_eval(questions_ids, predictions, epoch):\n",
        "    \n",
        "    preds = {key: val for key, val in zip(questions_ids, predictions)}\n",
        "\n",
        "    with open('./preds_model.json', 'w') as outfile:\n",
        "        json.dump(preds, outfile)\n",
        "\n",
        "    abc = !python3 evaluate-v2.0-40.py ./dev-v2.0.json ./preds_model.json\n",
        "\n",
        "    abc = eval(''.join(abc))\n",
        "\n",
        "    for key, val in abc.items():\n",
        "      abc[key] = np.round(val, 2)\n",
        "    \n",
        "    return (epoch, abc)"
      ]
    },
    {
      "cell_type": "code",
      "execution_count": 18,
      "metadata": {
        "id": "4Ru-4faYEaYK"
      },
      "outputs": [],
      "source": [
        "if torch.cuda.is_available():\n",
        "    m_1.cuda()\n",
        "    m_2.cuda()\n",
        "    m_3.cuda()\n",
        "    m_4.cuda()"
      ]
    },
    {
      "cell_type": "code",
      "execution_count": 19,
      "metadata": {
        "id": "CCba6tMtEaYK"
      },
      "outputs": [],
      "source": [
        "opti1 = AdamW(m_1.parameters(), lr=4e-5)\n",
        "opti2 = AdamW(m_2.parameters(), lr=4e-5)\n",
        "opti3 = AdamW(m_3.parameters(), lr=4e-5)\n",
        "opti4 = AdamW(m_4.parameters(), lr=4e-5)"
      ]
    },
    {
      "cell_type": "code",
      "execution_count": 20,
      "metadata": {
        "id": "pEb4UCpbEaYK"
      },
      "outputs": [],
      "source": [
        "def train(model, train_loader, dev_loader, optimizer, ignored_index, epochs=3):\n",
        "\n",
        "    train_loss, dev_loss = [], []\n",
        "    \n",
        "    lr = optimizer.param_groups[0]['lr']\n",
        "    initial_dev_loss, preds = evaluate(model, dev_loader, ignored_index)\n",
        "    dev_loss.append(initial_dev_loss)\n",
        "    dicts=[]\n",
        "    \n",
        "    dicts.append(print_eval(dev_que_id, preds, 0))\n",
        "    print(dicts[-1])\n",
        "\n",
        "    for e in range(epochs):\n",
        "        model.train()\n",
        "        total_train_loss = 0\n",
        "        sum_loss = 0\n",
        "\n",
        "        for batch_idx, b in enumerate(train_loader):\n",
        "            optimizer.zero_grad()\n",
        "            start_positions, end_positions, token_type_ids, attention_mask, input_ids = get_batch_params(b)\n",
        "            start_o, end_o = model(input_ids=input_ids, attention_mask=attention_mask, token_type_ids=token_type_ids)\n",
        "\n",
        "            start_loss = F.nll_loss(start_o, start_positions, ignore_index=ignored_index)\n",
        "            end_loss = F.nll_loss(end_o, end_positions, ignore_index=ignored_index)\n",
        "            total_loss = (start_loss + end_loss) / 2\n",
        "            \n",
        "            total_train_loss += total_loss.item()\n",
        "            sum_loss += total_loss.item()\n",
        "\n",
        "            total_loss.backward()\n",
        "            optimizer.step()\n",
        "        \n",
        "        avg_train_loss = total_train_loss / len(train_loader)            \n",
        "        train_loss.append(avg_train_loss)\n",
        "\n",
        "        model.eval()\n",
        "\n",
        "        avg_dev_loss, preds = evaluate(model, dev_loader, ignored_index)\n",
        "        dev_loss.append(avg_dev_loss)\n",
        "        \n",
        "        dicts.append(print_eval(dev_que_id, preds, e + 1))\n",
        "        print(dicts[-1])\n",
        "\n",
        "    return dicts, train_loss, dev_loss\n"
      ]
    },
    {
      "cell_type": "code",
      "execution_count": 21,
      "metadata": {
        "colab": {
          "base_uri": "https://localhost:8080/"
        },
        "id": "470Nd0PWEaYL",
        "outputId": "1878d094-abed-4d61-f7c9-b72c75d8f3cb"
      },
      "outputs": [
        {
          "output_type": "stream",
          "name": "stdout",
          "text": [
            "(0, {'exact': 21.68, 'f1': 23.13, 'total': 1213, 'HasAns_exact': 0.0, 'HasAns_f1': 3.02, 'HasAns_total': 579, 'NoAns_exact': 41.48, 'NoAns_f1': 41.48, 'NoAns_total': 634})\n",
            "(1, {'exact': 56.22, 'f1': 58.51, 'total': 1213, 'HasAns_exact': 29.71, 'HasAns_f1': 34.5, 'HasAns_total': 579, 'NoAns_exact': 80.44, 'NoAns_f1': 80.44, 'NoAns_total': 634})\n",
            "(2, {'exact': 58.2, 'f1': 61.07, 'total': 1213, 'HasAns_exact': 43.52, 'HasAns_f1': 49.54, 'HasAns_total': 579, 'NoAns_exact': 71.61, 'NoAns_f1': 71.61, 'NoAns_total': 634})\n",
            "(3, {'exact': 56.47, 'f1': 61.11, 'total': 1213, 'HasAns_exact': 51.64, 'HasAns_f1': 61.35, 'HasAns_total': 579, 'NoAns_exact': 60.88, 'NoAns_f1': 60.88, 'NoAns_total': 634})\n"
          ]
        }
      ],
      "source": [
        "dicts1, train_epochs_loss1, dev_epochs_loss1 = train(m_1, train_data_loader, dev_data_loader, opti1, ignored_index=tokenizer.model_max_length)"
      ]
    },
    {
      "cell_type": "code",
      "execution_count": 22,
      "metadata": {
        "colab": {
          "base_uri": "https://localhost:8080/"
        },
        "id": "fYN6jn5YGdUT",
        "outputId": "499ffa56-598e-46c1-f80b-4c9898589a22"
      },
      "outputs": [
        {
          "output_type": "stream",
          "name": "stdout",
          "text": [
            "(0, {'exact': 22.18, 'f1': 23.25, 'total': 1213, 'HasAns_exact': 0.0, 'HasAns_f1': 2.24, 'HasAns_total': 579, 'NoAns_exact': 42.43, 'NoAns_f1': 42.43, 'NoAns_total': 634})\n",
            "(1, {'exact': 55.32, 'f1': 58.41, 'total': 1213, 'HasAns_exact': 41.97, 'HasAns_f1': 48.45, 'HasAns_total': 579, 'NoAns_exact': 67.51, 'NoAns_f1': 67.51, 'NoAns_total': 634})\n",
            "(2, {'exact': 58.45, 'f1': 61.77, 'total': 1213, 'HasAns_exact': 48.36, 'HasAns_f1': 55.31, 'HasAns_total': 579, 'NoAns_exact': 67.67, 'NoAns_f1': 67.67, 'NoAns_total': 634})\n",
            "(3, {'exact': 60.84, 'f1': 64.55, 'total': 1213, 'HasAns_exact': 50.43, 'HasAns_f1': 58.21, 'HasAns_total': 579, 'NoAns_exact': 70.35, 'NoAns_f1': 70.35, 'NoAns_total': 634})\n"
          ]
        }
      ],
      "source": [
        "dicts2, train_epochs_loss2, dev_epochs_loss2 = train(m_2, train_data_loader, dev_data_loader, opti2, ignored_index=tokenizer.model_max_length)"
      ]
    },
    {
      "cell_type": "code",
      "execution_count": 23,
      "metadata": {
        "id": "Ox_W3kqK2CPb",
        "colab": {
          "base_uri": "https://localhost:8080/"
        },
        "outputId": "76b58259-ce3f-4498-89b5-6583560c3fc1"
      },
      "outputs": [
        {
          "output_type": "stream",
          "name": "stdout",
          "text": [
            "(0, {'exact': 21.68, 'f1': 23.47, 'total': 1213, 'HasAns_exact': 0.0, 'HasAns_f1': 3.74, 'HasAns_total': 579, 'NoAns_exact': 41.48, 'NoAns_f1': 41.48, 'NoAns_total': 634})\n",
            "(1, {'exact': 53.83, 'f1': 57.79, 'total': 1213, 'HasAns_exact': 55.61, 'HasAns_f1': 63.9, 'HasAns_total': 579, 'NoAns_exact': 52.21, 'NoAns_f1': 52.21, 'NoAns_total': 634})\n",
            "(2, {'exact': 59.11, 'f1': 62.46, 'total': 1213, 'HasAns_exact': 46.98, 'HasAns_f1': 53.99, 'HasAns_total': 579, 'NoAns_exact': 70.19, 'NoAns_f1': 70.19, 'NoAns_total': 634})\n",
            "(3, {'exact': 56.06, 'f1': 60.43, 'total': 1213, 'HasAns_exact': 48.19, 'HasAns_f1': 57.34, 'HasAns_total': 579, 'NoAns_exact': 63.25, 'NoAns_f1': 63.25, 'NoAns_total': 634})\n"
          ]
        }
      ],
      "source": [
        "dicts3, train_epochs_loss3, dev_epochs_loss3 = train(m_3, train_data_loader, dev_data_loader, opti3, ignored_index=tokenizer.model_max_length)"
      ]
    },
    {
      "cell_type": "code",
      "execution_count": 24,
      "metadata": {
        "id": "XXQHmoLNlCRs",
        "colab": {
          "base_uri": "https://localhost:8080/"
        },
        "outputId": "e4794ee4-2d90-4be8-b313-716275d57459"
      },
      "outputs": [
        {
          "output_type": "stream",
          "name": "stdout",
          "text": [
            "(0, {'exact': 20.12, 'f1': 21.71, 'total': 1213, 'HasAns_exact': 0.0, 'HasAns_f1': 3.34, 'HasAns_total': 579, 'NoAns_exact': 38.49, 'NoAns_f1': 38.49, 'NoAns_total': 634})\n",
            "(1, {'exact': 52.02, 'f1': 54.11, 'total': 1213, 'HasAns_exact': 24.87, 'HasAns_f1': 29.25, 'HasAns_total': 579, 'NoAns_exact': 76.81, 'NoAns_f1': 76.81, 'NoAns_total': 634})\n",
            "(2, {'exact': 50.87, 'f1': 55.08, 'total': 1213, 'HasAns_exact': 42.14, 'HasAns_f1': 50.96, 'HasAns_total': 579, 'NoAns_exact': 58.83, 'NoAns_f1': 58.83, 'NoAns_total': 634})\n",
            "(3, {'exact': 54.08, 'f1': 57.77, 'total': 1213, 'HasAns_exact': 35.41, 'HasAns_f1': 43.13, 'HasAns_total': 579, 'NoAns_exact': 71.14, 'NoAns_f1': 71.14, 'NoAns_total': 634})\n"
          ]
        }
      ],
      "source": [
        "dicts4, train_epochs_loss4, dev_epochs_loss4 = train(m_4, train_data_loader, dev_data_loader, opti4, ignored_index=tokenizer.model_max_length)"
      ]
    },
    {
      "cell_type": "code",
      "execution_count": 25,
      "metadata": {
        "id": "ikX_K6F7Zre7"
      },
      "outputs": [],
      "source": [
        "def draw_graph(dicts, title):\n",
        "  y_max = int(max([x[1][y] for (_ ,t, y) in dicts for x in t]))\n",
        "  y_min = int(min([x[1][y] for (_ ,t, y) in dicts for x in t]))\n",
        "\n",
        "  for line in dicts:\n",
        "    ep = list(range(1,len(line[1]) + 1))\n",
        "    by_key = [x[1][line[2]] for x in line[1]]\n",
        "    plt.plot(ep, by_key, \"o:\", label=line[0])\n",
        "    \n",
        "    for i, txt in zip(ep, by_key):\n",
        "      plt.annotate(str(np.round(txt,2)), (i, txt + 0.2))\n",
        "  \n",
        "  plt.yticks(list(range(y_min - 5, y_max + 10, 5)))\n",
        "  plt.ylabel(\"score\")\n",
        "  plt.xlabel(\"epoch\")\n",
        "  plt.title(title)\n",
        "  plt.xticks(ep)\n",
        "\n",
        "  plt.legend()\n",
        "  plt.show()"
      ]
    },
    {
      "cell_type": "code",
      "execution_count": 26,
      "metadata": {
        "id": "Hp7lIJkzZxp7"
      },
      "outputs": [],
      "source": [
        "def draw_graph_train_loss(ls, title):\n",
        "  y_max = int(max(ls))\n",
        "  y_min = int(min(ls))\n",
        "  ep = list(range(1,len(ls) + 1))\n",
        "  plt.plot(ep, ls)\n",
        "  \n",
        "  for i, txt in zip(ep, ls):\n",
        "    plt.annotate(str(np.round(txt,2)), (i, txt + 0.2))\n",
        "  \n",
        "  plt.yticks(list(range(y_min - 1, y_max + 4, 2)))\n",
        "  plt.ylabel(\"score\")\n",
        "  plt.xlabel(\"epoch\")\n",
        "  plt.title(title)\n",
        "  plt.xticks(ep)\n",
        "  \n",
        "  plt.show()"
      ]
    },
    {
      "cell_type": "code",
      "execution_count": 27,
      "metadata": {
        "id": "yLE3YqIhZ1hz",
        "colab": {
          "base_uri": "https://localhost:8080/",
          "height": 1000
        },
        "outputId": "3d2c6d6f-858e-43a2-8cce-9825f56d2179"
      },
      "outputs": [
        {
          "output_type": "display_data",
          "data": {
            "text/plain": [
              "<Figure size 432x288 with 1 Axes>"
            ],
            "image/png": "[encoded data removed]"
          },
          "metadata": {
            "needs_background": "light"
          }
        },
        {
          "output_type": "stream",
          "name": "stdout",
          "text": [
            "\n"
          ]
        },
        {
          "output_type": "display_data",
          "data": {
            "text/plain": [
              "<Figure size 432x288 with 1 Axes>"
            ],
            "image/png": "[encoded data removed]"
          },
          "metadata": {
            "needs_background": "light"
          }
        },
        {
          "output_type": "stream",
          "name": "stdout",
          "text": [
            "\n",
            "\n",
            "\n"
          ]
        },
        {
          "output_type": "display_data",
          "data": {
            "text/plain": [
              "<Figure size 432x288 with 1 Axes>"
            ],
            "image/png": "[encoded data removed]"
          },
          "metadata": {
            "needs_background": "light"
          }
        },
        {
          "output_type": "stream",
          "name": "stdout",
          "text": [
            "\n"
          ]
        },
        {
          "output_type": "display_data",
          "data": {
            "text/plain": [
              "<Figure size 432x288 with 1 Axes>"
            ],
            "image/png": "[encoded data removed]"
          },
          "metadata": {
            "needs_background": "light"
          }
        },
        {
          "output_type": "stream",
          "name": "stdout",
          "text": [
            "\n",
            "\n",
            "\n"
          ]
        },
        {
          "output_type": "display_data",
          "data": {
            "text/plain": [
              "<Figure size 432x288 with 1 Axes>"
            ],
            "image/png": "[encoded data removed]"
          },
          "metadata": {
            "needs_background": "light"
          }
        },
        {
          "output_type": "stream",
          "name": "stdout",
          "text": [
            "\n"
          ]
        },
        {
          "output_type": "display_data",
          "data": {
            "text/plain": [
              "<Figure size 432x288 with 1 Axes>"
            ],
            "image/png": "[encoded data removed]"
          },
          "metadata": {
            "needs_background": "light"
          }
        },
        {
          "output_type": "stream",
          "name": "stdout",
          "text": [
            "\n",
            "\n",
            "\n"
          ]
        },
        {
          "output_type": "display_data",
          "data": {
            "text/plain": [
              "<Figure size 432x288 with 1 Axes>"
            ],
            "image/png": "[encoded data removed]"
          },
          "metadata": {
            "needs_background": "light"
          }
        },
        {
          "output_type": "stream",
          "name": "stdout",
          "text": [
            "\n"
          ]
        },
        {
          "output_type": "display_data",
          "data": {
            "text/plain": [
              "<Figure size 432x288 with 1 Axes>"
            ],
            "image/png": "[encoded data removed]"
          },
          "metadata": {
            "needs_background": "light"
          }
        },
        {
          "output_type": "stream",
          "name": "stdout",
          "text": [
            "\n",
            "\n",
            "\n"
          ]
        }
      ],
      "source": [
        "all_dicts = [dicts1[1:], dicts2[1:], dicts3[1:], dicts4[1:]]\n",
        "train_loss = [train_epochs_loss1, train_epochs_loss2, train_epochs_loss3, train_epochs_loss4]\n",
        "for i, freez in enumerate([0,2,4,8]):\n",
        "  graph = [(\"EM\",all_dicts[i],\"exact\"), (\"f1\",all_dicts[i],\"f1\")]\n",
        "  draw_graph(graph, \"freez \" + str(freez))\n",
        "  print()\n",
        "  draw_graph_train_loss(train_loss[i], \"train loss, freez \" + str(freez))\n",
        "  print()\n",
        "  print()\n",
        "  print()"
      ]
    }
  ],
  "metadata": {
    "accelerator": "GPU",
    "colab": {
      "collapsed_sections": [],
      "machine_shape": "hm",
      "name": "NLP_final_project_NivNisanov_LiranGoldstein_copy.ipynb",
      "provenance": []
    },
    "gpuClass": "standard",
    "kernelspec": {
      "display_name": "Python 3",
      "language": "python",
      "name": "python3"
    },
    "language_info": {
      "codemirror_mode": {
        "name": "ipython",
        "version": 3
      },
      "file_extension": ".py",
      "mimetype": "text/x-python",
      "name": "python",
      "nbconvert_exporter": "python",
      "pygments_lexer": "ipython3",
      "version": "3.8.5"
    },
    "widgets": {
      "application/vnd.jupyter.widget-state+json": {
        "ed2b366c66844745a8479c9f8f29758c": {
          "model_module": "@jupyter-widgets/controls",
          "model_name": "HBoxModel",
          "model_module_version": "1.5.0",
          "state": {
            "_dom_classes": [],
            "_model_module": "@jupyter-widgets/controls",
            "_model_module_version": "1.5.0",
            "_model_name": "HBoxModel",
            "_view_count": null,
            "_view_module": "@jupyter-widgets/controls",
            "_view_module_version": "1.5.0",
            "_view_name": "HBoxView",
            "box_style": "",
            "children": [
              "IPY_MODEL_854a39a7ec5d4427b868678f56fed727",
              "IPY_MODEL_08ddcb70cee8499cb9316398973fd2a9",
              "IPY_MODEL_fa387bae565b4995a72de555eaf3ba10"
            ],
            "layout": "IPY_MODEL_e14e5c5886d64d62ae66118a589d7eff"
          }
        },
        "854a39a7ec5d4427b868678f56fed727": {
          "model_module": "@jupyter-widgets/controls",
          "model_name": "HTMLModel",
          "model_module_version": "1.5.0",
          "state": {
            "_dom_classes": [],
            "_model_module": "@jupyter-widgets/controls",
            "_model_module_version": "1.5.0",
            "_model_name": "HTMLModel",
            "_view_count": null,
            "_view_module": "@jupyter-widgets/controls",
            "_view_module_version": "1.5.0",
            "_view_name": "HTMLView",
            "description": "",
            "description_tooltip": null,
            "layout": "IPY_MODEL_7c8e18a2cfcb4692b8e9caedd8766a97",
            "placeholder": "​",
            "style": "IPY_MODEL_794649b1b850466c8a1a0adabb93c9cd",
            "value": "Downloading: 100%"
          }
        },
        "08ddcb70cee8499cb9316398973fd2a9": {
          "model_module": "@jupyter-widgets/controls",
          "model_name": "FloatProgressModel",
          "model_module_version": "1.5.0",
          "state": {
            "_dom_classes": [],
            "_model_module": "@jupyter-widgets/controls",
            "_model_module_version": "1.5.0",
            "_model_name": "FloatProgressModel",
            "_view_count": null,
            "_view_module": "@jupyter-widgets/controls",
            "_view_module_version": "1.5.0",
            "_view_name": "ProgressView",
            "bar_style": "success",
            "description": "",
            "description_tooltip": null,
            "layout": "IPY_MODEL_19b287af32a74db5b0121ad8c4f34c1b",
            "max": 231508,
            "min": 0,
            "orientation": "horizontal",
            "style": "IPY_MODEL_d70b43f9b58e4777a6617545633294cf",
            "value": 231508
          }
        },
        "fa387bae565b4995a72de555eaf3ba10": {
          "model_module": "@jupyter-widgets/controls",
          "model_name": "HTMLModel",
          "model_module_version": "1.5.0",
          "state": {
            "_dom_classes": [],
            "_model_module": "@jupyter-widgets/controls",
            "_model_module_version": "1.5.0",
            "_model_name": "HTMLModel",
            "_view_count": null,
            "_view_module": "@jupyter-widgets/controls",
            "_view_module_version": "1.5.0",
            "_view_name": "HTMLView",
            "description": "",
            "description_tooltip": null,
            "layout": "IPY_MODEL_58fec5dc76694d9aa6840ba060fdd683",
            "placeholder": "​",
            "style": "IPY_MODEL_85aa74587bf44043990e58ff3e0a1a1a",
            "value": " 232k/232k [00:00&lt;00:00, 256kB/s]"
          }
        },
        "e14e5c5886d64d62ae66118a589d7eff": {
          "model_module": "@jupyter-widgets/base",
          "model_name": "LayoutModel",
          "model_module_version": "1.2.0",
          "state": {
            "_model_module": "@jupyter-widgets/base",
            "_model_module_version": "1.2.0",
            "_model_name": "LayoutModel",
            "_view_count": null,
            "_view_module": "@jupyter-widgets/base",
            "_view_module_version": "1.2.0",
            "_view_name": "LayoutView",
            "align_content": null,
            "align_items": null,
            "align_self": null,
            "border": null,
            "bottom": null,
            "display": null,
            "flex": null,
            "flex_flow": null,
            "grid_area": null,
            "grid_auto_columns": null,
            "grid_auto_flow": null,
            "grid_auto_rows": null,
            "grid_column": null,
            "grid_gap": null,
            "grid_row": null,
            "grid_template_areas": null,
            "grid_template_columns": null,
            "grid_template_rows": null,
            "height": null,
            "justify_content": null,
            "justify_items": null,
            "left": null,
            "margin": null,
            "max_height": null,
            "max_width": null,
            "min_height": null,
            "min_width": null,
            "object_fit": null,
            "object_position": null,
            "order": null,
            "overflow": null,
            "overflow_x": null,
            "overflow_y": null,
            "padding": null,
            "right": null,
            "top": null,
            "visibility": null,
            "width": null
          }
        },
        "7c8e18a2cfcb4692b8e9caedd8766a97": {
          "model_module": "@jupyter-widgets/base",
          "model_name": "LayoutModel",
          "model_module_version": "1.2.0",
          "state": {
            "_model_module": "@jupyter-widgets/base",
            "_model_module_version": "1.2.0",
            "_model_name": "LayoutModel",
            "_view_count": null,
            "_view_module": "@jupyter-widgets/base",
            "_view_module_version": "1.2.0",
            "_view_name": "LayoutView",
            "align_content": null,
            "align_items": null,
            "align_self": null,
            "border": null,
            "bottom": null,
            "display": null,
            "flex": null,
            "flex_flow": null,
            "grid_area": null,
            "grid_auto_columns": null,
            "grid_auto_flow": null,
            "grid_auto_rows": null,
            "grid_column": null,
            "grid_gap": null,
            "grid_row": null,
            "grid_template_areas": null,
            "grid_template_columns": null,
            "grid_template_rows": null,
            "height": null,
            "justify_content": null,
            "justify_items": null,
            "left": null,
            "margin": null,
            "max_height": null,
            "max_width": null,
            "min_height": null,
            "min_width": null,
            "object_fit": null,
            "object_position": null,
            "order": null,
            "overflow": null,
            "overflow_x": null,
            "overflow_y": null,
            "padding": null,
            "right": null,
            "top": null,
            "visibility": null,
            "width": null
          }
        },
        "794649b1b850466c8a1a0adabb93c9cd": {
          "model_module": "@jupyter-widgets/controls",
          "model_name": "DescriptionStyleModel",
          "model_module_version": "1.5.0",
          "state": {
            "_model_module": "@jupyter-widgets/controls",
            "_model_module_version": "1.5.0",
            "_model_name": "DescriptionStyleModel",
            "_view_count": null,
            "_view_module": "@jupyter-widgets/base",
            "_view_module_version": "1.2.0",
            "_view_name": "StyleView",
            "description_width": ""
          }
        },
        "19b287af32a74db5b0121ad8c4f34c1b": {
          "model_module": "@jupyter-widgets/base",
          "model_name": "LayoutModel",
          "model_module_version": "1.2.0",
          "state": {
            "_model_module": "@jupyter-widgets/base",
            "_model_module_version": "1.2.0",
            "_model_name": "LayoutModel",
            "_view_count": null,
            "_view_module": "@jupyter-widgets/base",
            "_view_module_version": "1.2.0",
            "_view_name": "LayoutView",
            "align_content": null,
            "align_items": null,
            "align_self": null,
            "border": null,
            "bottom": null,
            "display": null,
            "flex": null,
            "flex_flow": null,
            "grid_area": null,
            "grid_auto_columns": null,
            "grid_auto_flow": null,
            "grid_auto_rows": null,
            "grid_column": null,
            "grid_gap": null,
            "grid_row": null,
            "grid_template_areas": null,
            "grid_template_columns": null,
            "grid_template_rows": null,
            "height": null,
            "justify_content": null,
            "justify_items": null,
            "left": null,
            "margin": null,
            "max_height": null,
            "max_width": null,
            "min_height": null,
            "min_width": null,
            "object_fit": null,
            "object_position": null,
            "order": null,
            "overflow": null,
            "overflow_x": null,
            "overflow_y": null,
            "padding": null,
            "right": null,
            "top": null,
            "visibility": null,
            "width": null
          }
        },
        "d70b43f9b58e4777a6617545633294cf": {
          "model_module": "@jupyter-widgets/controls",
          "model_name": "ProgressStyleModel",
          "model_module_version": "1.5.0",
          "state": {
            "_model_module": "@jupyter-widgets/controls",
            "_model_module_version": "1.5.0",
            "_model_name": "ProgressStyleModel",
            "_view_count": null,
            "_view_module": "@jupyter-widgets/base",
            "_view_module_version": "1.2.0",
            "_view_name": "StyleView",
            "bar_color": null,
            "description_width": ""
          }
        },
        "58fec5dc76694d9aa6840ba060fdd683": {
          "model_module": "@jupyter-widgets/base",
          "model_name": "LayoutModel",
          "model_module_version": "1.2.0",
          "state": {
            "_model_module": "@jupyter-widgets/base",
            "_model_module_version": "1.2.0",
            "_model_name": "LayoutModel",
            "_view_count": null,
            "_view_module": "@jupyter-widgets/base",
            "_view_module_version": "1.2.0",
            "_view_name": "LayoutView",
            "align_content": null,
            "align_items": null,
            "align_self": null,
            "border": null,
            "bottom": null,
            "display": null,
            "flex": null,
            "flex_flow": null,
            "grid_area": null,
            "grid_auto_columns": null,
            "grid_auto_flow": null,
            "grid_auto_rows": null,
            "grid_column": null,
            "grid_gap": null,
            "grid_row": null,
            "grid_template_areas": null,
            "grid_template_columns": null,
            "grid_template_rows": null,
            "height": null,
            "justify_content": null,
            "justify_items": null,
            "left": null,
            "margin": null,
            "max_height": null,
            "max_width": null,
            "min_height": null,
            "min_width": null,
            "object_fit": null,
            "object_position": null,
            "order": null,
            "overflow": null,
            "overflow_x": null,
            "overflow_y": null,
            "padding": null,
            "right": null,
            "top": null,
            "visibility": null,
            "width": null
          }
        },
        "85aa74587bf44043990e58ff3e0a1a1a": {
          "model_module": "@jupyter-widgets/controls",
          "model_name": "DescriptionStyleModel",
          "model_module_version": "1.5.0",
          "state": {
            "_model_module": "@jupyter-widgets/controls",
            "_model_module_version": "1.5.0",
            "_model_name": "DescriptionStyleModel",
            "_view_count": null,
            "_view_module": "@jupyter-widgets/base",
            "_view_module_version": "1.2.0",
            "_view_name": "StyleView",
            "description_width": ""
          }
        },
        "459f18f51afa46d28adc5186c216fbe9": {
          "model_module": "@jupyter-widgets/controls",
          "model_name": "HBoxModel",
          "model_module_version": "1.5.0",
          "state": {
            "_dom_classes": [],
            "_model_module": "@jupyter-widgets/controls",
            "_model_module_version": "1.5.0",
            "_model_name": "HBoxModel",
            "_view_count": null,
            "_view_module": "@jupyter-widgets/controls",
            "_view_module_version": "1.5.0",
            "_view_name": "HBoxView",
            "box_style": "",
            "children": [
              "IPY_MODEL_4458c24477ce41b9b97981410362ce32",
              "IPY_MODEL_06324a5ab3e4404c82e1d25e7e0a9f79",
              "IPY_MODEL_5e40f5bbb98a40309759c710f4ff6267"
            ],
            "layout": "IPY_MODEL_89bec8022a384520bb1f14b47b206d99"
          }
        },
        "4458c24477ce41b9b97981410362ce32": {
          "model_module": "@jupyter-widgets/controls",
          "model_name": "HTMLModel",
          "model_module_version": "1.5.0",
          "state": {
            "_dom_classes": [],
            "_model_module": "@jupyter-widgets/controls",
            "_model_module_version": "1.5.0",
            "_model_name": "HTMLModel",
            "_view_count": null,
            "_view_module": "@jupyter-widgets/controls",
            "_view_module_version": "1.5.0",
            "_view_name": "HTMLView",
            "description": "",
            "description_tooltip": null,
            "layout": "IPY_MODEL_0bce3487dd934f22b64842625c5fbb04",
            "placeholder": "​",
            "style": "IPY_MODEL_d00e1a53acaf4f8cac97621da2bf62e5",
            "value": "Downloading: 100%"
          }
        },
        "06324a5ab3e4404c82e1d25e7e0a9f79": {
          "model_module": "@jupyter-widgets/controls",
          "model_name": "FloatProgressModel",
          "model_module_version": "1.5.0",
          "state": {
            "_dom_classes": [],
            "_model_module": "@jupyter-widgets/controls",
            "_model_module_version": "1.5.0",
            "_model_name": "FloatProgressModel",
            "_view_count": null,
            "_view_module": "@jupyter-widgets/controls",
            "_view_module_version": "1.5.0",
            "_view_name": "ProgressView",
            "bar_style": "success",
            "description": "",
            "description_tooltip": null,
            "layout": "IPY_MODEL_1b1a4ab223d24c78b4e376ce3ceb1274",
            "max": 433,
            "min": 0,
            "orientation": "horizontal",
            "style": "IPY_MODEL_719e80ef799741a899f017352d123b9f",
            "value": 433
          }
        },
        "5e40f5bbb98a40309759c710f4ff6267": {
          "model_module": "@jupyter-widgets/controls",
          "model_name": "HTMLModel",
          "model_module_version": "1.5.0",
          "state": {
            "_dom_classes": [],
            "_model_module": "@jupyter-widgets/controls",
            "_model_module_version": "1.5.0",
            "_model_name": "HTMLModel",
            "_view_count": null,
            "_view_module": "@jupyter-widgets/controls",
            "_view_module_version": "1.5.0",
            "_view_name": "HTMLView",
            "description": "",
            "description_tooltip": null,
            "layout": "IPY_MODEL_2ea042ab1b644a80846b9f703c5dfb0e",
            "placeholder": "​",
            "style": "IPY_MODEL_506dbe05787b4f3e92b4efefa9915e13",
            "value": " 433/433 [00:00&lt;00:00, 5.14kB/s]"
          }
        },
        "89bec8022a384520bb1f14b47b206d99": {
          "model_module": "@jupyter-widgets/base",
          "model_name": "LayoutModel",
          "model_module_version": "1.2.0",
          "state": {
            "_model_module": "@jupyter-widgets/base",
            "_model_module_version": "1.2.0",
            "_model_name": "LayoutModel",
            "_view_count": null,
            "_view_module": "@jupyter-widgets/base",
            "_view_module_version": "1.2.0",
            "_view_name": "LayoutView",
            "align_content": null,
            "align_items": null,
            "align_self": null,
            "border": null,
            "bottom": null,
            "display": null,
            "flex": null,
            "flex_flow": null,
            "grid_area": null,
            "grid_auto_columns": null,
            "grid_auto_flow": null,
            "grid_auto_rows": null,
            "grid_column": null,
            "grid_gap": null,
            "grid_row": null,
            "grid_template_areas": null,
            "grid_template_columns": null,
            "grid_template_rows": null,
            "height": null,
            "justify_content": null,
            "justify_items": null,
            "left": null,
            "margin": null,
            "max_height": null,
            "max_width": null,
            "min_height": null,
            "min_width": null,
            "object_fit": null,
            "object_position": null,
            "order": null,
            "overflow": null,
            "overflow_x": null,
            "overflow_y": null,
            "padding": null,
            "right": null,
            "top": null,
            "visibility": null,
            "width": null
          }
        },
        "0bce3487dd934f22b64842625c5fbb04": {
          "model_module": "@jupyter-widgets/base",
          "model_name": "LayoutModel",
          "model_module_version": "1.2.0",
          "state": {
            "_model_module": "@jupyter-widgets/base",
            "_model_module_version": "1.2.0",
            "_model_name": "LayoutModel",
            "_view_count": null,
            "_view_module": "@jupyter-widgets/base",
            "_view_module_version": "1.2.0",
            "_view_name": "LayoutView",
            "align_content": null,
            "align_items": null,
            "align_self": null,
            "border": null,
            "bottom": null,
            "display": null,
            "flex": null,
            "flex_flow": null,
            "grid_area": null,
            "grid_auto_columns": null,
            "grid_auto_flow": null,
            "grid_auto_rows": null,
            "grid_column": null,
            "grid_gap": null,
            "grid_row": null,
            "grid_template_areas": null,
            "grid_template_columns": null,
            "grid_template_rows": null,
            "height": null,
            "justify_content": null,
            "justify_items": null,
            "left": null,
            "margin": null,
            "max_height": null,
            "max_width": null,
            "min_height": null,
            "min_width": null,
            "object_fit": null,
            "object_position": null,
            "order": null,
            "overflow": null,
            "overflow_x": null,
            "overflow_y": null,
            "padding": null,
            "right": null,
            "top": null,
            "visibility": null,
            "width": null
          }
        },
        "d00e1a53acaf4f8cac97621da2bf62e5": {
          "model_module": "@jupyter-widgets/controls",
          "model_name": "DescriptionStyleModel",
          "model_module_version": "1.5.0",
          "state": {
            "_model_module": "@jupyter-widgets/controls",
            "_model_module_version": "1.5.0",
            "_model_name": "DescriptionStyleModel",
            "_view_count": null,
            "_view_module": "@jupyter-widgets/base",
            "_view_module_version": "1.2.0",
            "_view_name": "StyleView",
            "description_width": ""
          }
        },
        "1b1a4ab223d24c78b4e376ce3ceb1274": {
          "model_module": "@jupyter-widgets/base",
          "model_name": "LayoutModel",
          "model_module_version": "1.2.0",
          "state": {
            "_model_module": "@jupyter-widgets/base",
            "_model_module_version": "1.2.0",
            "_model_name": "LayoutModel",
            "_view_count": null,
            "_view_module": "@jupyter-widgets/base",
            "_view_module_version": "1.2.0",
            "_view_name": "LayoutView",
            "align_content": null,
            "align_items": null,
            "align_self": null,
            "border": null,
            "bottom": null,
            "display": null,
            "flex": null,
            "flex_flow": null,
            "grid_area": null,
            "grid_auto_columns": null,
            "grid_auto_flow": null,
            "grid_auto_rows": null,
            "grid_column": null,
            "grid_gap": null,
            "grid_row": null,
            "grid_template_areas": null,
            "grid_template_columns": null,
            "grid_template_rows": null,
            "height": null,
            "justify_content": null,
            "justify_items": null,
            "left": null,
            "margin": null,
            "max_height": null,
            "max_width": null,
            "min_height": null,
            "min_width": null,
            "object_fit": null,
            "object_position": null,
            "order": null,
            "overflow": null,
            "overflow_x": null,
            "overflow_y": null,
            "padding": null,
            "right": null,
            "top": null,
            "visibility": null,
            "width": null
          }
        },
        "719e80ef799741a899f017352d123b9f": {
          "model_module": "@jupyter-widgets/controls",
          "model_name": "ProgressStyleModel",
          "model_module_version": "1.5.0",
          "state": {
            "_model_module": "@jupyter-widgets/controls",
            "_model_module_version": "1.5.0",
            "_model_name": "ProgressStyleModel",
            "_view_count": null,
            "_view_module": "@jupyter-widgets/base",
            "_view_module_version": "1.2.0",
            "_view_name": "StyleView",
            "bar_color": null,
            "description_width": ""
          }
        },
        "2ea042ab1b644a80846b9f703c5dfb0e": {
          "model_module": "@jupyter-widgets/base",
          "model_name": "LayoutModel",
          "model_module_version": "1.2.0",
          "state": {
            "_model_module": "@jupyter-widgets/base",
            "_model_module_version": "1.2.0",
            "_model_name": "LayoutModel",
            "_view_count": null,
            "_view_module": "@jupyter-widgets/base",
            "_view_module_version": "1.2.0",
            "_view_name": "LayoutView",
            "align_content": null,
            "align_items": null,
            "align_self": null,
            "border": null,
            "bottom": null,
            "display": null,
            "flex": null,
            "flex_flow": null,
            "grid_area": null,
            "grid_auto_columns": null,
            "grid_auto_flow": null,
            "grid_auto_rows": null,
            "grid_column": null,
            "grid_gap": null,
            "grid_row": null,
            "grid_template_areas": null,
            "grid_template_columns": null,
            "grid_template_rows": null,
            "height": null,
            "justify_content": null,
            "justify_items": null,
            "left": null,
            "margin": null,
            "max_height": null,
            "max_width": null,
            "min_height": null,
            "min_width": null,
            "object_fit": null,
            "object_position": null,
            "order": null,
            "overflow": null,
            "overflow_x": null,
            "overflow_y": null,
            "padding": null,
            "right": null,
            "top": null,
            "visibility": null,
            "width": null
          }
        },
        "506dbe05787b4f3e92b4efefa9915e13": {
          "model_module": "@jupyter-widgets/controls",
          "model_name": "DescriptionStyleModel",
          "model_module_version": "1.5.0",
          "state": {
            "_model_module": "@jupyter-widgets/controls",
            "_model_module_version": "1.5.0",
            "_model_name": "DescriptionStyleModel",
            "_view_count": null,
            "_view_module": "@jupyter-widgets/base",
            "_view_module_version": "1.2.0",
            "_view_name": "StyleView",
            "description_width": ""
          }
        },
        "b6431521e41b47088e05a824196355f3": {
          "model_module": "@jupyter-widgets/controls",
          "model_name": "HBoxModel",
          "model_module_version": "1.5.0",
          "state": {
            "_dom_classes": [],
            "_model_module": "@jupyter-widgets/controls",
            "_model_module_version": "1.5.0",
            "_model_name": "HBoxModel",
            "_view_count": null,
            "_view_module": "@jupyter-widgets/controls",
            "_view_module_version": "1.5.0",
            "_view_name": "HBoxView",
            "box_style": "",
            "children": [
              "IPY_MODEL_8888dddb43a743488aec23f42473d5ac",
              "IPY_MODEL_253e33ea79c7478683af337dfdae2258",
              "IPY_MODEL_8c1b824fc10542009e958216920ffcb5"
            ],
            "layout": "IPY_MODEL_995d41a59f7b46e094268e8a4a30c61e"
          }
        },
        "8888dddb43a743488aec23f42473d5ac": {
          "model_module": "@jupyter-widgets/controls",
          "model_name": "HTMLModel",
          "model_module_version": "1.5.0",
          "state": {
            "_dom_classes": [],
            "_model_module": "@jupyter-widgets/controls",
            "_model_module_version": "1.5.0",
            "_model_name": "HTMLModel",
            "_view_count": null,
            "_view_module": "@jupyter-widgets/controls",
            "_view_module_version": "1.5.0",
            "_view_name": "HTMLView",
            "description": "",
            "description_tooltip": null,
            "layout": "IPY_MODEL_b29ad8a5b0b04b8b80120c78dfce07c1",
            "placeholder": "​",
            "style": "IPY_MODEL_98779a9d2d0a4931abeb775dfe1db101",
            "value": "Downloading: 100%"
          }
        },
        "253e33ea79c7478683af337dfdae2258": {
          "model_module": "@jupyter-widgets/controls",
          "model_name": "FloatProgressModel",
          "model_module_version": "1.5.0",
          "state": {
            "_dom_classes": [],
            "_model_module": "@jupyter-widgets/controls",
            "_model_module_version": "1.5.0",
            "_model_name": "FloatProgressModel",
            "_view_count": null,
            "_view_module": "@jupyter-widgets/controls",
            "_view_module_version": "1.5.0",
            "_view_name": "ProgressView",
            "bar_style": "success",
            "description": "",
            "description_tooltip": null,
            "layout": "IPY_MODEL_aa7d445ce76749c5b65a62197bb7bbf4",
            "max": 440473133,
            "min": 0,
            "orientation": "horizontal",
            "style": "IPY_MODEL_3323fa581944495e9f2796d6321cbe53",
            "value": 440473133
          }
        },
        "8c1b824fc10542009e958216920ffcb5": {
          "model_module": "@jupyter-widgets/controls",
          "model_name": "HTMLModel",
          "model_module_version": "1.5.0",
          "state": {
            "_dom_classes": [],
            "_model_module": "@jupyter-widgets/controls",
            "_model_module_version": "1.5.0",
            "_model_name": "HTMLModel",
            "_view_count": null,
            "_view_module": "@jupyter-widgets/controls",
            "_view_module_version": "1.5.0",
            "_view_name": "HTMLView",
            "description": "",
            "description_tooltip": null,
            "layout": "IPY_MODEL_c401faabfadc49bf878eb4942c5e57c4",
            "placeholder": "​",
            "style": "IPY_MODEL_280b256256164674a6b2c8ade5fddb26",
            "value": " 440M/440M [00:10&lt;00:00, 43.1MB/s]"
          }
        },
        "995d41a59f7b46e094268e8a4a30c61e": {
          "model_module": "@jupyter-widgets/base",
          "model_name": "LayoutModel",
          "model_module_version": "1.2.0",
          "state": {
            "_model_module": "@jupyter-widgets/base",
            "_model_module_version": "1.2.0",
            "_model_name": "LayoutModel",
            "_view_count": null,
            "_view_module": "@jupyter-widgets/base",
            "_view_module_version": "1.2.0",
            "_view_name": "LayoutView",
            "align_content": null,
            "align_items": null,
            "align_self": null,
            "border": null,
            "bottom": null,
            "display": null,
            "flex": null,
            "flex_flow": null,
            "grid_area": null,
            "grid_auto_columns": null,
            "grid_auto_flow": null,
            "grid_auto_rows": null,
            "grid_column": null,
            "grid_gap": null,
            "grid_row": null,
            "grid_template_areas": null,
            "grid_template_columns": null,
            "grid_template_rows": null,
            "height": null,
            "justify_content": null,
            "justify_items": null,
            "left": null,
            "margin": null,
            "max_height": null,
            "max_width": null,
            "min_height": null,
            "min_width": null,
            "object_fit": null,
            "object_position": null,
            "order": null,
            "overflow": null,
            "overflow_x": null,
            "overflow_y": null,
            "padding": null,
            "right": null,
            "top": null,
            "visibility": null,
            "width": null
          }
        },
        "b29ad8a5b0b04b8b80120c78dfce07c1": {
          "model_module": "@jupyter-widgets/base",
          "model_name": "LayoutModel",
          "model_module_version": "1.2.0",
          "state": {
            "_model_module": "@jupyter-widgets/base",
            "_model_module_version": "1.2.0",
            "_model_name": "LayoutModel",
            "_view_count": null,
            "_view_module": "@jupyter-widgets/base",
            "_view_module_version": "1.2.0",
            "_view_name": "LayoutView",
            "align_content": null,
            "align_items": null,
            "align_self": null,
            "border": null,
            "bottom": null,
            "display": null,
            "flex": null,
            "flex_flow": null,
            "grid_area": null,
            "grid_auto_columns": null,
            "grid_auto_flow": null,
            "grid_auto_rows": null,
            "grid_column": null,
            "grid_gap": null,
            "grid_row": null,
            "grid_template_areas": null,
            "grid_template_columns": null,
            "grid_template_rows": null,
            "height": null,
            "justify_content": null,
            "justify_items": null,
            "left": null,
            "margin": null,
            "max_height": null,
            "max_width": null,
            "min_height": null,
            "min_width": null,
            "object_fit": null,
            "object_position": null,
            "order": null,
            "overflow": null,
            "overflow_x": null,
            "overflow_y": null,
            "padding": null,
            "right": null,
            "top": null,
            "visibility": null,
            "width": null
          }
        },
        "98779a9d2d0a4931abeb775dfe1db101": {
          "model_module": "@jupyter-widgets/controls",
          "model_name": "DescriptionStyleModel",
          "model_module_version": "1.5.0",
          "state": {
            "_model_module": "@jupyter-widgets/controls",
            "_model_module_version": "1.5.0",
            "_model_name": "DescriptionStyleModel",
            "_view_count": null,
            "_view_module": "@jupyter-widgets/base",
            "_view_module_version": "1.2.0",
            "_view_name": "StyleView",
            "description_width": ""
          }
        },
        "aa7d445ce76749c5b65a62197bb7bbf4": {
          "model_module": "@jupyter-widgets/base",
          "model_name": "LayoutModel",
          "model_module_version": "1.2.0",
          "state": {
            "_model_module": "@jupyter-widgets/base",
            "_model_module_version": "1.2.0",
            "_model_name": "LayoutModel",
            "_view_count": null,
            "_view_module": "@jupyter-widgets/base",
            "_view_module_version": "1.2.0",
            "_view_name": "LayoutView",
            "align_content": null,
            "align_items": null,
            "align_self": null,
            "border": null,
            "bottom": null,
            "display": null,
            "flex": null,
            "flex_flow": null,
            "grid_area": null,
            "grid_auto_columns": null,
            "grid_auto_flow": null,
            "grid_auto_rows": null,
            "grid_column": null,
            "grid_gap": null,
            "grid_row": null,
            "grid_template_areas": null,
            "grid_template_columns": null,
            "grid_template_rows": null,
            "height": null,
            "justify_content": null,
            "justify_items": null,
            "left": null,
            "margin": null,
            "max_height": null,
            "max_width": null,
            "min_height": null,
            "min_width": null,
            "object_fit": null,
            "object_position": null,
            "order": null,
            "overflow": null,
            "overflow_x": null,
            "overflow_y": null,
            "padding": null,
            "right": null,
            "top": null,
            "visibility": null,
            "width": null
          }
        },
        "3323fa581944495e9f2796d6321cbe53": {
          "model_module": "@jupyter-widgets/controls",
          "model_name": "ProgressStyleModel",
          "model_module_version": "1.5.0",
          "state": {
            "_model_module": "@jupyter-widgets/controls",
            "_model_module_version": "1.5.0",
            "_model_name": "ProgressStyleModel",
            "_view_count": null,
            "_view_module": "@jupyter-widgets/base",
            "_view_module_version": "1.2.0",
            "_view_name": "StyleView",
            "bar_color": null,
            "description_width": ""
          }
        },
        "c401faabfadc49bf878eb4942c5e57c4": {
          "model_module": "@jupyter-widgets/base",
          "model_name": "LayoutModel",
          "model_module_version": "1.2.0",
          "state": {
            "_model_module": "@jupyter-widgets/base",
            "_model_module_version": "1.2.0",
            "_model_name": "LayoutModel",
            "_view_count": null,
            "_view_module": "@jupyter-widgets/base",
            "_view_module_version": "1.2.0",
            "_view_name": "LayoutView",
            "align_content": null,
            "align_items": null,
            "align_self": null,
            "border": null,
            "bottom": null,
            "display": null,
            "flex": null,
            "flex_flow": null,
            "grid_area": null,
            "grid_auto_columns": null,
            "grid_auto_flow": null,
            "grid_auto_rows": null,
            "grid_column": null,
            "grid_gap": null,
            "grid_row": null,
            "grid_template_areas": null,
            "grid_template_columns": null,
            "grid_template_rows": null,
            "height": null,
            "justify_content": null,
            "justify_items": null,
            "left": null,
            "margin": null,
            "max_height": null,
            "max_width": null,
            "min_height": null,
            "min_width": null,
            "object_fit": null,
            "object_position": null,
            "order": null,
            "overflow": null,
            "overflow_x": null,
            "overflow_y": null,
            "padding": null,
            "right": null,
            "top": null,
            "visibility": null,
            "width": null
          }
        },
        "280b256256164674a6b2c8ade5fddb26": {
          "model_module": "@jupyter-widgets/controls",
          "model_name": "DescriptionStyleModel",
          "model_module_version": "1.5.0",
          "state": {
            "_model_module": "@jupyter-widgets/controls",
            "_model_module_version": "1.5.0",
            "_model_name": "DescriptionStyleModel",
            "_view_count": null,
            "_view_module": "@jupyter-widgets/base",
            "_view_module_version": "1.2.0",
            "_view_name": "StyleView",
            "description_width": ""
          }
        }
      }
    }
  },
  "nbformat": 4,
  "nbformat_minor": 0
}