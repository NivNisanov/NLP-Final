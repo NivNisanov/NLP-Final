{
  "cells": [
    {
      "cell_type": "code",
      "execution_count": 1,
      "metadata": {
        "colab": {
          "base_uri": "https://localhost:8080/"
        },
        "id": "7-zLJOk2u_Q5",
        "outputId": "b9db909b-c441-4e25-dd0f-4142e671d29d"
      },
      "outputs": [
        {
          "output_type": "stream",
          "name": "stdout",
          "text": [
            "Looking in indexes: https://pypi.org/simple, https://us-python.pkg.dev/colab-wheels/public/simple/\n",
            "Requirement already satisfied: transformers==2.11.0 in /usr/local/lib/python3.7/dist-packages (2.11.0)\n",
            "Requirement already satisfied: packaging in /usr/local/lib/python3.7/dist-packages (from transformers==2.11.0) (21.3)\n",
            "Requirement already satisfied: requests in /usr/local/lib/python3.7/dist-packages (from transformers==2.11.0) (2.23.0)\n",
            "Requirement already satisfied: filelock in /usr/local/lib/python3.7/dist-packages (from transformers==2.11.0) (3.7.1)\n",
            "Requirement already satisfied: sacremoses in /usr/local/lib/python3.7/dist-packages (from transformers==2.11.0) (0.0.53)\n",
            "Requirement already satisfied: numpy in /usr/local/lib/python3.7/dist-packages (from transformers==2.11.0) (1.21.6)\n",
            "Requirement already satisfied: tokenizers==0.7.0 in /usr/local/lib/python3.7/dist-packages (from transformers==2.11.0) (0.7.0)\n",
            "Requirement already satisfied: sentencepiece in /usr/local/lib/python3.7/dist-packages (from transformers==2.11.0) (0.1.96)\n",
            "Requirement already satisfied: regex!=2019.12.17 in /usr/local/lib/python3.7/dist-packages (from transformers==2.11.0) (2022.6.2)\n",
            "Requirement already satisfied: tqdm>=4.27 in /usr/local/lib/python3.7/dist-packages (from transformers==2.11.0) (4.64.0)\n",
            "Requirement already satisfied: pyparsing!=3.0.5,>=2.0.2 in /usr/local/lib/python3.7/dist-packages (from packaging->transformers==2.11.0) (3.0.9)\n",
            "Requirement already satisfied: idna<3,>=2.5 in /usr/local/lib/python3.7/dist-packages (from requests->transformers==2.11.0) (2.10)\n",
            "Requirement already satisfied: certifi>=2017.4.17 in /usr/local/lib/python3.7/dist-packages (from requests->transformers==2.11.0) (2022.6.15)\n",
            "Requirement already satisfied: urllib3!=1.25.0,!=1.25.1,<1.26,>=1.21.1 in /usr/local/lib/python3.7/dist-packages (from requests->transformers==2.11.0) (1.24.3)\n",
            "Requirement already satisfied: chardet<4,>=3.0.2 in /usr/local/lib/python3.7/dist-packages (from requests->transformers==2.11.0) (3.0.4)\n",
            "Requirement already satisfied: click in /usr/local/lib/python3.7/dist-packages (from sacremoses->transformers==2.11.0) (7.1.2)\n",
            "Requirement already satisfied: joblib in /usr/local/lib/python3.7/dist-packages (from sacremoses->transformers==2.11.0) (1.1.0)\n",
            "Requirement already satisfied: six in /usr/local/lib/python3.7/dist-packages (from sacremoses->transformers==2.11.0) (1.15.0)\n"
          ]
        }
      ],
      "source": [
        "!pip install transformers==2.11.0 #CHECK maybe remove =="
      ]
    },
    {
      "cell_type": "code",
      "execution_count": 2,
      "metadata": {
        "id": "7qYbt8zAvzEF"
      },
      "outputs": [],
      "source": [
        "import json\n",
        "import time\n",
        "import torch\n",
        "import datetime\n",
        "import numpy as np\n",
        "from torch import nn\n",
        "import torch.nn.functional as F\n",
        "from torch.utils.data import DataLoader\n",
        "from transformers import BertTokenizerFast, BertModel, BertPreTrainedModel\n",
        "from transformers import AdamW\n",
        "import matplotlib.pyplot as plt\n",
        "# CHECK maybe remove some"
      ]
    },
    {
      "cell_type": "code",
      "execution_count": 3,
      "metadata": {
        "colab": {
          "base_uri": "https://localhost:8080/"
        },
        "id": "PPjKyF4AE4di",
        "outputId": "5f994c6c-8fbd-44f9-f5e6-83bf43c650da"
      },
      "outputs": [
        {
          "output_type": "stream",
          "name": "stdout",
          "text": [
            "Drive already mounted at /content/drive; to attempt to forcibly remount, call drive.mount(\"/content/drive\", force_remount=True).\n",
            "/content/drive/My Drive/NLP\n"
          ]
        }
      ],
      "source": [
        "from google.colab import drive\n",
        "drive.mount('/content/drive')\n",
        "%cd '/content/drive/My Drive/NLP/'"
      ]
    },
    {
      "cell_type": "code",
      "execution_count": 4,
      "metadata": {
        "id": "UVFMh87Nv8KS"
      },
      "outputs": [],
      "source": [
        "np.random.seed(42)\n",
        "torch.manual_seed(42)\n",
        "torch.cuda.manual_seed(42)\n",
        "\n",
        "DEVICE = torch.device('cuda') if torch.cuda.is_available() else torch.device('cpu')\n",
        "tokenizer = BertTokenizerFast.from_pretrained('bert-base-uncased', do_lower_case=True)"
      ]
    },
    {
      "cell_type": "code",
      "execution_count": 5,
      "metadata": {
        "id": "kCtApFNbwLHD"
      },
      "outputs": [],
      "source": [
        "class Bert_QA_Model(nn.Module):\n",
        "\n",
        "    def __init__(self, freeze = 0):\n",
        "        super(Bert_QA_Model, self).__init__()\n",
        "\n",
        "        self.bert = BertModel.from_pretrained(\"bert-base-uncased\")\n",
        "        self.hidden_size = self.bert.config.hidden_size\n",
        "        self.start_lin = nn.Linear(self.hidden_size, 1)\n",
        "        self.end_lin = nn.Linear(self.hidden_size, 1)\n",
        "\n",
        "\n",
        "        if freeze != 0:\n",
        "          for param in list(self.bert.embeddings.parameters()):\n",
        "              param.requires_grad = False\n",
        "                \n",
        "          for i in range(1, 1 + freeze):\n",
        "              for param in list(self.bert.encoder.layer[i].parameters()):\n",
        "                  param.requires_grad = False\n",
        "\n",
        "\n",
        "    def forward(self, input_ids=None, attention_mask=None, token_type_ids=None):\n",
        "        \n",
        "        bert_out = self.bert(input_ids=input_ids, attention_mask=attention_mask, token_type_ids=token_type_ids)\n",
        "        hidden_states = bert_out[0]\n",
        "        start_log = self.start_lin(hidden_states).squeeze(-1)\n",
        "        end_log = self.end_lin(hidden_states).squeeze(-1) \n",
        "        start_probs = F.log_softmax(start_log, dim=1)\n",
        "        end_probs = F.log_softmax(end_log, dim=1)\n",
        "\n",
        "        return start_probs, end_probs"
      ]
    },
    {
      "cell_type": "code",
      "execution_count": 6,
      "metadata": {
        "id": "lRoV2LFtxCGv"
      },
      "outputs": [],
      "source": [
        "model1 = Bert_QA_Model()\n",
        "model2 = Bert_QA_Model(2)\n",
        "model3 = Bert_QA_Model(4)\n",
        "model4 = Bert_QA_Model(8)"
      ]
    },
    {
      "cell_type": "code",
      "execution_count": 7,
      "metadata": {
        "id": "vCATwB0IdEpf"
      },
      "outputs": [],
      "source": [
        "def squad_to_lists(file_name, cutsize=False):\n",
        "    with open(file_name, 'r') as file:\n",
        "        data = json.load(file)\n",
        "\n",
        "    que, con, ans, que_id = [], [], [], []\n",
        "\n",
        "    for i in range(0,len(data['data']), 5):\n",
        "      for p in range(0, len(data['data'][i]['paragraphs']), 2): \n",
        "\n",
        "          context = data['data'][i]['paragraphs'][p]['context']\n",
        "          for q in range(0, len(data['data'][i]['paragraphs'][p]['qas']), 1): \n",
        "\n",
        "              question = data['data'][i]['paragraphs'][p]['qas'][q]['question']\n",
        "              question_id = data['data'][i]['paragraphs'][p]['qas'][q][\"id\"]\n",
        "              temp = data['data'][i]['paragraphs'][p]['qas'][q]['answers']\n",
        "              answer = temp[0] if temp else {\"answer_end\": 0, \"answer_start\": 0}\n",
        "\n",
        "              if temp:\n",
        "                answer[\"answer_end\"] = answer[\"answer_start\"] + len(answer[\"text\"])\n",
        "\n",
        "              con.append(context)\n",
        "              que.append(question)                    \n",
        "              ans.append(answer)\n",
        "              que_id.append(question_id)\n",
        "\n",
        "    return que, con, ans,  que_id"
      ]
    },
    {
      "cell_type": "code",
      "execution_count": 8,
      "metadata": {
        "id": "6CNb7jbBExEp"
      },
      "outputs": [],
      "source": [
        "train_que, train_con, train_ans, _ = squad_to_lists('train-v2.0.json', True)\n",
        "dev_que, dev_con, dev_ans, dev_que_id = squad_to_lists('dev-v2.0.json',True)"
      ]
    },
    {
      "cell_type": "code",
      "execution_count": 9,
      "metadata": {
        "colab": {
          "base_uri": "https://localhost:8080/"
        },
        "id": "Khnz2HldKNOb",
        "outputId": "28d68d18-80be-4e97-86e7-6564c3813a7b"
      },
      "outputs": [
        {
          "output_type": "stream",
          "name": "stdout",
          "text": [
            "12941\n"
          ]
        }
      ],
      "source": [
        "print(len(train_que))"
      ]
    },
    {
      "cell_type": "code",
      "execution_count": 10,
      "metadata": {
        "id": "LXJgqKq3LIFZ"
      },
      "outputs": [],
      "source": [
        "zipped_train = list(zip(train_con, train_que))\n",
        "zipped_dev = list(zip(dev_con, dev_que))\n",
        "\n",
        "train_encod = tokenizer.batch_encode_plus(zipped_train, max_length=tokenizer.model_max_length, pad_to_max_length=True, return_token_type_ids=True)\n",
        "\n",
        "dev_encod = tokenizer.batch_encode_plus(zipped_dev, max_length=tokenizer.model_max_length, pad_to_max_length=True, return_token_type_ids=True)"
      ]
    },
    {
      "cell_type": "code",
      "execution_count": 11,
      "metadata": {
        "id": "uO3-MsJ3N4Bk"
      },
      "outputs": [],
      "source": [
        "def add_token_positions(tokenizer, encodings, answers):\n",
        "    start_pos = []\n",
        "    end_pos = []\n",
        "    \n",
        "    for i in range(len(answers)):\n",
        "\n",
        "        start_pos.append(encodings.char_to_token(i, answers[i]['answer_start']) if answers[i]['answer_end'] != 0 else 0)\n",
        "        end_pos.append(encodings.char_to_token(i, answers[i]['answer_end'] - 1) if answers[i]['answer_end'] != 0 else 0)    \n",
        "        \n",
        "        start_pos[-1] = tokenizer.model_max_length if start_pos[-1] is None else start_pos[-1]\n",
        "        end_pos[-1] = tokenizer.model_max_length if end_pos[-1] is None else end_pos[-1]\n",
        "    \n",
        "    encodings.update({'start_positions': start_pos, 'end_positions': end_pos})\n"
      ]
    },
    {
      "cell_type": "code",
      "execution_count": 12,
      "metadata": {
        "id": "XIqRZGKLPBUZ"
      },
      "outputs": [],
      "source": [
        "add_token_positions(tokenizer, train_encod, train_ans)\n",
        "add_token_positions(tokenizer,dev_encod, dev_ans)"
      ]
    },
    {
      "cell_type": "code",
      "execution_count": 13,
      "metadata": {
        "id": "KStrzdbKQ06I"
      },
      "outputs": [],
      "source": [
        "class Squad_to_dataset(torch.utils.data.Dataset):\n",
        "    \n",
        "  def __init__(self, encodings):\n",
        "    self.encodings = encodings\n",
        "    self.length = len(self.encodings.input_ids)\n",
        "\n",
        "  def __getitem__(self, idx):\n",
        "    res = {}\n",
        "    for key, val in self.encodings.items():\n",
        "      res[key] = torch.tensor(val[idx])\n",
        "\n",
        "    return res\n",
        "\n",
        "  def __len__(self):\n",
        "    return self.length"
      ]
    },
    {
      "cell_type": "code",
      "execution_count": 14,
      "metadata": {
        "id": "Bti8m3VDQ2aW"
      },
      "outputs": [],
      "source": [
        "train_loader = DataLoader(Squad_to_dataset(train_encod), batch_size=6, shuffle=True)\n",
        "\n",
        "dev_loader = DataLoader(Squad_to_dataset(dev_encod), batch_size=6, shuffle=False)"
      ]
    },
    {
      "cell_type": "code",
      "execution_count": 15,
      "metadata": {
        "id": "NRWym9m4XWYo"
      },
      "outputs": [],
      "source": [
        "def evaluate(model, loader, ignored_index):\n",
        "    answers = []\n",
        "    total_dev_loss = 0\n",
        "\n",
        "    with torch.no_grad():\n",
        "\n",
        "        for b in loader:\n",
        "\n",
        "            input_ids = b['input_ids'].to(DEVICE)\n",
        "            attention_mask = b['attention_mask'].to(DEVICE)\n",
        "            token_type_ids = b['token_type_ids'].to(DEVICE)\n",
        "            start_positions = b['start_positions'].to(DEVICE)\n",
        "            end_positions = b['end_positions'].to(DEVICE)\n",
        "\n",
        "\n",
        "            start_o, end_o = model(input_ids=input_ids, attention_mask=attention_mask, token_type_ids=token_type_ids) \n",
        "\n",
        "            start_loss = F.nll_loss(start_o, start_positions, ignore_index=ignored_index)\n",
        "            end_loss = F.nll_loss(end_o, end_positions, ignore_index=ignored_index)\n",
        "\n",
        "            total_loss = (start_loss + end_loss) / 2\n",
        "            total_dev_loss += total_loss.item()\n",
        "            start_pred = torch.argmax(start_o.detach().cpu(), dim=1).tolist()\n",
        "            end_pred = torch.argmax(end_o.detach().cpu(), dim=1).tolist()\n",
        "            input_ids = input_ids.detach().cpu().tolist()\n",
        "            cls_t = [tokenizer.cls_token_id]\n",
        "\n",
        "            for current_input_ids, start_p, end_p in zip(input_ids, start_pred, end_pred):\n",
        "\n",
        "                ans_tokens = current_input_ids[start_p: end_p + 1]\n",
        "\n",
        "                if cls_t != ans_tokens and cls_t[0] in ans_tokens:\n",
        "                    del ans_tokens[0]\n",
        "                \n",
        "                if cls_t == ans_tokens:\n",
        "                    answers.append('')\n",
        "                else:\n",
        "                    answers.append(tokenizer.convert_tokens_to_string(ans_tokens))\n",
        "\n",
        "    return total_dev_loss / len(loader), answers"
      ]
    },
    {
      "cell_type": "code",
      "execution_count": 16,
      "metadata": {
        "id": "dxo0VGLdrcSF"
      },
      "outputs": [],
      "source": [
        "def produce_predictions_file(questions_ids, predictions, epoch):\n",
        "    \n",
        "    preds = {key: val for key, val in zip(questions_ids, predictions)}\n",
        "\n",
        "    if epoch == 1:\n",
        "        with open('./preds_model1_epoch_1.json', 'w') as outfile:\n",
        "            json.dump(preds, outfile)\n",
        "\n",
        "        abc = !python3 evaluate-v2.0-40.py ./dev-v2.0.json ./preds_model1_epoch_1.json\n",
        "    else:\n",
        "        if epoch == 2:\n",
        "            with open('./preds_model1_epoch_2.json', 'w') as outfile:\n",
        "                json.dump(preds, outfile)\n",
        "\n",
        "            abc = !python3 evaluate-v2.0-40.py ./dev-v2.0.json ./preds_model1_epoch_2.json\n",
        "        else:\n",
        "            if epoch == 3:\n",
        "                with open('./preds_model1_epoch_3.json', 'w') as outfile:\n",
        "                    json.dump(preds, outfile)\n",
        "\n",
        "                abc = !python3 evaluate-v2.0-40.py ./dev-v2.0.json ./preds_model1_epoch_3.json\n",
        "            else:\n",
        "                with open('./preds_model1_epoch_0.json', 'w') as outfile:\n",
        "                    json.dump(preds, outfile)\n",
        "\n",
        "                abc = !python3 evaluate-v2.0-40.py ./dev-v2.0.json ./preds_model1_epoch_0.json\n",
        "      \n",
        "    abc = eval(''.join(abc))\n",
        "\n",
        "    for key, val in abc.items():\n",
        "      abc[key] = np.round(val, 2)\n",
        "    \n",
        "    return (epoch, abc)"
      ]
    },
    {
      "cell_type": "code",
      "execution_count": 17,
      "metadata": {
        "id": "4Ru-4faYEaYK"
      },
      "outputs": [],
      "source": [
        "if torch.cuda.is_available():\n",
        "    model1.cuda()\n",
        "    model2.cuda()\n",
        "    model3.cuda()\n",
        "    model4.cuda()"
      ]
    },
    {
      "cell_type": "code",
      "execution_count": 18,
      "metadata": {
        "id": "CCba6tMtEaYK"
      },
      "outputs": [],
      "source": [
        "EPOCHS = 3 #CHECK maybe change\n",
        "\n",
        "MODEL_FILE = \"./model1_File\"\n",
        "\n",
        "opti1 = AdamW(model1.parameters(), lr=2e-5)\n",
        "opti2 = AdamW(model2.parameters(), lr=2e-5)\n",
        "opti3 = AdamW(model3.parameters(), lr=2e-5)\n",
        "opti4 = AdamW(model4.parameters(), lr=2e-5)"
      ]
    },
    {
      "cell_type": "code",
      "execution_count": 19,
      "metadata": {
        "id": "pEb4UCpbEaYK"
      },
      "outputs": [],
      "source": [
        "def train(model, train_loader, dev_loader, optimizer, epochs, ignored_index):\n",
        "\n",
        "    train_epochs_loss, dev_epochs_loss = [], []\n",
        "    \n",
        "    lr = optimizer.param_groups[0]['lr']\n",
        "    initial_dev_loss, preds = evaluate(model, dev_loader, ignored_index)\n",
        "    dev_epochs_loss.append(initial_dev_loss)\n",
        "    dicts=[]\n",
        "    \n",
        "    dicts.append(produce_predictions_file(dev_que_id, preds, 0))\n",
        "    print(dicts[-1])\n",
        "\n",
        "    for epoch in range(0, epochs):\n",
        "        print(epoch)\n",
        "        model.train()\n",
        "        total_train_loss = 0.0\n",
        "        sum_loss = 0.0\n",
        "\n",
        "        for batch_idx, batch in enumerate(train_loader):\n",
        "            optimizer.zero_grad()\n",
        "\n",
        "            input_ids = batch['input_ids'].to(DEVICE)\n",
        "            attention_mask = batch['attention_mask'].to(DEVICE)\n",
        "            token_type_ids = batch['token_type_ids'].to(DEVICE)\n",
        "            start_positions = batch['start_positions'].to(DEVICE)\n",
        "            end_positions = batch['end_positions'].to(DEVICE)\n",
        "\n",
        "\n",
        "            start_o, end_o = model(input_ids=input_ids, attention_mask=attention_mask, token_type_ids=token_type_ids)\n",
        "\n",
        "            start_loss = F.nll_loss(start_o, start_positions, ignore_index=ignored_index)\n",
        "            end_loss = F.nll_loss(end_o, end_positions, ignore_index=ignored_index)\n",
        "            total_loss = (start_loss + end_loss) / 2\n",
        "            \n",
        "            total_train_loss += total_loss.item()\n",
        "            sum_loss += total_loss.item()\n",
        "\n",
        "            total_loss.backward()\n",
        "            optimizer.step()\n",
        "        \n",
        "        torch.save({\n",
        "            'epoch': epoch+1,\n",
        "            'model_state_dict': model.state_dict(),\n",
        "            'optimizer_state_dict': optimizer.state_dict(),\n",
        "        }, MODEL_FILE + \"-epoch\" + str(epoch + 1))\n",
        "        \n",
        "        avg_train_loss = total_train_loss / len(train_loader)            \n",
        "        train_epochs_loss.append(avg_train_loss)\n",
        "\n",
        "        model.eval()\n",
        "\n",
        "        avg_dev_loss, preds = evaluate(model, dev_loader, ignored_index)\n",
        "        dev_epochs_loss.append(avg_dev_loss)\n",
        "        \n",
        "        dicts.append(produce_predictions_file(dev_que_id, preds, epoch + 1))\n",
        "        print(dicts[-1])\n",
        "\n",
        "    return dicts, train_epochs_loss, dev_epochs_loss\n"
      ]
    },
    {
      "cell_type": "code",
      "execution_count": 20,
      "metadata": {
        "colab": {
          "base_uri": "https://localhost:8080/"
        },
        "id": "470Nd0PWEaYL",
        "outputId": "707b43bf-5ea1-4815-94ec-b84d5e92fb5e"
      },
      "outputs": [
        {
          "output_type": "stream",
          "name": "stdout",
          "text": [
            "(0, {'exact': 21.68, 'f1': 23.13, 'total': 1213, 'HasAns_exact': 0.0, 'HasAns_f1': 3.02, 'HasAns_total': 579, 'NoAns_exact': 41.48, 'NoAns_f1': 41.48, 'NoAns_total': 634})\n",
            "0\n",
            "(1, {'exact': 56.22, 'f1': 59.11, 'total': 1213, 'HasAns_exact': 39.03, 'HasAns_f1': 45.07, 'HasAns_total': 579, 'NoAns_exact': 71.92, 'NoAns_f1': 71.92, 'NoAns_total': 634})\n",
            "1\n",
            "(2, {'exact': 58.29, 'f1': 61.81, 'total': 1213, 'HasAns_exact': 45.08, 'HasAns_f1': 52.47, 'HasAns_total': 579, 'NoAns_exact': 70.35, 'NoAns_f1': 70.35, 'NoAns_total': 634})\n",
            "2\n",
            "(3, {'exact': 58.29, 'f1': 62.68, 'total': 1213, 'HasAns_exact': 58.2, 'HasAns_f1': 67.41, 'HasAns_total': 579, 'NoAns_exact': 58.36, 'NoAns_f1': 58.36, 'NoAns_total': 634})\n"
          ]
        }
      ],
      "source": [
        "dicts1, train_epochs_loss1, dev_epochs_loss1 = train(model1, train_loader, dev_loader, opti1, epochs=EPOCHS, ignored_index=tokenizer.model_max_length)"
      ]
    },
    {
      "cell_type": "code",
      "execution_count": 21,
      "metadata": {
        "colab": {
          "base_uri": "https://localhost:8080/"
        },
        "id": "fYN6jn5YGdUT",
        "outputId": "f752e4ec-61d5-48f3-9e0b-2b82b476ba91"
      },
      "outputs": [
        {
          "output_type": "stream",
          "name": "stdout",
          "text": [
            "(0, {'exact': 22.18, 'f1': 23.25, 'total': 1213, 'HasAns_exact': 0.0, 'HasAns_f1': 2.24, 'HasAns_total': 579, 'NoAns_exact': 42.43, 'NoAns_f1': 42.43, 'NoAns_total': 634})\n",
            "0\n",
            "(1, {'exact': 54.08, 'f1': 57.63, 'total': 1213, 'HasAns_exact': 33.68, 'HasAns_f1': 41.12, 'HasAns_total': 579, 'NoAns_exact': 72.71, 'NoAns_f1': 72.71, 'NoAns_total': 634})\n",
            "1\n",
            "(2, {'exact': 61.01, 'f1': 63.82, 'total': 1213, 'HasAns_exact': 48.7, 'HasAns_f1': 54.6, 'HasAns_total': 579, 'NoAns_exact': 72.24, 'NoAns_f1': 72.24, 'NoAns_total': 634})\n",
            "2\n",
            "(3, {'exact': 58.29, 'f1': 62.3, 'total': 1213, 'HasAns_exact': 55.79, 'HasAns_f1': 64.2, 'HasAns_total': 579, 'NoAns_exact': 60.57, 'NoAns_f1': 60.57, 'NoAns_total': 634})\n"
          ]
        }
      ],
      "source": [
        "dicts2, train_epochs_loss2, dev_epochs_loss2 = train(model2, train_loader, dev_loader, opti2, epochs=EPOCHS, ignored_index=tokenizer.model_max_length)"
      ]
    },
    {
      "cell_type": "code",
      "execution_count": 22,
      "metadata": {
        "id": "Ox_W3kqK2CPb",
        "colab": {
          "base_uri": "https://localhost:8080/"
        },
        "outputId": "2353ddc0-8e02-4675-90a8-231c9ed383fd"
      },
      "outputs": [
        {
          "output_type": "stream",
          "name": "stdout",
          "text": [
            "(0, {'exact': 21.68, 'f1': 23.47, 'total': 1213, 'HasAns_exact': 0.0, 'HasAns_f1': 3.74, 'HasAns_total': 579, 'NoAns_exact': 41.48, 'NoAns_f1': 41.48, 'NoAns_total': 634})\n",
            "0\n",
            "(1, {'exact': 50.95, 'f1': 55.01, 'total': 1213, 'HasAns_exact': 48.36, 'HasAns_f1': 56.88, 'HasAns_total': 579, 'NoAns_exact': 53.31, 'NoAns_f1': 53.31, 'NoAns_total': 634})\n",
            "1\n",
            "(2, {'exact': 57.38, 'f1': 60.39, 'total': 1213, 'HasAns_exact': 43.7, 'HasAns_f1': 50.01, 'HasAns_total': 579, 'NoAns_exact': 69.87, 'NoAns_f1': 69.87, 'NoAns_total': 634})\n",
            "2\n",
            "(3, {'exact': 57.96, 'f1': 62.05, 'total': 1213, 'HasAns_exact': 48.19, 'HasAns_f1': 56.76, 'HasAns_total': 579, 'NoAns_exact': 66.88, 'NoAns_f1': 66.88, 'NoAns_total': 634})\n"
          ]
        }
      ],
      "source": [
        "dicts3, train_epochs_loss3, dev_epochs_loss3 = train(model3, train_loader, dev_loader, opti3, epochs=EPOCHS, ignored_index=tokenizer.model_max_length)"
      ]
    },
    {
      "cell_type": "code",
      "execution_count": 23,
      "metadata": {
        "id": "XXQHmoLNlCRs",
        "colab": {
          "base_uri": "https://localhost:8080/"
        },
        "outputId": "3a98898e-d5a3-4837-cef8-c5752f584e77"
      },
      "outputs": [
        {
          "output_type": "stream",
          "name": "stdout",
          "text": [
            "(0, {'exact': 20.12, 'f1': 21.71, 'total': 1213, 'HasAns_exact': 0.0, 'HasAns_f1': 3.34, 'HasAns_total': 579, 'NoAns_exact': 38.49, 'NoAns_f1': 38.49, 'NoAns_total': 634})\n",
            "0\n",
            "(1, {'exact': 50.04, 'f1': 53.08, 'total': 1213, 'HasAns_exact': 24.7, 'HasAns_f1': 31.07, 'HasAns_total': 579, 'NoAns_exact': 73.19, 'NoAns_f1': 73.19, 'NoAns_total': 634})\n",
            "1\n",
            "(2, {'exact': 51.03, 'f1': 55.27, 'total': 1213, 'HasAns_exact': 38.51, 'HasAns_f1': 47.4, 'HasAns_total': 579, 'NoAns_exact': 62.46, 'NoAns_f1': 62.46, 'NoAns_total': 634})\n",
            "2\n",
            "(3, {'exact': 54.66, 'f1': 58.06, 'total': 1213, 'HasAns_exact': 35.75, 'HasAns_f1': 42.87, 'HasAns_total': 579, 'NoAns_exact': 71.92, 'NoAns_f1': 71.92, 'NoAns_total': 634})\n"
          ]
        }
      ],
      "source": [
        "dicts4, train_epochs_loss4, dev_epochs_loss4 = train(model4, train_loader, dev_loader, opti4, epochs=EPOCHS, ignored_index=tokenizer.model_max_length)"
      ]
    },
    {
      "cell_type": "code",
      "execution_count": 24,
      "metadata": {
        "id": "ikX_K6F7Zre7"
      },
      "outputs": [],
      "source": [
        "def draw_graph(dicts, title):\n",
        "  y_max = int(max([x[1][y] for (_ ,t, y) in dicts for x in t]))\n",
        "  y_min = int(min([x[1][y] for (_ ,t, y) in dicts for x in t]))\n",
        "\n",
        "  for line in dicts:\n",
        "    ep = list(range(1,len(line[1]) + 1))\n",
        "    by_key = [x[1][line[2]] for x in line[1]]\n",
        "    plt.plot(ep, by_key, \"o:\", label=line[0])\n",
        "    \n",
        "    for i, txt in zip(ep, by_key):\n",
        "      plt.annotate(str(np.round(txt,2)), (i, txt + 0.2))\n",
        "  \n",
        "  plt.yticks(list(range(y_min - 5, y_max + 10, 5)))\n",
        "  plt.ylabel(\"score\")\n",
        "  plt.xlabel(\"epoch\")\n",
        "  plt.title(title)\n",
        "  plt.xticks(ep)\n",
        "\n",
        "  plt.legend()\n",
        "  plt.show()"
      ]
    },
    {
      "cell_type": "code",
      "execution_count": 25,
      "metadata": {
        "id": "Hp7lIJkzZxp7"
      },
      "outputs": [],
      "source": [
        "def draw_graph_train_loss(ls, title):\n",
        "  y_max = int(max(ls))\n",
        "  y_min = int(min(ls))\n",
        "  ep = list(range(1,len(ls) + 1))\n",
        "  plt.plot(ep, ls)\n",
        "  \n",
        "  for i, txt in zip(ep, ls):\n",
        "    plt.annotate(str(np.round(txt,2)), (i, txt + 0.2))\n",
        "  \n",
        "  plt.yticks(list(range(y_min - 1, y_max + 4, 2)))\n",
        "  plt.ylabel(\"score\")\n",
        "  plt.xlabel(\"epoch\")\n",
        "  plt.title(title)\n",
        "  plt.xticks(ep)\n",
        "  \n",
        "  # plt.legend()\n",
        "  plt.show()"
      ]
    },
    {
      "cell_type": "code",
      "execution_count": 26,
      "metadata": {
        "id": "yLE3YqIhZ1hz",
        "colab": {
          "base_uri": "https://localhost:8080/",
          "height": 1000
        },
        "outputId": "06f6d7e4-190b-4038-abb8-42dfa36c7186"
      },
      "outputs": [
        {
          "output_type": "display_data",
          "data": {
            "text/plain": [
              "<Figure size 432x288 with 1 Axes>"
            ],
            "image/png": "[encoded data removed]"
          },
          "metadata": {
            "needs_background": "light"
          }
        },
        {
          "output_type": "stream",
          "name": "stdout",
          "text": [
            "\n"
          ]
        },
        {
          "output_type": "display_data",
          "data": {
            "text/plain": [
              "<Figure size 432x288 with 1 Axes>"
            ],
            "image/png": "[encoded data removed]"
          },
          "metadata": {
            "needs_background": "light"
          }
        },
        {
          "output_type": "stream",
          "name": "stdout",
          "text": [
            "\n",
            "\n",
            "\n"
          ]
        },
        {
          "output_type": "display_data",
          "data": {
            "text/plain": [
              "<Figure size 432x288 with 1 Axes>"
            ],
            "image/png": "[encoded data removed]"
          },
          "metadata": {
            "needs_background": "light"
          }
        },
        {
          "output_type": "stream",
          "name": "stdout",
          "text": [
            "\n"
          ]
        },
        {
          "output_type": "display_data",
          "data": {
            "text/plain": [
              "<Figure size 432x288 with 1 Axes>"
            ],
            "image/png": "[encoded data removed]"
          },
          "metadata": {
            "needs_background": "light"
          }
        },
        {
          "output_type": "stream",
          "name": "stdout",
          "text": [
            "\n",
            "\n",
            "\n"
          ]
        },
        {
          "output_type": "display_data",
          "data": {
            "text/plain": [
              "<Figure size 432x288 with 1 Axes>"
            ],
            "image/png": "[encoded data removed]"
          },
          "metadata": {
            "needs_background": "light"
          }
        },
        {
          "output_type": "stream",
          "name": "stdout",
          "text": [
            "\n"
          ]
        },
        {
          "output_type": "display_data",
          "data": {
            "text/plain": [
              "<Figure size 432x288 with 1 Axes>"
            ],
            "image/png": "[encoded data removed]"
          },
          "metadata": {
            "needs_background": "light"
          }
        },
        {
          "output_type": "stream",
          "name": "stdout",
          "text": [
            "\n",
            "\n",
            "\n"
          ]
        },
        {
          "output_type": "display_data",
          "data": {
            "text/plain": [
              "<Figure size 432x288 with 1 Axes>"
            ],
            "image/png": "[encoded data removed]"
          },
          "metadata": {
            "needs_background": "light"
          }
        },
        {
          "output_type": "stream",
          "name": "stdout",
          "text": [
            "\n"
          ]
        },
        {
          "output_type": "display_data",
          "data": {
            "text/plain": [
              "<Figure size 432x288 with 1 Axes>"
            ],
            "image/png": "[encoded data removed]"
          },
          "metadata": {
            "needs_background": "light"
          }
        },
        {
          "output_type": "stream",
          "name": "stdout",
          "text": [
            "\n",
            "\n",
            "\n"
          ]
        }
      ],
      "source": [
        "all_dicts = [dicts1[1:], dicts2[1:], dicts3[1:], dicts4[1:]]\n",
        "train_loss = [train_epochs_loss1, train_epochs_loss2, train_epochs_loss3, train_epochs_loss4]\n",
        "for i, freez in enumerate([0,2,4,8]):\n",
        "  graph = [(\"EM\",all_dicts[i],\"exact\"), (\"f1\",all_dicts[i],\"f1\")]\n",
        "  draw_graph(graph, \"freez \" + str(freez))\n",
        "  print()\n",
        "  draw_graph_train_loss(train_loss[i], \"train loss, freez \" + str(freez))\n",
        "  print()\n",
        "  print()\n",
        "  print()"
      ]
    }
  ],
  "metadata": {
    "accelerator": "GPU",
    "colab": {
      "collapsed_sections": [],
      "machine_shape": "hm",
      "name": "NLP_final_project_NivNisanov_LiranGoldstein_copy.ipynb",
      "provenance": []
    },
    "gpuClass": "standard",
    "kernelspec": {
      "display_name": "Python 3",
      "language": "python",
      "name": "python3"
    },
    "language_info": {
      "codemirror_mode": {
        "name": "ipython",
        "version": 3
      },
      "file_extension": ".py",
      "mimetype": "text/x-python",
      "name": "python",
      "nbconvert_exporter": "python",
      "pygments_lexer": "ipython3",
      "version": "3.8.5"
    }
  },
  "nbformat": 4,
  "nbformat_minor": 0
}