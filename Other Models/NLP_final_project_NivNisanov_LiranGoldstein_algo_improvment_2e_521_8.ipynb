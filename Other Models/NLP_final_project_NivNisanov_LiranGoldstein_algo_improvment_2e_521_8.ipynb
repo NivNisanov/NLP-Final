{
  "cells": [
    {
      "cell_type": "code",
      "execution_count": 1,
      "metadata": {
        "colab": {
          "base_uri": "https://localhost:8080/"
        },
        "id": "7-zLJOk2u_Q5",
        "outputId": "7a81b707-9ec7-4bb3-af94-b6cfd7309381"
      },
      "outputs": [
        {
          "output_type": "stream",
          "name": "stdout",
          "text": [
            "Looking in indexes: https://pypi.org/simple, https://us-python.pkg.dev/colab-wheels/public/simple/\n",
            "Collecting transformers==2.11.0\n",
            "  Downloading transformers-2.11.0-py3-none-any.whl (674 kB)\n",
            "\u001b[K     |████████████████████████████████| 674 kB 4.1 MB/s \n",
            "\u001b[?25hRequirement already satisfied: requests in /usr/local/lib/python3.7/dist-packages (from transformers==2.11.0) (2.23.0)\n",
            "Requirement already satisfied: regex!=2019.12.17 in /usr/local/lib/python3.7/dist-packages (from transformers==2.11.0) (2022.6.2)\n",
            "Requirement already satisfied: filelock in /usr/local/lib/python3.7/dist-packages (from transformers==2.11.0) (3.7.1)\n",
            "Requirement already satisfied: tqdm>=4.27 in /usr/local/lib/python3.7/dist-packages (from transformers==2.11.0) (4.64.0)\n",
            "Requirement already satisfied: packaging in /usr/local/lib/python3.7/dist-packages (from transformers==2.11.0) (21.3)\n",
            "Collecting tokenizers==0.7.0\n",
            "  Downloading tokenizers-0.7.0-cp37-cp37m-manylinux1_x86_64.whl (5.6 MB)\n",
            "\u001b[K     |████████████████████████████████| 5.6 MB 73.9 MB/s \n",
            "\u001b[?25hCollecting sentencepiece\n",
            "  Downloading sentencepiece-0.1.96-cp37-cp37m-manylinux_2_17_x86_64.manylinux2014_x86_64.whl (1.2 MB)\n",
            "\u001b[K     |████████████████████████████████| 1.2 MB 78.0 MB/s \n",
            "\u001b[?25hCollecting sacremoses\n",
            "  Downloading sacremoses-0.0.53.tar.gz (880 kB)\n",
            "\u001b[K     |████████████████████████████████| 880 kB 82.2 MB/s \n",
            "\u001b[?25hRequirement already satisfied: numpy in /usr/local/lib/python3.7/dist-packages (from transformers==2.11.0) (1.21.6)\n",
            "Requirement already satisfied: pyparsing!=3.0.5,>=2.0.2 in /usr/local/lib/python3.7/dist-packages (from packaging->transformers==2.11.0) (3.0.9)\n",
            "Requirement already satisfied: urllib3!=1.25.0,!=1.25.1,<1.26,>=1.21.1 in /usr/local/lib/python3.7/dist-packages (from requests->transformers==2.11.0) (1.24.3)\n",
            "Requirement already satisfied: chardet<4,>=3.0.2 in /usr/local/lib/python3.7/dist-packages (from requests->transformers==2.11.0) (3.0.4)\n",
            "Requirement already satisfied: certifi>=2017.4.17 in /usr/local/lib/python3.7/dist-packages (from requests->transformers==2.11.0) (2022.6.15)\n",
            "Requirement already satisfied: idna<3,>=2.5 in /usr/local/lib/python3.7/dist-packages (from requests->transformers==2.11.0) (2.10)\n",
            "Requirement already satisfied: six in /usr/local/lib/python3.7/dist-packages (from sacremoses->transformers==2.11.0) (1.15.0)\n",
            "Requirement already satisfied: click in /usr/local/lib/python3.7/dist-packages (from sacremoses->transformers==2.11.0) (7.1.2)\n",
            "Requirement already satisfied: joblib in /usr/local/lib/python3.7/dist-packages (from sacremoses->transformers==2.11.0) (1.1.0)\n",
            "Building wheels for collected packages: sacremoses\n",
            "  Building wheel for sacremoses (setup.py) ... \u001b[?25l\u001b[?25hdone\n",
            "  Created wheel for sacremoses: filename=sacremoses-0.0.53-py3-none-any.whl size=895260 sha256=aeac2606975f7116247a5b4cbd68be882a6c1ff80d25cf204fc2479da2200aa9\n",
            "  Stored in directory: /root/.cache/pip/wheels/87/39/dd/a83eeef36d0bf98e7a4d1933a4ad2d660295a40613079bafc9\n",
            "Successfully built sacremoses\n",
            "Installing collected packages: tokenizers, sentencepiece, sacremoses, transformers\n",
            "Successfully installed sacremoses-0.0.53 sentencepiece-0.1.96 tokenizers-0.7.0 transformers-2.11.0\n"
          ]
        }
      ],
      "source": [
        "!pip install transformers==2.11.0 #CHECK maybe remove =="
      ]
    },
    {
      "cell_type": "code",
      "execution_count": 2,
      "metadata": {
        "id": "7qYbt8zAvzEF"
      },
      "outputs": [],
      "source": [
        "import json\n",
        "import time\n",
        "import torch\n",
        "import datetime\n",
        "import numpy as np\n",
        "from torch import nn\n",
        "import torch.nn.functional as F\n",
        "from torch.utils.data import DataLoader\n",
        "from transformers import BertTokenizerFast, BertModel, BertPreTrainedModel\n",
        "from transformers import AdamW\n",
        "import matplotlib.pyplot as plt\n",
        "# CHECK maybe remove some"
      ]
    },
    {
      "cell_type": "code",
      "execution_count": 3,
      "metadata": {
        "colab": {
          "base_uri": "https://localhost:8080/"
        },
        "id": "PPjKyF4AE4di",
        "outputId": "cbf2aea9-5a9d-40ec-f76d-12d3f569fcff"
      },
      "outputs": [
        {
          "output_type": "stream",
          "name": "stdout",
          "text": [
            "Mounted at /content/drive\n",
            "/content/drive/My Drive/NLP\n"
          ]
        }
      ],
      "source": [
        "from google.colab import drive\n",
        "drive.mount('/content/drive')\n",
        "%cd '/content/drive/My Drive/NLP/'"
      ]
    },
    {
      "cell_type": "code",
      "execution_count": 4,
      "metadata": {
        "id": "UVFMh87Nv8KS",
        "colab": {
          "base_uri": "https://localhost:8080/",
          "height": 49,
          "referenced_widgets": [
            "2b2faaeb20c9451db73de9c316fb36d5",
            "0186c081dd7f4b0da639c51657ee3d96",
            "b50fa8eba0fa45b7a4f6f19a9c1cfc2d",
            "4665595deaac484e83bab04766e2d048",
            "ae34ad1b63e046b6af32cdb4458dfc22",
            "b4e3e19d6ed2408dacc7ab030b0a03af",
            "a37a0bbc48044f2b950780efa6e503d6",
            "ab8ad7609e23418c95b8c116e9723623",
            "9889be9c0bd24cf08a1a3619bc18631a",
            "fd358b70780943d99929df3048f76b2f",
            "9036b7f27b9b4907b746656f971d2dc4"
          ]
        },
        "outputId": "abb38bd0-4b67-4cf3-ea92-47057ca1f00b"
      },
      "outputs": [
        {
          "output_type": "display_data",
          "data": {
            "text/plain": [
              "Downloading:   0%|          | 0.00/232k [00:00<?, ?B/s]"
            ],
            "application/vnd.jupyter.widget-view+json": {
              "version_major": 2,
              "version_minor": 0,
              "model_id": "2b2faaeb20c9451db73de9c316fb36d5"
            }
          },
          "metadata": {}
        }
      ],
      "source": [
        "np.random.seed(42)\n",
        "torch.manual_seed(42)\n",
        "torch.cuda.manual_seed(42)\n",
        "\n",
        "DEVICE = torch.device('cuda') if torch.cuda.is_available() else torch.device('cpu')\n",
        "tokenizer = BertTokenizerFast.from_pretrained('bert-base-uncased', do_lower_case=True)"
      ]
    },
    {
      "cell_type": "code",
      "execution_count": 5,
      "metadata": {
        "id": "kCtApFNbwLHD"
      },
      "outputs": [],
      "source": [
        "class Bert_QA_Model(nn.Module):\n",
        "\n",
        "    def __init__(self, freeze = 0):\n",
        "        super(Bert_QA_Model, self).__init__()\n",
        "\n",
        "        self.bert = BertModel.from_pretrained(\"bert-base-uncased\")\n",
        "        self.hidden_size = self.bert.config.hidden_size\n",
        "        self.start_lin = nn.Linear(self.hidden_size, 1)\n",
        "        self.end_lin = nn.Linear(self.hidden_size, 1)\n",
        "\n",
        "\n",
        "        if freeze != 0:\n",
        "          for param in list(self.bert.embeddings.parameters()):\n",
        "              param.requires_grad = False\n",
        "                \n",
        "          for i in range(1, 1 + freeze):\n",
        "              for param in list(self.bert.encoder.layer[i].parameters()):\n",
        "                  param.requires_grad = False\n",
        "\n",
        "\n",
        "    def forward(self, input_ids=None, attention_mask=None, token_type_ids=None):\n",
        "        \n",
        "        bert_out = self.bert(input_ids=input_ids, attention_mask=attention_mask, token_type_ids=token_type_ids)\n",
        "        hidden_states = bert_out[0]\n",
        "        start_log = self.start_lin(hidden_states).squeeze(-1)\n",
        "        end_log = self.end_lin(hidden_states).squeeze(-1) \n",
        "        start_probs = F.log_softmax(start_log, dim=1)\n",
        "        end_probs = F.log_softmax(end_log, dim=1)\n",
        "\n",
        "        return start_probs, end_probs"
      ]
    },
    {
      "cell_type": "code",
      "execution_count": 6,
      "metadata": {
        "id": "lRoV2LFtxCGv",
        "colab": {
          "base_uri": "https://localhost:8080/",
          "height": 81,
          "referenced_widgets": [
            "37cb061aea16447186ca22f0573e2a6c",
            "240621192fe242f1b712ec7dc4509974",
            "a47a0eabe79a4402994400e802cf871f",
            "d010f4bcda664748872bfe44865470b9",
            "18cd74f268f7414b8a4106b496862517",
            "265051efe7164a0f8a5dcac606bc1f37",
            "8aa8530c11394a25b4711e771c0758a7",
            "15eb47e25f074b10abe288542033ad8f",
            "676c750069fd494498bb93b0458d3ce3",
            "bf39cf5f31d74ea8acfd7b419be73a0e",
            "dd40a419f0fe496690b4b29726324d06",
            "656866320a9c4db08ccf8c8f4249fd87",
            "a6b08f951e304cdfaa7973f4bc13cbb8",
            "c1ffb0824bc249f8979ff1e51050cd8d",
            "dd5accd995b34cc397ea3f76d93d1fac",
            "7ee434b2329347339eb830a1f2dbafb2",
            "af4ee7dac0784966a75f7494aeee0dcf",
            "5c9e4c74bef84fb8bcfac26fc86ca17a",
            "5055f9fc18d24c8fbaef49138d51e23a",
            "2f3e4c97e83a4983984ce19924aa8daa",
            "50d5ba465042466b9628625aaac81752",
            "1cd16e186db1428aa6d6d886326b52b0"
          ]
        },
        "outputId": "5b45ad26-53f0-4813-a8a5-1728b4d5427a"
      },
      "outputs": [
        {
          "output_type": "display_data",
          "data": {
            "text/plain": [
              "Downloading:   0%|          | 0.00/433 [00:00<?, ?B/s]"
            ],
            "application/vnd.jupyter.widget-view+json": {
              "version_major": 2,
              "version_minor": 0,
              "model_id": "37cb061aea16447186ca22f0573e2a6c"
            }
          },
          "metadata": {}
        },
        {
          "output_type": "display_data",
          "data": {
            "text/plain": [
              "Downloading:   0%|          | 0.00/440M [00:00<?, ?B/s]"
            ],
            "application/vnd.jupyter.widget-view+json": {
              "version_major": 2,
              "version_minor": 0,
              "model_id": "656866320a9c4db08ccf8c8f4249fd87"
            }
          },
          "metadata": {}
        }
      ],
      "source": [
        "model1 = Bert_QA_Model()\n",
        "model2 = Bert_QA_Model(2)\n",
        "model3 = Bert_QA_Model(4)\n",
        "model4 = Bert_QA_Model(8)"
      ]
    },
    {
      "cell_type": "code",
      "execution_count": 7,
      "metadata": {
        "id": "vCATwB0IdEpf"
      },
      "outputs": [],
      "source": [
        "def squad_to_lists(file_name, cutsize=False):\n",
        "    with open(file_name, 'r') as file:\n",
        "        data = json.load(file)\n",
        "\n",
        "    que, con, ans, que_id = [], [], [], []\n",
        "\n",
        "    for i in range(0,len(data['data']), 5):\n",
        "      for p in range(0, len(data['data'][i]['paragraphs']), 2): \n",
        "\n",
        "          context = data['data'][i]['paragraphs'][p]['context']\n",
        "          for q in range(0, len(data['data'][i]['paragraphs'][p]['qas']), 1): \n",
        "\n",
        "              question = data['data'][i]['paragraphs'][p]['qas'][q]['question']\n",
        "              question_id = data['data'][i]['paragraphs'][p]['qas'][q][\"id\"]\n",
        "              temp = data['data'][i]['paragraphs'][p]['qas'][q]['answers']\n",
        "              answer = temp[0] if temp else {\"answer_end\": 0, \"answer_start\": 0}\n",
        "\n",
        "              if temp:\n",
        "                answer[\"answer_end\"] = answer[\"answer_start\"] + len(answer[\"text\"])\n",
        "\n",
        "              con.append(context)\n",
        "              que.append(question)                    \n",
        "              ans.append(answer)\n",
        "              que_id.append(question_id)\n",
        "\n",
        "    return que, con, ans,  que_id"
      ]
    },
    {
      "cell_type": "code",
      "execution_count": 8,
      "metadata": {
        "id": "6CNb7jbBExEp"
      },
      "outputs": [],
      "source": [
        "train_que, train_con, train_ans, _ = squad_to_lists('train-v2.0.json', True)\n",
        "dev_que, dev_con, dev_ans, dev_que_id = squad_to_lists('dev-v2.0.json',True)"
      ]
    },
    {
      "cell_type": "code",
      "execution_count": 9,
      "metadata": {
        "colab": {
          "base_uri": "https://localhost:8080/"
        },
        "id": "Khnz2HldKNOb",
        "outputId": "5f46db14-7048-4e0e-be7f-64ac994d26c6"
      },
      "outputs": [
        {
          "output_type": "stream",
          "name": "stdout",
          "text": [
            "12941\n"
          ]
        }
      ],
      "source": [
        "print(len(train_que))"
      ]
    },
    {
      "cell_type": "code",
      "execution_count": 10,
      "metadata": {
        "id": "LXJgqKq3LIFZ"
      },
      "outputs": [],
      "source": [
        "zipped_train = list(zip(train_con, train_que))\n",
        "zipped_dev = list(zip(dev_con, dev_que))\n",
        "\n",
        "train_encod = tokenizer.batch_encode_plus(zipped_train, max_length=tokenizer.model_max_length, pad_to_max_length=True, return_token_type_ids=True)\n",
        "\n",
        "dev_encod = tokenizer.batch_encode_plus(zipped_dev, max_length=tokenizer.model_max_length, pad_to_max_length=True, return_token_type_ids=True)"
      ]
    },
    {
      "cell_type": "code",
      "execution_count": 11,
      "metadata": {
        "id": "uO3-MsJ3N4Bk"
      },
      "outputs": [],
      "source": [
        "def add_token_positions(tokenizer, encodings, answers):\n",
        "    start_pos = []\n",
        "    end_pos = []\n",
        "    \n",
        "    for i in range(len(answers)):\n",
        "\n",
        "        start_pos.append(encodings.char_to_token(i, answers[i]['answer_start']) if answers[i]['answer_end'] != 0 else 0)\n",
        "        end_pos.append(encodings.char_to_token(i, answers[i]['answer_end'] - 1) if answers[i]['answer_end'] != 0 else 0)    \n",
        "        \n",
        "        start_pos[-1] = tokenizer.model_max_length if start_pos[-1] is None else start_pos[-1]\n",
        "        end_pos[-1] = tokenizer.model_max_length if end_pos[-1] is None else end_pos[-1]\n",
        "    \n",
        "    encodings.update({'start_positions': start_pos, 'end_positions': end_pos})\n"
      ]
    },
    {
      "cell_type": "code",
      "execution_count": 12,
      "metadata": {
        "id": "XIqRZGKLPBUZ"
      },
      "outputs": [],
      "source": [
        "add_token_positions(tokenizer, train_encod, train_ans)\n",
        "add_token_positions(tokenizer,dev_encod, dev_ans)"
      ]
    },
    {
      "cell_type": "code",
      "execution_count": 13,
      "metadata": {
        "id": "KStrzdbKQ06I"
      },
      "outputs": [],
      "source": [
        "class Squad_to_dataset(torch.utils.data.Dataset):\n",
        "    \n",
        "  def __init__(self, encodings):\n",
        "    self.encodings = encodings\n",
        "    self.length = len(self.encodings.input_ids)\n",
        "\n",
        "  def __getitem__(self, idx):\n",
        "    res = {}\n",
        "    for key, val in self.encodings.items():\n",
        "      res[key] = torch.tensor(val[idx])\n",
        "\n",
        "    return res\n",
        "\n",
        "  def __len__(self):\n",
        "    return self.length"
      ]
    },
    {
      "cell_type": "code",
      "execution_count": 14,
      "metadata": {
        "id": "Bti8m3VDQ2aW"
      },
      "outputs": [],
      "source": [
        "train_loader = DataLoader(Squad_to_dataset(train_encod), batch_size=8, shuffle=True)\n",
        "\n",
        "dev_loader = DataLoader(Squad_to_dataset(dev_encod), batch_size=8, shuffle=False)"
      ]
    },
    {
      "cell_type": "code",
      "execution_count": 15,
      "metadata": {
        "id": "NRWym9m4XWYo"
      },
      "outputs": [],
      "source": [
        "def evaluate(model, loader, ignored_index):\n",
        "    answers = []\n",
        "    total_dev_loss = 0\n",
        "\n",
        "    with torch.no_grad():\n",
        "\n",
        "        for b in loader:\n",
        "\n",
        "            input_ids = b['input_ids'].to(DEVICE)\n",
        "            attention_mask = b['attention_mask'].to(DEVICE)\n",
        "            token_type_ids = b['token_type_ids'].to(DEVICE)\n",
        "            start_positions = b['start_positions'].to(DEVICE)\n",
        "            end_positions = b['end_positions'].to(DEVICE)\n",
        "\n",
        "\n",
        "            start_o, end_o = model(input_ids=input_ids, attention_mask=attention_mask, token_type_ids=token_type_ids) \n",
        "\n",
        "            start_loss = F.nll_loss(start_o, start_positions, ignore_index=ignored_index)\n",
        "            end_loss = F.nll_loss(end_o, end_positions, ignore_index=ignored_index)\n",
        "\n",
        "            total_loss = (start_loss + end_loss) / 2\n",
        "            total_dev_loss += total_loss.item()\n",
        "            start_pred = torch.argmax(start_o.detach().cpu(), dim=1).tolist()\n",
        "            end_pred = torch.argmax(end_o.detach().cpu(), dim=1).tolist()\n",
        "            input_ids = input_ids.detach().cpu().tolist()\n",
        "            cls_t = [tokenizer.cls_token_id]\n",
        "\n",
        "            for current_input_ids, start_p, end_p in zip(input_ids, start_pred, end_pred):\n",
        "\n",
        "                ans_tokens = current_input_ids[start_p: end_p + 1]\n",
        "\n",
        "                if cls_t != ans_tokens and cls_t[0] in ans_tokens:\n",
        "                    del ans_tokens[0]\n",
        "                \n",
        "                if cls_t == ans_tokens:\n",
        "                    answers.append('')\n",
        "                else:\n",
        "                    answers.append(tokenizer.convert_tokens_to_string(ans_tokens))\n",
        "\n",
        "    return total_dev_loss / len(loader), answers"
      ]
    },
    {
      "cell_type": "code",
      "execution_count": 16,
      "metadata": {
        "id": "dxo0VGLdrcSF"
      },
      "outputs": [],
      "source": [
        "def produce_predictions_file(questions_ids, predictions, epoch):\n",
        "    \n",
        "    preds = {key: val for key, val in zip(questions_ids, predictions)}\n",
        "\n",
        "    if epoch == 1:\n",
        "        with open('./preds_model1_epoch_1.json', 'w') as outfile:\n",
        "            json.dump(preds, outfile)\n",
        "\n",
        "        abc = !python3 evaluate-v2.0-40.py ./dev-v2.0.json ./preds_model1_epoch_1.json\n",
        "    else:\n",
        "        if epoch == 2:\n",
        "            with open('./preds_model1_epoch_2.json', 'w') as outfile:\n",
        "                json.dump(preds, outfile)\n",
        "\n",
        "            abc = !python3 evaluate-v2.0-40.py ./dev-v2.0.json ./preds_model1_epoch_2.json\n",
        "        else:\n",
        "            if epoch == 3:\n",
        "                with open('./preds_model1_epoch_3.json', 'w') as outfile:\n",
        "                    json.dump(preds, outfile)\n",
        "\n",
        "                abc = !python3 evaluate-v2.0-40.py ./dev-v2.0.json ./preds_model1_epoch_3.json\n",
        "            else:\n",
        "                with open('./preds_model1_epoch_0.json', 'w') as outfile:\n",
        "                    json.dump(preds, outfile)\n",
        "\n",
        "                abc = !python3 evaluate-v2.0-40.py ./dev-v2.0.json ./preds_model1_epoch_0.json\n",
        "      \n",
        "    abc = eval(''.join(abc))\n",
        "\n",
        "    for key, val in abc.items():\n",
        "      abc[key] = np.round(val, 2)\n",
        "    \n",
        "    return (epoch, abc)"
      ]
    },
    {
      "cell_type": "code",
      "execution_count": 17,
      "metadata": {
        "id": "4Ru-4faYEaYK"
      },
      "outputs": [],
      "source": [
        "if torch.cuda.is_available():\n",
        "    model1.cuda()\n",
        "    model2.cuda()\n",
        "    model3.cuda()\n",
        "    model4.cuda()"
      ]
    },
    {
      "cell_type": "code",
      "execution_count": 18,
      "metadata": {
        "id": "CCba6tMtEaYK"
      },
      "outputs": [],
      "source": [
        "EPOCHS = 3 #CHECK maybe change\n",
        "\n",
        "MODEL_FILE = \"./model1_File\"\n",
        "\n",
        "opti1 = AdamW(model1.parameters(), lr=2e-5)\n",
        "opti2 = AdamW(model2.parameters(), lr=2e-5)\n",
        "opti3 = AdamW(model3.parameters(), lr=2e-5)\n",
        "opti4 = AdamW(model4.parameters(), lr=2e-5)"
      ]
    },
    {
      "cell_type": "code",
      "execution_count": 19,
      "metadata": {
        "id": "pEb4UCpbEaYK"
      },
      "outputs": [],
      "source": [
        "def train(model, train_loader, dev_loader, optimizer, epochs, ignored_index):\n",
        "\n",
        "    train_epochs_loss, dev_epochs_loss = [], []\n",
        "    \n",
        "    lr = optimizer.param_groups[0]['lr']\n",
        "    initial_dev_loss, preds = evaluate(model, dev_loader, ignored_index)\n",
        "    dev_epochs_loss.append(initial_dev_loss)\n",
        "    dicts=[]\n",
        "    \n",
        "    dicts.append(produce_predictions_file(dev_que_id, preds, 0))\n",
        "    print(dicts[-1])\n",
        "\n",
        "    for epoch in range(0, epochs):\n",
        "        print(epoch)\n",
        "        model.train()\n",
        "        total_train_loss = 0.0\n",
        "        sum_loss = 0.0\n",
        "\n",
        "        for batch_idx, batch in enumerate(train_loader):\n",
        "            optimizer.zero_grad()\n",
        "\n",
        "            input_ids = batch['input_ids'].to(DEVICE)\n",
        "            attention_mask = batch['attention_mask'].to(DEVICE)\n",
        "            token_type_ids = batch['token_type_ids'].to(DEVICE)\n",
        "            start_positions = batch['start_positions'].to(DEVICE)\n",
        "            end_positions = batch['end_positions'].to(DEVICE)\n",
        "\n",
        "\n",
        "            start_o, end_o = model(input_ids=input_ids, attention_mask=attention_mask, token_type_ids=token_type_ids)\n",
        "\n",
        "            start_loss = F.nll_loss(start_o, start_positions, ignore_index=ignored_index)\n",
        "            end_loss = F.nll_loss(end_o, end_positions, ignore_index=ignored_index)\n",
        "            total_loss = (start_loss + end_loss) / 2\n",
        "            \n",
        "            total_train_loss += total_loss.item()\n",
        "            sum_loss += total_loss.item()\n",
        "\n",
        "            total_loss.backward()\n",
        "            optimizer.step()\n",
        "        \n",
        "        torch.save({\n",
        "            'epoch': epoch+1,\n",
        "            'model_state_dict': model.state_dict(),\n",
        "            'optimizer_state_dict': optimizer.state_dict(),\n",
        "        }, MODEL_FILE + \"-epoch\" + str(epoch + 1))\n",
        "        \n",
        "        avg_train_loss = total_train_loss / len(train_loader)            \n",
        "        train_epochs_loss.append(avg_train_loss)\n",
        "\n",
        "        model.eval()\n",
        "\n",
        "        avg_dev_loss, preds = evaluate(model, dev_loader, ignored_index)\n",
        "        dev_epochs_loss.append(avg_dev_loss)\n",
        "        \n",
        "        dicts.append(produce_predictions_file(dev_que_id, preds, epoch + 1))\n",
        "        print(dicts[-1])\n",
        "\n",
        "    return dicts, train_epochs_loss, dev_epochs_loss\n"
      ]
    },
    {
      "cell_type": "code",
      "execution_count": 20,
      "metadata": {
        "colab": {
          "base_uri": "https://localhost:8080/"
        },
        "id": "470Nd0PWEaYL",
        "outputId": "760940a4-b7d0-4d16-ef01-504c2eba3773"
      },
      "outputs": [
        {
          "output_type": "stream",
          "name": "stdout",
          "text": [
            "(0, {'exact': 21.68, 'f1': 23.13, 'total': 1213, 'HasAns_exact': 0.0, 'HasAns_f1': 3.02, 'HasAns_total': 579, 'NoAns_exact': 41.48, 'NoAns_f1': 41.48, 'NoAns_total': 634})\n",
            "0\n",
            "(1, {'exact': 53.67, 'f1': 56.14, 'total': 1213, 'HasAns_exact': 28.15, 'HasAns_f1': 33.32, 'HasAns_total': 579, 'NoAns_exact': 76.97, 'NoAns_f1': 76.97, 'NoAns_total': 634})\n",
            "1\n",
            "(2, {'exact': 58.12, 'f1': 60.61, 'total': 1213, 'HasAns_exact': 40.41, 'HasAns_f1': 45.62, 'HasAns_total': 579, 'NoAns_exact': 74.29, 'NoAns_f1': 74.29, 'NoAns_total': 634})\n",
            "2\n",
            "(3, {'exact': 57.05, 'f1': 61.43, 'total': 1213, 'HasAns_exact': 55.96, 'HasAns_f1': 65.13, 'HasAns_total': 579, 'NoAns_exact': 58.04, 'NoAns_f1': 58.04, 'NoAns_total': 634})\n"
          ]
        }
      ],
      "source": [
        "dicts1, train_epochs_loss1, dev_epochs_loss1 = train(model1, train_loader, dev_loader, opti1, epochs=EPOCHS, ignored_index=tokenizer.model_max_length)"
      ]
    },
    {
      "cell_type": "code",
      "execution_count": 21,
      "metadata": {
        "colab": {
          "base_uri": "https://localhost:8080/"
        },
        "id": "fYN6jn5YGdUT",
        "outputId": "87525eb4-80d5-42a9-849a-a97afcfa4613"
      },
      "outputs": [
        {
          "output_type": "stream",
          "name": "stdout",
          "text": [
            "(0, {'exact': 22.18, 'f1': 23.25, 'total': 1213, 'HasAns_exact': 0.0, 'HasAns_f1': 2.24, 'HasAns_total': 579, 'NoAns_exact': 42.43, 'NoAns_f1': 42.43, 'NoAns_total': 634})\n",
            "0\n",
            "(1, {'exact': 54.49, 'f1': 57.62, 'total': 1213, 'HasAns_exact': 35.41, 'HasAns_f1': 41.96, 'HasAns_total': 579, 'NoAns_exact': 71.92, 'NoAns_f1': 71.92, 'NoAns_total': 634})\n",
            "1\n",
            "(2, {'exact': 59.44, 'f1': 62.8, 'total': 1213, 'HasAns_exact': 51.47, 'HasAns_f1': 58.5, 'HasAns_total': 579, 'NoAns_exact': 66.72, 'NoAns_f1': 66.72, 'NoAns_total': 634})\n",
            "2\n",
            "(3, {'exact': 57.87, 'f1': 61.78, 'total': 1213, 'HasAns_exact': 56.65, 'HasAns_f1': 64.84, 'HasAns_total': 579, 'NoAns_exact': 58.99, 'NoAns_f1': 58.99, 'NoAns_total': 634})\n"
          ]
        }
      ],
      "source": [
        "dicts2, train_epochs_loss2, dev_epochs_loss2 = train(model2, train_loader, dev_loader, opti2, epochs=EPOCHS, ignored_index=tokenizer.model_max_length)"
      ]
    },
    {
      "cell_type": "code",
      "execution_count": 22,
      "metadata": {
        "id": "Ox_W3kqK2CPb",
        "colab": {
          "base_uri": "https://localhost:8080/"
        },
        "outputId": "4a510680-0440-4667-e3e1-a0c6381d2971"
      },
      "outputs": [
        {
          "output_type": "stream",
          "name": "stdout",
          "text": [
            "(0, {'exact': 21.68, 'f1': 23.47, 'total': 1213, 'HasAns_exact': 0.0, 'HasAns_f1': 3.74, 'HasAns_total': 579, 'NoAns_exact': 41.48, 'NoAns_f1': 41.48, 'NoAns_total': 634})\n",
            "0\n",
            "(1, {'exact': 48.23, 'f1': 52.1, 'total': 1213, 'HasAns_exact': 50.78, 'HasAns_f1': 58.89, 'HasAns_total': 579, 'NoAns_exact': 45.9, 'NoAns_f1': 45.9, 'NoAns_total': 634})\n",
            "1\n",
            "(2, {'exact': 56.64, 'f1': 59.23, 'total': 1213, 'HasAns_exact': 40.07, 'HasAns_f1': 45.5, 'HasAns_total': 579, 'NoAns_exact': 71.77, 'NoAns_f1': 71.77, 'NoAns_total': 634})\n",
            "2\n",
            "(3, {'exact': 55.48, 'f1': 58.86, 'total': 1213, 'HasAns_exact': 48.19, 'HasAns_f1': 55.25, 'HasAns_total': 579, 'NoAns_exact': 62.15, 'NoAns_f1': 62.15, 'NoAns_total': 634})\n"
          ]
        }
      ],
      "source": [
        "dicts3, train_epochs_loss3, dev_epochs_loss3 = train(model3, train_loader, dev_loader, opti3, epochs=EPOCHS, ignored_index=tokenizer.model_max_length)"
      ]
    },
    {
      "cell_type": "code",
      "execution_count": 23,
      "metadata": {
        "id": "XXQHmoLNlCRs",
        "colab": {
          "base_uri": "https://localhost:8080/"
        },
        "outputId": "44c6fb43-20a9-4e72-93c1-d47cec618d2e"
      },
      "outputs": [
        {
          "output_type": "stream",
          "name": "stdout",
          "text": [
            "(0, {'exact': 20.12, 'f1': 21.71, 'total': 1213, 'HasAns_exact': 0.0, 'HasAns_f1': 3.34, 'HasAns_total': 579, 'NoAns_exact': 38.49, 'NoAns_f1': 38.49, 'NoAns_total': 634})\n",
            "0\n",
            "(1, {'exact': 51.28, 'f1': 52.81, 'total': 1213, 'HasAns_exact': 14.51, 'HasAns_f1': 17.71, 'HasAns_total': 579, 'NoAns_exact': 84.86, 'NoAns_f1': 84.86, 'NoAns_total': 634})\n",
            "1\n",
            "(2, {'exact': 50.54, 'f1': 54.66, 'total': 1213, 'HasAns_exact': 33.85, 'HasAns_f1': 42.5, 'HasAns_total': 579, 'NoAns_exact': 65.77, 'NoAns_f1': 65.77, 'NoAns_total': 634})\n",
            "2\n",
            "(3, {'exact': 52.51, 'f1': 55.53, 'total': 1213, 'HasAns_exact': 29.36, 'HasAns_f1': 35.67, 'HasAns_total': 579, 'NoAns_exact': 73.66, 'NoAns_f1': 73.66, 'NoAns_total': 634})\n"
          ]
        }
      ],
      "source": [
        "dicts4, train_epochs_loss4, dev_epochs_loss4 = train(model4, train_loader, dev_loader, opti4, epochs=EPOCHS, ignored_index=tokenizer.model_max_length)"
      ]
    },
    {
      "cell_type": "code",
      "execution_count": 24,
      "metadata": {
        "id": "ikX_K6F7Zre7"
      },
      "outputs": [],
      "source": [
        "def draw_graph(dicts, title):\n",
        "  y_max = int(max([x[1][y] for (_ ,t, y) in dicts for x in t]))\n",
        "  y_min = int(min([x[1][y] for (_ ,t, y) in dicts for x in t]))\n",
        "\n",
        "  for line in dicts:\n",
        "    ep = list(range(1,len(line[1]) + 1))\n",
        "    by_key = [x[1][line[2]] for x in line[1]]\n",
        "    plt.plot(ep, by_key, \"o:\", label=line[0])\n",
        "    \n",
        "    for i, txt in zip(ep, by_key):\n",
        "      plt.annotate(str(np.round(txt,2)), (i, txt + 0.2))\n",
        "  \n",
        "  plt.yticks(list(range(y_min - 5, y_max + 10, 5)))\n",
        "  plt.ylabel(\"score\")\n",
        "  plt.xlabel(\"epoch\")\n",
        "  plt.title(title)\n",
        "  plt.xticks(ep)\n",
        "\n",
        "  plt.legend()\n",
        "  plt.show()"
      ]
    },
    {
      "cell_type": "code",
      "execution_count": 25,
      "metadata": {
        "id": "Hp7lIJkzZxp7"
      },
      "outputs": [],
      "source": [
        "def draw_graph_train_loss(ls, title):\n",
        "  y_max = int(max(ls))\n",
        "  y_min = int(min(ls))\n",
        "  ep = list(range(1,len(ls) + 1))\n",
        "  plt.plot(ep, ls)\n",
        "  \n",
        "  for i, txt in zip(ep, ls):\n",
        "    plt.annotate(str(np.round(txt,2)), (i, txt + 0.2))\n",
        "  \n",
        "  plt.yticks(list(range(y_min - 1, y_max + 4, 2)))\n",
        "  plt.ylabel(\"score\")\n",
        "  plt.xlabel(\"epoch\")\n",
        "  plt.title(title)\n",
        "  plt.xticks(ep)\n",
        "  \n",
        "  # plt.legend()\n",
        "  plt.show()"
      ]
    },
    {
      "cell_type": "code",
      "execution_count": 27,
      "metadata": {
        "id": "yLE3YqIhZ1hz",
        "colab": {
          "base_uri": "https://localhost:8080/",
          "height": 1000
        },
        "outputId": "f2c38ccc-f90e-473b-b66c-e3128e977bcd"
      },
      "outputs": [
        {
          "output_type": "display_data",
          "data": {
            "text/plain": [
              "<Figure size 432x288 with 1 Axes>"
            ],
            "image/png": "[encoded data removed]"
          },
          "metadata": {
            "needs_background": "light"
          }
        },
        {
          "output_type": "stream",
          "name": "stdout",
          "text": [
            "\n"
          ]
        },
        {
          "output_type": "display_data",
          "data": {
            "text/plain": [
              "<Figure size 432x288 with 1 Axes>"
            ],
            "image/png": "[encoded data removed]"
          },
          "metadata": {
            "needs_background": "light"
          }
        },
        {
          "output_type": "stream",
          "name": "stdout",
          "text": [
            "\n",
            "\n",
            "\n"
          ]
        },
        {
          "output_type": "display_data",
          "data": {
            "text/plain": [
              "<Figure size 432x288 with 1 Axes>"
            ],
            "image/png": "[encoded data removed]"
          },
          "metadata": {
            "needs_background": "light"
          }
        },
        {
          "output_type": "stream",
          "name": "stdout",
          "text": [
            "\n"
          ]
        },
        {
          "output_type": "display_data",
          "data": {
            "text/plain": [
              "<Figure size 432x288 with 1 Axes>"
            ],
            "image/png": "[encoded data removed]"
          },
          "metadata": {
            "needs_background": "light"
          }
        },
        {
          "output_type": "stream",
          "name": "stdout",
          "text": [
            "\n",
            "\n",
            "\n"
          ]
        },
        {
          "output_type": "display_data",
          "data": {
            "text/plain": [
              "<Figure size 432x288 with 1 Axes>"
            ],
            "image/png": "[encoded data removed]"
          },
          "metadata": {
            "needs_background": "light"
          }
        },
        {
          "output_type": "stream",
          "name": "stdout",
          "text": [
            "\n"
          ]
        },
        {
          "output_type": "display_data",
          "data": {
            "text/plain": [
              "<Figure size 432x288 with 1 Axes>"
            ],
            "image/png": "[encoded data removed]"
          },
          "metadata": {
            "needs_background": "light"
          }
        },
        {
          "output_type": "stream",
          "name": "stdout",
          "text": [
            "\n",
            "\n",
            "\n"
          ]
        },
        {
          "output_type": "display_data",
          "data": {
            "text/plain": [
              "<Figure size 432x288 with 1 Axes>"
            ],
            "image/png": "[encoded data removed]"
          },
          "metadata": {
            "needs_background": "light"
          }
        },
        {
          "output_type": "stream",
          "name": "stdout",
          "text": [
            "\n"
          ]
        },
        {
          "output_type": "display_data",
          "data": {
            "text/plain": [
              "<Figure size 432x288 with 1 Axes>"
            ],
            "image/png": "[encoded data removed]"
          },
          "metadata": {
            "needs_background": "light"
          }
        },
        {
          "output_type": "stream",
          "name": "stdout",
          "text": [
            "\n",
            "\n",
            "\n"
          ]
        }
      ],
      "source": [
        "all_dicts = [dicts1[1:], dicts2[1:], dicts3[1:], dicts4[1:]]\n",
        "train_loss = [train_epochs_loss1, train_epochs_loss2, train_epochs_loss3, train_epochs_loss4]\n",
        "for i, freez in enumerate([0,2,4,8]):\n",
        "  graph = [(\"EM\",all_dicts[i],\"exact\"), (\"f1\",all_dicts[i],\"f1\")]\n",
        "  draw_graph(graph, \"freez \" + str(freez))\n",
        "  print()\n",
        "  draw_graph_train_loss(train_loss[i], \"train loss, freez \" + str(freez))\n",
        "  print()\n",
        "  print()\n",
        "  print()"
      ]
    }
  ],
  "metadata": {
    "accelerator": "GPU",
    "colab": {
      "collapsed_sections": [],
      "machine_shape": "hm",
      "name": "NLP_final_project_NivNisanov_LiranGoldstein_copy.ipynb",
      "provenance": []
    },
    "gpuClass": "standard",
    "kernelspec": {
      "display_name": "Python 3",
      "language": "python",
      "name": "python3"
    },
    "language_info": {
      "codemirror_mode": {
        "name": "ipython",
        "version": 3
      },
      "file_extension": ".py",
      "mimetype": "text/x-python",
      "name": "python",
      "nbconvert_exporter": "python",
      "pygments_lexer": "ipython3",
      "version": "3.8.5"
    },
    "widgets": {
      "application/vnd.jupyter.widget-state+json": {
        "2b2faaeb20c9451db73de9c316fb36d5": {
          "model_module": "@jupyter-widgets/controls",
          "model_name": "HBoxModel",
          "model_module_version": "1.5.0",
          "state": {
            "_dom_classes": [],
            "_model_module": "@jupyter-widgets/controls",
            "_model_module_version": "1.5.0",
            "_model_name": "HBoxModel",
            "_view_count": null,
            "_view_module": "@jupyter-widgets/controls",
            "_view_module_version": "1.5.0",
            "_view_name": "HBoxView",
            "box_style": "",
            "children": [
              "IPY_MODEL_0186c081dd7f4b0da639c51657ee3d96",
              "IPY_MODEL_b50fa8eba0fa45b7a4f6f19a9c1cfc2d",
              "IPY_MODEL_4665595deaac484e83bab04766e2d048"
            ],
            "layout": "IPY_MODEL_ae34ad1b63e046b6af32cdb4458dfc22"
          }
        },
        "0186c081dd7f4b0da639c51657ee3d96": {
          "model_module": "@jupyter-widgets/controls",
          "model_name": "HTMLModel",
          "model_module_version": "1.5.0",
          "state": {
            "_dom_classes": [],
            "_model_module": "@jupyter-widgets/controls",
            "_model_module_version": "1.5.0",
            "_model_name": "HTMLModel",
            "_view_count": null,
            "_view_module": "@jupyter-widgets/controls",
            "_view_module_version": "1.5.0",
            "_view_name": "HTMLView",
            "description": "",
            "description_tooltip": null,
            "layout": "IPY_MODEL_b4e3e19d6ed2408dacc7ab030b0a03af",
            "placeholder": "​",
            "style": "IPY_MODEL_a37a0bbc48044f2b950780efa6e503d6",
            "value": "Downloading: 100%"
          }
        },
        "b50fa8eba0fa45b7a4f6f19a9c1cfc2d": {
          "model_module": "@jupyter-widgets/controls",
          "model_name": "FloatProgressModel",
          "model_module_version": "1.5.0",
          "state": {
            "_dom_classes": [],
            "_model_module": "@jupyter-widgets/controls",
            "_model_module_version": "1.5.0",
            "_model_name": "FloatProgressModel",
            "_view_count": null,
            "_view_module": "@jupyter-widgets/controls",
            "_view_module_version": "1.5.0",
            "_view_name": "ProgressView",
            "bar_style": "success",
            "description": "",
            "description_tooltip": null,
            "layout": "IPY_MODEL_ab8ad7609e23418c95b8c116e9723623",
            "max": 231508,
            "min": 0,
            "orientation": "horizontal",
            "style": "IPY_MODEL_9889be9c0bd24cf08a1a3619bc18631a",
            "value": 231508
          }
        },
        "4665595deaac484e83bab04766e2d048": {
          "model_module": "@jupyter-widgets/controls",
          "model_name": "HTMLModel",
          "model_module_version": "1.5.0",
          "state": {
            "_dom_classes": [],
            "_model_module": "@jupyter-widgets/controls",
            "_model_module_version": "1.5.0",
            "_model_name": "HTMLModel",
            "_view_count": null,
            "_view_module": "@jupyter-widgets/controls",
            "_view_module_version": "1.5.0",
            "_view_name": "HTMLView",
            "description": "",
            "description_tooltip": null,
            "layout": "IPY_MODEL_fd358b70780943d99929df3048f76b2f",
            "placeholder": "​",
            "style": "IPY_MODEL_9036b7f27b9b4907b746656f971d2dc4",
            "value": " 232k/232k [00:00&lt;00:00, 253kB/s]"
          }
        },
        "ae34ad1b63e046b6af32cdb4458dfc22": {
          "model_module": "@jupyter-widgets/base",
          "model_name": "LayoutModel",
          "model_module_version": "1.2.0",
          "state": {
            "_model_module": "@jupyter-widgets/base",
            "_model_module_version": "1.2.0",
            "_model_name": "LayoutModel",
            "_view_count": null,
            "_view_module": "@jupyter-widgets/base",
            "_view_module_version": "1.2.0",
            "_view_name": "LayoutView",
            "align_content": null,
            "align_items": null,
            "align_self": null,
            "border": null,
            "bottom": null,
            "display": null,
            "flex": null,
            "flex_flow": null,
            "grid_area": null,
            "grid_auto_columns": null,
            "grid_auto_flow": null,
            "grid_auto_rows": null,
            "grid_column": null,
            "grid_gap": null,
            "grid_row": null,
            "grid_template_areas": null,
            "grid_template_columns": null,
            "grid_template_rows": null,
            "height": null,
            "justify_content": null,
            "justify_items": null,
            "left": null,
            "margin": null,
            "max_height": null,
            "max_width": null,
            "min_height": null,
            "min_width": null,
            "object_fit": null,
            "object_position": null,
            "order": null,
            "overflow": null,
            "overflow_x": null,
            "overflow_y": null,
            "padding": null,
            "right": null,
            "top": null,
            "visibility": null,
            "width": null
          }
        },
        "b4e3e19d6ed2408dacc7ab030b0a03af": {
          "model_module": "@jupyter-widgets/base",
          "model_name": "LayoutModel",
          "model_module_version": "1.2.0",
          "state": {
            "_model_module": "@jupyter-widgets/base",
            "_model_module_version": "1.2.0",
            "_model_name": "LayoutModel",
            "_view_count": null,
            "_view_module": "@jupyter-widgets/base",
            "_view_module_version": "1.2.0",
            "_view_name": "LayoutView",
            "align_content": null,
            "align_items": null,
            "align_self": null,
            "border": null,
            "bottom": null,
            "display": null,
            "flex": null,
            "flex_flow": null,
            "grid_area": null,
            "grid_auto_columns": null,
            "grid_auto_flow": null,
            "grid_auto_rows": null,
            "grid_column": null,
            "grid_gap": null,
            "grid_row": null,
            "grid_template_areas": null,
            "grid_template_columns": null,
            "grid_template_rows": null,
            "height": null,
            "justify_content": null,
            "justify_items": null,
            "left": null,
            "margin": null,
            "max_height": null,
            "max_width": null,
            "min_height": null,
            "min_width": null,
            "object_fit": null,
            "object_position": null,
            "order": null,
            "overflow": null,
            "overflow_x": null,
            "overflow_y": null,
            "padding": null,
            "right": null,
            "top": null,
            "visibility": null,
            "width": null
          }
        },
        "a37a0bbc48044f2b950780efa6e503d6": {
          "model_module": "@jupyter-widgets/controls",
          "model_name": "DescriptionStyleModel",
          "model_module_version": "1.5.0",
          "state": {
            "_model_module": "@jupyter-widgets/controls",
            "_model_module_version": "1.5.0",
            "_model_name": "DescriptionStyleModel",
            "_view_count": null,
            "_view_module": "@jupyter-widgets/base",
            "_view_module_version": "1.2.0",
            "_view_name": "StyleView",
            "description_width": ""
          }
        },
        "ab8ad7609e23418c95b8c116e9723623": {
          "model_module": "@jupyter-widgets/base",
          "model_name": "LayoutModel",
          "model_module_version": "1.2.0",
          "state": {
            "_model_module": "@jupyter-widgets/base",
            "_model_module_version": "1.2.0",
            "_model_name": "LayoutModel",
            "_view_count": null,
            "_view_module": "@jupyter-widgets/base",
            "_view_module_version": "1.2.0",
            "_view_name": "LayoutView",
            "align_content": null,
            "align_items": null,
            "align_self": null,
            "border": null,
            "bottom": null,
            "display": null,
            "flex": null,
            "flex_flow": null,
            "grid_area": null,
            "grid_auto_columns": null,
            "grid_auto_flow": null,
            "grid_auto_rows": null,
            "grid_column": null,
            "grid_gap": null,
            "grid_row": null,
            "grid_template_areas": null,
            "grid_template_columns": null,
            "grid_template_rows": null,
            "height": null,
            "justify_content": null,
            "justify_items": null,
            "left": null,
            "margin": null,
            "max_height": null,
            "max_width": null,
            "min_height": null,
            "min_width": null,
            "object_fit": null,
            "object_position": null,
            "order": null,
            "overflow": null,
            "overflow_x": null,
            "overflow_y": null,
            "padding": null,
            "right": null,
            "top": null,
            "visibility": null,
            "width": null
          }
        },
        "9889be9c0bd24cf08a1a3619bc18631a": {
          "model_module": "@jupyter-widgets/controls",
          "model_name": "ProgressStyleModel",
          "model_module_version": "1.5.0",
          "state": {
            "_model_module": "@jupyter-widgets/controls",
            "_model_module_version": "1.5.0",
            "_model_name": "ProgressStyleModel",
            "_view_count": null,
            "_view_module": "@jupyter-widgets/base",
            "_view_module_version": "1.2.0",
            "_view_name": "StyleView",
            "bar_color": null,
            "description_width": ""
          }
        },
        "fd358b70780943d99929df3048f76b2f": {
          "model_module": "@jupyter-widgets/base",
          "model_name": "LayoutModel",
          "model_module_version": "1.2.0",
          "state": {
            "_model_module": "@jupyter-widgets/base",
            "_model_module_version": "1.2.0",
            "_model_name": "LayoutModel",
            "_view_count": null,
            "_view_module": "@jupyter-widgets/base",
            "_view_module_version": "1.2.0",
            "_view_name": "LayoutView",
            "align_content": null,
            "align_items": null,
            "align_self": null,
            "border": null,
            "bottom": null,
            "display": null,
            "flex": null,
            "flex_flow": null,
            "grid_area": null,
            "grid_auto_columns": null,
            "grid_auto_flow": null,
            "grid_auto_rows": null,
            "grid_column": null,
            "grid_gap": null,
            "grid_row": null,
            "grid_template_areas": null,
            "grid_template_columns": null,
            "grid_template_rows": null,
            "height": null,
            "justify_content": null,
            "justify_items": null,
            "left": null,
            "margin": null,
            "max_height": null,
            "max_width": null,
            "min_height": null,
            "min_width": null,
            "object_fit": null,
            "object_position": null,
            "order": null,
            "overflow": null,
            "overflow_x": null,
            "overflow_y": null,
            "padding": null,
            "right": null,
            "top": null,
            "visibility": null,
            "width": null
          }
        },
        "9036b7f27b9b4907b746656f971d2dc4": {
          "model_module": "@jupyter-widgets/controls",
          "model_name": "DescriptionStyleModel",
          "model_module_version": "1.5.0",
          "state": {
            "_model_module": "@jupyter-widgets/controls",
            "_model_module_version": "1.5.0",
            "_model_name": "DescriptionStyleModel",
            "_view_count": null,
            "_view_module": "@jupyter-widgets/base",
            "_view_module_version": "1.2.0",
            "_view_name": "StyleView",
            "description_width": ""
          }
        },
        "37cb061aea16447186ca22f0573e2a6c": {
          "model_module": "@jupyter-widgets/controls",
          "model_name": "HBoxModel",
          "model_module_version": "1.5.0",
          "state": {
            "_dom_classes": [],
            "_model_module": "@jupyter-widgets/controls",
            "_model_module_version": "1.5.0",
            "_model_name": "HBoxModel",
            "_view_count": null,
            "_view_module": "@jupyter-widgets/controls",
            "_view_module_version": "1.5.0",
            "_view_name": "HBoxView",
            "box_style": "",
            "children": [
              "IPY_MODEL_240621192fe242f1b712ec7dc4509974",
              "IPY_MODEL_a47a0eabe79a4402994400e802cf871f",
              "IPY_MODEL_d010f4bcda664748872bfe44865470b9"
            ],
            "layout": "IPY_MODEL_18cd74f268f7414b8a4106b496862517"
          }
        },
        "240621192fe242f1b712ec7dc4509974": {
          "model_module": "@jupyter-widgets/controls",
          "model_name": "HTMLModel",
          "model_module_version": "1.5.0",
          "state": {
            "_dom_classes": [],
            "_model_module": "@jupyter-widgets/controls",
            "_model_module_version": "1.5.0",
            "_model_name": "HTMLModel",
            "_view_count": null,
            "_view_module": "@jupyter-widgets/controls",
            "_view_module_version": "1.5.0",
            "_view_name": "HTMLView",
            "description": "",
            "description_tooltip": null,
            "layout": "IPY_MODEL_265051efe7164a0f8a5dcac606bc1f37",
            "placeholder": "​",
            "style": "IPY_MODEL_8aa8530c11394a25b4711e771c0758a7",
            "value": "Downloading: 100%"
          }
        },
        "a47a0eabe79a4402994400e802cf871f": {
          "model_module": "@jupyter-widgets/controls",
          "model_name": "FloatProgressModel",
          "model_module_version": "1.5.0",
          "state": {
            "_dom_classes": [],
            "_model_module": "@jupyter-widgets/controls",
            "_model_module_version": "1.5.0",
            "_model_name": "FloatProgressModel",
            "_view_count": null,
            "_view_module": "@jupyter-widgets/controls",
            "_view_module_version": "1.5.0",
            "_view_name": "ProgressView",
            "bar_style": "success",
            "description": "",
            "description_tooltip": null,
            "layout": "IPY_MODEL_15eb47e25f074b10abe288542033ad8f",
            "max": 433,
            "min": 0,
            "orientation": "horizontal",
            "style": "IPY_MODEL_676c750069fd494498bb93b0458d3ce3",
            "value": 433
          }
        },
        "d010f4bcda664748872bfe44865470b9": {
          "model_module": "@jupyter-widgets/controls",
          "model_name": "HTMLModel",
          "model_module_version": "1.5.0",
          "state": {
            "_dom_classes": [],
            "_model_module": "@jupyter-widgets/controls",
            "_model_module_version": "1.5.0",
            "_model_name": "HTMLModel",
            "_view_count": null,
            "_view_module": "@jupyter-widgets/controls",
            "_view_module_version": "1.5.0",
            "_view_name": "HTMLView",
            "description": "",
            "description_tooltip": null,
            "layout": "IPY_MODEL_bf39cf5f31d74ea8acfd7b419be73a0e",
            "placeholder": "​",
            "style": "IPY_MODEL_dd40a419f0fe496690b4b29726324d06",
            "value": " 433/433 [00:00&lt;00:00, 13.7kB/s]"
          }
        },
        "18cd74f268f7414b8a4106b496862517": {
          "model_module": "@jupyter-widgets/base",
          "model_name": "LayoutModel",
          "model_module_version": "1.2.0",
          "state": {
            "_model_module": "@jupyter-widgets/base",
            "_model_module_version": "1.2.0",
            "_model_name": "LayoutModel",
            "_view_count": null,
            "_view_module": "@jupyter-widgets/base",
            "_view_module_version": "1.2.0",
            "_view_name": "LayoutView",
            "align_content": null,
            "align_items": null,
            "align_self": null,
            "border": null,
            "bottom": null,
            "display": null,
            "flex": null,
            "flex_flow": null,
            "grid_area": null,
            "grid_auto_columns": null,
            "grid_auto_flow": null,
            "grid_auto_rows": null,
            "grid_column": null,
            "grid_gap": null,
            "grid_row": null,
            "grid_template_areas": null,
            "grid_template_columns": null,
            "grid_template_rows": null,
            "height": null,
            "justify_content": null,
            "justify_items": null,
            "left": null,
            "margin": null,
            "max_height": null,
            "max_width": null,
            "min_height": null,
            "min_width": null,
            "object_fit": null,
            "object_position": null,
            "order": null,
            "overflow": null,
            "overflow_x": null,
            "overflow_y": null,
            "padding": null,
            "right": null,
            "top": null,
            "visibility": null,
            "width": null
          }
        },
        "265051efe7164a0f8a5dcac606bc1f37": {
          "model_module": "@jupyter-widgets/base",
          "model_name": "LayoutModel",
          "model_module_version": "1.2.0",
          "state": {
            "_model_module": "@jupyter-widgets/base",
            "_model_module_version": "1.2.0",
            "_model_name": "LayoutModel",
            "_view_count": null,
            "_view_module": "@jupyter-widgets/base",
            "_view_module_version": "1.2.0",
            "_view_name": "LayoutView",
            "align_content": null,
            "align_items": null,
            "align_self": null,
            "border": null,
            "bottom": null,
            "display": null,
            "flex": null,
            "flex_flow": null,
            "grid_area": null,
            "grid_auto_columns": null,
            "grid_auto_flow": null,
            "grid_auto_rows": null,
            "grid_column": null,
            "grid_gap": null,
            "grid_row": null,
            "grid_template_areas": null,
            "grid_template_columns": null,
            "grid_template_rows": null,
            "height": null,
            "justify_content": null,
            "justify_items": null,
            "left": null,
            "margin": null,
            "max_height": null,
            "max_width": null,
            "min_height": null,
            "min_width": null,
            "object_fit": null,
            "object_position": null,
            "order": null,
            "overflow": null,
            "overflow_x": null,
            "overflow_y": null,
            "padding": null,
            "right": null,
            "top": null,
            "visibility": null,
            "width": null
          }
        },
        "8aa8530c11394a25b4711e771c0758a7": {
          "model_module": "@jupyter-widgets/controls",
          "model_name": "DescriptionStyleModel",
          "model_module_version": "1.5.0",
          "state": {
            "_model_module": "@jupyter-widgets/controls",
            "_model_module_version": "1.5.0",
            "_model_name": "DescriptionStyleModel",
            "_view_count": null,
            "_view_module": "@jupyter-widgets/base",
            "_view_module_version": "1.2.0",
            "_view_name": "StyleView",
            "description_width": ""
          }
        },
        "15eb47e25f074b10abe288542033ad8f": {
          "model_module": "@jupyter-widgets/base",
          "model_name": "LayoutModel",
          "model_module_version": "1.2.0",
          "state": {
            "_model_module": "@jupyter-widgets/base",
            "_model_module_version": "1.2.0",
            "_model_name": "LayoutModel",
            "_view_count": null,
            "_view_module": "@jupyter-widgets/base",
            "_view_module_version": "1.2.0",
            "_view_name": "LayoutView",
            "align_content": null,
            "align_items": null,
            "align_self": null,
            "border": null,
            "bottom": null,
            "display": null,
            "flex": null,
            "flex_flow": null,
            "grid_area": null,
            "grid_auto_columns": null,
            "grid_auto_flow": null,
            "grid_auto_rows": null,
            "grid_column": null,
            "grid_gap": null,
            "grid_row": null,
            "grid_template_areas": null,
            "grid_template_columns": null,
            "grid_template_rows": null,
            "height": null,
            "justify_content": null,
            "justify_items": null,
            "left": null,
            "margin": null,
            "max_height": null,
            "max_width": null,
            "min_height": null,
            "min_width": null,
            "object_fit": null,
            "object_position": null,
            "order": null,
            "overflow": null,
            "overflow_x": null,
            "overflow_y": null,
            "padding": null,
            "right": null,
            "top": null,
            "visibility": null,
            "width": null
          }
        },
        "676c750069fd494498bb93b0458d3ce3": {
          "model_module": "@jupyter-widgets/controls",
          "model_name": "ProgressStyleModel",
          "model_module_version": "1.5.0",
          "state": {
            "_model_module": "@jupyter-widgets/controls",
            "_model_module_version": "1.5.0",
            "_model_name": "ProgressStyleModel",
            "_view_count": null,
            "_view_module": "@jupyter-widgets/base",
            "_view_module_version": "1.2.0",
            "_view_name": "StyleView",
            "bar_color": null,
            "description_width": ""
          }
        },
        "bf39cf5f31d74ea8acfd7b419be73a0e": {
          "model_module": "@jupyter-widgets/base",
          "model_name": "LayoutModel",
          "model_module_version": "1.2.0",
          "state": {
            "_model_module": "@jupyter-widgets/base",
            "_model_module_version": "1.2.0",
            "_model_name": "LayoutModel",
            "_view_count": null,
            "_view_module": "@jupyter-widgets/base",
            "_view_module_version": "1.2.0",
            "_view_name": "LayoutView",
            "align_content": null,
            "align_items": null,
            "align_self": null,
            "border": null,
            "bottom": null,
            "display": null,
            "flex": null,
            "flex_flow": null,
            "grid_area": null,
            "grid_auto_columns": null,
            "grid_auto_flow": null,
            "grid_auto_rows": null,
            "grid_column": null,
            "grid_gap": null,
            "grid_row": null,
            "grid_template_areas": null,
            "grid_template_columns": null,
            "grid_template_rows": null,
            "height": null,
            "justify_content": null,
            "justify_items": null,
            "left": null,
            "margin": null,
            "max_height": null,
            "max_width": null,
            "min_height": null,
            "min_width": null,
            "object_fit": null,
            "object_position": null,
            "order": null,
            "overflow": null,
            "overflow_x": null,
            "overflow_y": null,
            "padding": null,
            "right": null,
            "top": null,
            "visibility": null,
            "width": null
          }
        },
        "dd40a419f0fe496690b4b29726324d06": {
          "model_module": "@jupyter-widgets/controls",
          "model_name": "DescriptionStyleModel",
          "model_module_version": "1.5.0",
          "state": {
            "_model_module": "@jupyter-widgets/controls",
            "_model_module_version": "1.5.0",
            "_model_name": "DescriptionStyleModel",
            "_view_count": null,
            "_view_module": "@jupyter-widgets/base",
            "_view_module_version": "1.2.0",
            "_view_name": "StyleView",
            "description_width": ""
          }
        },
        "656866320a9c4db08ccf8c8f4249fd87": {
          "model_module": "@jupyter-widgets/controls",
          "model_name": "HBoxModel",
          "model_module_version": "1.5.0",
          "state": {
            "_dom_classes": [],
            "_model_module": "@jupyter-widgets/controls",
            "_model_module_version": "1.5.0",
            "_model_name": "HBoxModel",
            "_view_count": null,
            "_view_module": "@jupyter-widgets/controls",
            "_view_module_version": "1.5.0",
            "_view_name": "HBoxView",
            "box_style": "",
            "children": [
              "IPY_MODEL_a6b08f951e304cdfaa7973f4bc13cbb8",
              "IPY_MODEL_c1ffb0824bc249f8979ff1e51050cd8d",
              "IPY_MODEL_dd5accd995b34cc397ea3f76d93d1fac"
            ],
            "layout": "IPY_MODEL_7ee434b2329347339eb830a1f2dbafb2"
          }
        },
        "a6b08f951e304cdfaa7973f4bc13cbb8": {
          "model_module": "@jupyter-widgets/controls",
          "model_name": "HTMLModel",
          "model_module_version": "1.5.0",
          "state": {
            "_dom_classes": [],
            "_model_module": "@jupyter-widgets/controls",
            "_model_module_version": "1.5.0",
            "_model_name": "HTMLModel",
            "_view_count": null,
            "_view_module": "@jupyter-widgets/controls",
            "_view_module_version": "1.5.0",
            "_view_name": "HTMLView",
            "description": "",
            "description_tooltip": null,
            "layout": "IPY_MODEL_af4ee7dac0784966a75f7494aeee0dcf",
            "placeholder": "​",
            "style": "IPY_MODEL_5c9e4c74bef84fb8bcfac26fc86ca17a",
            "value": "Downloading: 100%"
          }
        },
        "c1ffb0824bc249f8979ff1e51050cd8d": {
          "model_module": "@jupyter-widgets/controls",
          "model_name": "FloatProgressModel",
          "model_module_version": "1.5.0",
          "state": {
            "_dom_classes": [],
            "_model_module": "@jupyter-widgets/controls",
            "_model_module_version": "1.5.0",
            "_model_name": "FloatProgressModel",
            "_view_count": null,
            "_view_module": "@jupyter-widgets/controls",
            "_view_module_version": "1.5.0",
            "_view_name": "ProgressView",
            "bar_style": "success",
            "description": "",
            "description_tooltip": null,
            "layout": "IPY_MODEL_5055f9fc18d24c8fbaef49138d51e23a",
            "max": 440473133,
            "min": 0,
            "orientation": "horizontal",
            "style": "IPY_MODEL_2f3e4c97e83a4983984ce19924aa8daa",
            "value": 440473133
          }
        },
        "dd5accd995b34cc397ea3f76d93d1fac": {
          "model_module": "@jupyter-widgets/controls",
          "model_name": "HTMLModel",
          "model_module_version": "1.5.0",
          "state": {
            "_dom_classes": [],
            "_model_module": "@jupyter-widgets/controls",
            "_model_module_version": "1.5.0",
            "_model_name": "HTMLModel",
            "_view_count": null,
            "_view_module": "@jupyter-widgets/controls",
            "_view_module_version": "1.5.0",
            "_view_name": "HTMLView",
            "description": "",
            "description_tooltip": null,
            "layout": "IPY_MODEL_50d5ba465042466b9628625aaac81752",
            "placeholder": "​",
            "style": "IPY_MODEL_1cd16e186db1428aa6d6d886326b52b0",
            "value": " 440M/440M [00:12&lt;00:00, 42.3MB/s]"
          }
        },
        "7ee434b2329347339eb830a1f2dbafb2": {
          "model_module": "@jupyter-widgets/base",
          "model_name": "LayoutModel",
          "model_module_version": "1.2.0",
          "state": {
            "_model_module": "@jupyter-widgets/base",
            "_model_module_version": "1.2.0",
            "_model_name": "LayoutModel",
            "_view_count": null,
            "_view_module": "@jupyter-widgets/base",
            "_view_module_version": "1.2.0",
            "_view_name": "LayoutView",
            "align_content": null,
            "align_items": null,
            "align_self": null,
            "border": null,
            "bottom": null,
            "display": null,
            "flex": null,
            "flex_flow": null,
            "grid_area": null,
            "grid_auto_columns": null,
            "grid_auto_flow": null,
            "grid_auto_rows": null,
            "grid_column": null,
            "grid_gap": null,
            "grid_row": null,
            "grid_template_areas": null,
            "grid_template_columns": null,
            "grid_template_rows": null,
            "height": null,
            "justify_content": null,
            "justify_items": null,
            "left": null,
            "margin": null,
            "max_height": null,
            "max_width": null,
            "min_height": null,
            "min_width": null,
            "object_fit": null,
            "object_position": null,
            "order": null,
            "overflow": null,
            "overflow_x": null,
            "overflow_y": null,
            "padding": null,
            "right": null,
            "top": null,
            "visibility": null,
            "width": null
          }
        },
        "af4ee7dac0784966a75f7494aeee0dcf": {
          "model_module": "@jupyter-widgets/base",
          "model_name": "LayoutModel",
          "model_module_version": "1.2.0",
          "state": {
            "_model_module": "@jupyter-widgets/base",
            "_model_module_version": "1.2.0",
            "_model_name": "LayoutModel",
            "_view_count": null,
            "_view_module": "@jupyter-widgets/base",
            "_view_module_version": "1.2.0",
            "_view_name": "LayoutView",
            "align_content": null,
            "align_items": null,
            "align_self": null,
            "border": null,
            "bottom": null,
            "display": null,
            "flex": null,
            "flex_flow": null,
            "grid_area": null,
            "grid_auto_columns": null,
            "grid_auto_flow": null,
            "grid_auto_rows": null,
            "grid_column": null,
            "grid_gap": null,
            "grid_row": null,
            "grid_template_areas": null,
            "grid_template_columns": null,
            "grid_template_rows": null,
            "height": null,
            "justify_content": null,
            "justify_items": null,
            "left": null,
            "margin": null,
            "max_height": null,
            "max_width": null,
            "min_height": null,
            "min_width": null,
            "object_fit": null,
            "object_position": null,
            "order": null,
            "overflow": null,
            "overflow_x": null,
            "overflow_y": null,
            "padding": null,
            "right": null,
            "top": null,
            "visibility": null,
            "width": null
          }
        },
        "5c9e4c74bef84fb8bcfac26fc86ca17a": {
          "model_module": "@jupyter-widgets/controls",
          "model_name": "DescriptionStyleModel",
          "model_module_version": "1.5.0",
          "state": {
            "_model_module": "@jupyter-widgets/controls",
            "_model_module_version": "1.5.0",
            "_model_name": "DescriptionStyleModel",
            "_view_count": null,
            "_view_module": "@jupyter-widgets/base",
            "_view_module_version": "1.2.0",
            "_view_name": "StyleView",
            "description_width": ""
          }
        },
        "5055f9fc18d24c8fbaef49138d51e23a": {
          "model_module": "@jupyter-widgets/base",
          "model_name": "LayoutModel",
          "model_module_version": "1.2.0",
          "state": {
            "_model_module": "@jupyter-widgets/base",
            "_model_module_version": "1.2.0",
            "_model_name": "LayoutModel",
            "_view_count": null,
            "_view_module": "@jupyter-widgets/base",
            "_view_module_version": "1.2.0",
            "_view_name": "LayoutView",
            "align_content": null,
            "align_items": null,
            "align_self": null,
            "border": null,
            "bottom": null,
            "display": null,
            "flex": null,
            "flex_flow": null,
            "grid_area": null,
            "grid_auto_columns": null,
            "grid_auto_flow": null,
            "grid_auto_rows": null,
            "grid_column": null,
            "grid_gap": null,
            "grid_row": null,
            "grid_template_areas": null,
            "grid_template_columns": null,
            "grid_template_rows": null,
            "height": null,
            "justify_content": null,
            "justify_items": null,
            "left": null,
            "margin": null,
            "max_height": null,
            "max_width": null,
            "min_height": null,
            "min_width": null,
            "object_fit": null,
            "object_position": null,
            "order": null,
            "overflow": null,
            "overflow_x": null,
            "overflow_y": null,
            "padding": null,
            "right": null,
            "top": null,
            "visibility": null,
            "width": null
          }
        },
        "2f3e4c97e83a4983984ce19924aa8daa": {
          "model_module": "@jupyter-widgets/controls",
          "model_name": "ProgressStyleModel",
          "model_module_version": "1.5.0",
          "state": {
            "_model_module": "@jupyter-widgets/controls",
            "_model_module_version": "1.5.0",
            "_model_name": "ProgressStyleModel",
            "_view_count": null,
            "_view_module": "@jupyter-widgets/base",
            "_view_module_version": "1.2.0",
            "_view_name": "StyleView",
            "bar_color": null,
            "description_width": ""
          }
        },
        "50d5ba465042466b9628625aaac81752": {
          "model_module": "@jupyter-widgets/base",
          "model_name": "LayoutModel",
          "model_module_version": "1.2.0",
          "state": {
            "_model_module": "@jupyter-widgets/base",
            "_model_module_version": "1.2.0",
            "_model_name": "LayoutModel",
            "_view_count": null,
            "_view_module": "@jupyter-widgets/base",
            "_view_module_version": "1.2.0",
            "_view_name": "LayoutView",
            "align_content": null,
            "align_items": null,
            "align_self": null,
            "border": null,
            "bottom": null,
            "display": null,
            "flex": null,
            "flex_flow": null,
            "grid_area": null,
            "grid_auto_columns": null,
            "grid_auto_flow": null,
            "grid_auto_rows": null,
            "grid_column": null,
            "grid_gap": null,
            "grid_row": null,
            "grid_template_areas": null,
            "grid_template_columns": null,
            "grid_template_rows": null,
            "height": null,
            "justify_content": null,
            "justify_items": null,
            "left": null,
            "margin": null,
            "max_height": null,
            "max_width": null,
            "min_height": null,
            "min_width": null,
            "object_fit": null,
            "object_position": null,
            "order": null,
            "overflow": null,
            "overflow_x": null,
            "overflow_y": null,
            "padding": null,
            "right": null,
            "top": null,
            "visibility": null,
            "width": null
          }
        },
        "1cd16e186db1428aa6d6d886326b52b0": {
          "model_module": "@jupyter-widgets/controls",
          "model_name": "DescriptionStyleModel",
          "model_module_version": "1.5.0",
          "state": {
            "_model_module": "@jupyter-widgets/controls",
            "_model_module_version": "1.5.0",
            "_model_name": "DescriptionStyleModel",
            "_view_count": null,
            "_view_module": "@jupyter-widgets/base",
            "_view_module_version": "1.2.0",
            "_view_name": "StyleView",
            "description_width": ""
          }
        }
      }
    }
  },
  "nbformat": 4,
  "nbformat_minor": 0
}