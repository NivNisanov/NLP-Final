{
  "cells": [
    {
      "cell_type": "code",
      "execution_count": 1,
      "metadata": {
        "colab": {
          "base_uri": "https://localhost:8080/"
        },
        "id": "7-zLJOk2u_Q5",
        "outputId": "654b07d7-7019-40e5-a258-199b42c8abc0"
      },
      "outputs": [
        {
          "output_type": "stream",
          "name": "stdout",
          "text": [
            "Looking in indexes: https://pypi.org/simple, https://us-python.pkg.dev/colab-wheels/public/simple/\n",
            "Collecting transformers==2.11.0\n",
            "  Downloading transformers-2.11.0-py3-none-any.whl (674 kB)\n",
            "\u001b[K     |████████████████████████████████| 674 kB 4.2 MB/s \n",
            "\u001b[?25hRequirement already satisfied: packaging in /usr/local/lib/python3.7/dist-packages (from transformers==2.11.0) (21.3)\n",
            "Requirement already satisfied: regex!=2019.12.17 in /usr/local/lib/python3.7/dist-packages (from transformers==2.11.0) (2022.6.2)\n",
            "Requirement already satisfied: numpy in /usr/local/lib/python3.7/dist-packages (from transformers==2.11.0) (1.21.6)\n",
            "Collecting sentencepiece\n",
            "  Downloading sentencepiece-0.1.96-cp37-cp37m-manylinux_2_17_x86_64.manylinux2014_x86_64.whl (1.2 MB)\n",
            "\u001b[K     |████████████████████████████████| 1.2 MB 75.9 MB/s \n",
            "\u001b[?25hRequirement already satisfied: tqdm>=4.27 in /usr/local/lib/python3.7/dist-packages (from transformers==2.11.0) (4.64.0)\n",
            "Collecting sacremoses\n",
            "  Downloading sacremoses-0.0.53.tar.gz (880 kB)\n",
            "\u001b[K     |████████████████████████████████| 880 kB 52.6 MB/s \n",
            "\u001b[?25hRequirement already satisfied: requests in /usr/local/lib/python3.7/dist-packages (from transformers==2.11.0) (2.23.0)\n",
            "Requirement already satisfied: filelock in /usr/local/lib/python3.7/dist-packages (from transformers==2.11.0) (3.7.1)\n",
            "Collecting tokenizers==0.7.0\n",
            "  Downloading tokenizers-0.7.0-cp37-cp37m-manylinux1_x86_64.whl (5.6 MB)\n",
            "\u001b[K     |████████████████████████████████| 5.6 MB 15.5 MB/s \n",
            "\u001b[?25hRequirement already satisfied: pyparsing!=3.0.5,>=2.0.2 in /usr/local/lib/python3.7/dist-packages (from packaging->transformers==2.11.0) (3.0.9)\n",
            "Requirement already satisfied: certifi>=2017.4.17 in /usr/local/lib/python3.7/dist-packages (from requests->transformers==2.11.0) (2022.6.15)\n",
            "Requirement already satisfied: chardet<4,>=3.0.2 in /usr/local/lib/python3.7/dist-packages (from requests->transformers==2.11.0) (3.0.4)\n",
            "Requirement already satisfied: idna<3,>=2.5 in /usr/local/lib/python3.7/dist-packages (from requests->transformers==2.11.0) (2.10)\n",
            "Requirement already satisfied: urllib3!=1.25.0,!=1.25.1,<1.26,>=1.21.1 in /usr/local/lib/python3.7/dist-packages (from requests->transformers==2.11.0) (1.24.3)\n",
            "Requirement already satisfied: six in /usr/local/lib/python3.7/dist-packages (from sacremoses->transformers==2.11.0) (1.15.0)\n",
            "Requirement already satisfied: click in /usr/local/lib/python3.7/dist-packages (from sacremoses->transformers==2.11.0) (7.1.2)\n",
            "Requirement already satisfied: joblib in /usr/local/lib/python3.7/dist-packages (from sacremoses->transformers==2.11.0) (1.1.0)\n",
            "Building wheels for collected packages: sacremoses\n",
            "  Building wheel for sacremoses (setup.py) ... \u001b[?25l\u001b[?25hdone\n",
            "  Created wheel for sacremoses: filename=sacremoses-0.0.53-py3-none-any.whl size=895260 sha256=03013e0b17a0dc57796d2982d3ceffb4c607d2fbf39f45fce9e85bca02b5c110\n",
            "  Stored in directory: /root/.cache/pip/wheels/87/39/dd/a83eeef36d0bf98e7a4d1933a4ad2d660295a40613079bafc9\n",
            "Successfully built sacremoses\n",
            "Installing collected packages: tokenizers, sentencepiece, sacremoses, transformers\n",
            "Successfully installed sacremoses-0.0.53 sentencepiece-0.1.96 tokenizers-0.7.0 transformers-2.11.0\n"
          ]
        }
      ],
      "source": [
        "!pip install transformers==2.11.0"
      ]
    },
    {
      "cell_type": "code",
      "execution_count": 2,
      "metadata": {
        "id": "7qYbt8zAvzEF"
      },
      "outputs": [],
      "source": [
        "import json\n",
        "import torch\n",
        "import numpy as np\n",
        "from torch import nn\n",
        "import torch.nn.functional as F\n",
        "from torch.utils.data import DataLoader\n",
        "from transformers import BertTokenizerFast, BertModel, BertPreTrainedModel, AdamW\n",
        "import matplotlib.pyplot as plt"
      ]
    },
    {
      "cell_type": "code",
      "execution_count": 3,
      "metadata": {
        "colab": {
          "base_uri": "https://localhost:8080/"
        },
        "id": "PPjKyF4AE4di",
        "outputId": "7aef281a-5eb4-4047-f3b2-23a21d158dd8"
      },
      "outputs": [
        {
          "output_type": "stream",
          "name": "stdout",
          "text": [
            "Mounted at /content/drive\n",
            "/content/drive/My Drive/NLP\n"
          ]
        }
      ],
      "source": [
        "from google.colab import drive\n",
        "drive.mount('/content/drive')\n",
        "%cd '/content/drive/My Drive/NLP/'"
      ]
    },
    {
      "cell_type": "code",
      "execution_count": 4,
      "metadata": {
        "id": "UVFMh87Nv8KS",
        "colab": {
          "base_uri": "https://localhost:8080/",
          "height": 49,
          "referenced_widgets": [
            "40ab3adcdeaf4ca1840d150745054269",
            "6382c85aed9e4998950ddc2a2bd1bd22",
            "d07f4da22d3a416a9189ae81c56383a5",
            "e2ecbb340a5241a09711d2a8b8c350e4",
            "b12d7a066d1f4150be26f49695882893",
            "faaf29e981394085bf093cdc68c1b420",
            "9881f2522c8440ff82cda69f5d23374a",
            "ebb29c3be0c34815adcdcc3f00ef049c",
            "acbd7c4e1e094c29a9df24142f80942f",
            "6bb7522ec84a423f9cd568ffb8bd350e",
            "2a4983b75433489fa160f76b9dd69984"
          ]
        },
        "outputId": "d04944ef-be31-4052-f6f8-a66dfae32b31"
      },
      "outputs": [
        {
          "output_type": "display_data",
          "data": {
            "text/plain": [
              "Downloading:   0%|          | 0.00/232k [00:00<?, ?B/s]"
            ],
            "application/vnd.jupyter.widget-view+json": {
              "version_major": 2,
              "version_minor": 0,
              "model_id": "40ab3adcdeaf4ca1840d150745054269"
            }
          },
          "metadata": {}
        }
      ],
      "source": [
        "np.random.seed(42)\n",
        "torch.manual_seed(42)\n",
        "torch.cuda.manual_seed(42)\n",
        "\n",
        "DEVICE = torch.device('cuda') if torch.cuda.is_available() else torch.device('cpu')\n",
        "tokenizer = BertTokenizerFast.from_pretrained('bert-base-uncased', do_lower_case=True)"
      ]
    },
    {
      "cell_type": "code",
      "execution_count": 5,
      "metadata": {
        "id": "kCtApFNbwLHD"
      },
      "outputs": [],
      "source": [
        "class Bert_QA_Model(nn.Module):\n",
        "\n",
        "    def __init__(self, freeze = 0):\n",
        "        super(Bert_QA_Model, self).__init__()\n",
        "\n",
        "        self.bert = BertModel.from_pretrained(\"bert-base-uncased\")\n",
        "        self.hidden_size = self.bert.config.hidden_size\n",
        "        self.start_lin = nn.Linear(self.hidden_size, 1)\n",
        "        self.end_lin = nn.Linear(self.hidden_size, 1)\n",
        "\n",
        "        if freeze != 0:\n",
        "          for param in list(self.bert.embeddings.parameters()):\n",
        "              param.requires_grad = False\n",
        "                \n",
        "          for i in range(1, 1 + freeze):\n",
        "              for param in list(self.bert.encoder.layer[i].parameters()):\n",
        "                  param.requires_grad = False\n",
        "\n",
        "\n",
        "    def forward(self, input_ids=None, attention_mask=None, token_type_ids=None):\n",
        "        hidden = self.bert(input_ids=input_ids, attention_mask=attention_mask, token_type_ids=token_type_ids)[0]\n",
        "        start_log = self.start_lin(hidden).squeeze(-1)\n",
        "        start_p = F.log_softmax(start_log, dim=1)\n",
        "        end_log = self.end_lin(hidden).squeeze(-1) \n",
        "        end_p = F.log_softmax(end_log, dim=1)\n",
        "\n",
        "        return start_p, end_p"
      ]
    },
    {
      "cell_type": "code",
      "execution_count": 6,
      "metadata": {
        "id": "lRoV2LFtxCGv",
        "colab": {
          "base_uri": "https://localhost:8080/",
          "height": 81,
          "referenced_widgets": [
            "2d2f9a861d474c3896e2b30e0ed5eb5b",
            "1b9bb142b1b84a23964321124eea2f1a",
            "44d306b041b64ab9b69a6bcbfbd6e178",
            "52fc7450ba854215ab4874341adbd477",
            "dddff75407fa41849d2375b16bc4c53f",
            "90fb300058374031b83f943d0bc4b54c",
            "cc0454ee8b4a4075a8d1184215932bc6",
            "835e7de353b4459aa630a3009e00ecf9",
            "9c96443acaa04e73a56598a232493cf4",
            "442e64fd546d41cf92f20c5541a8978f",
            "f43e24e1862d49ce8cf68ffffee05286",
            "97efb89ebec042f183891246803c6a24",
            "b1c7923bbe104bbf8678ebd11f6ab723",
            "c562db59079a418890ae198712cd63e9",
            "659ed5c2365647b88b51757777ab6e14",
            "1cda6ddbae7e481a84a84fee142e6048",
            "682e718bd585420e88d46984487519c9",
            "f8534b9c7d12431195cfa4959706ac8e",
            "6e48778becb846b88549a90f1f85ee60",
            "e06fed56959748fda04340565ce94250",
            "fc72b97fc3a14058be799f4255801c65",
            "ead5a987c0164b5995e83b5483f8bcc5"
          ]
        },
        "outputId": "c7274b7c-f7a8-4ab8-fc0b-01dda1b439c3"
      },
      "outputs": [
        {
          "output_type": "display_data",
          "data": {
            "text/plain": [
              "Downloading:   0%|          | 0.00/433 [00:00<?, ?B/s]"
            ],
            "application/vnd.jupyter.widget-view+json": {
              "version_major": 2,
              "version_minor": 0,
              "model_id": "2d2f9a861d474c3896e2b30e0ed5eb5b"
            }
          },
          "metadata": {}
        },
        {
          "output_type": "display_data",
          "data": {
            "text/plain": [
              "Downloading:   0%|          | 0.00/440M [00:00<?, ?B/s]"
            ],
            "application/vnd.jupyter.widget-view+json": {
              "version_major": 2,
              "version_minor": 0,
              "model_id": "97efb89ebec042f183891246803c6a24"
            }
          },
          "metadata": {}
        }
      ],
      "source": [
        "m_1 = Bert_QA_Model()\n",
        "m_2 = Bert_QA_Model(2)\n",
        "m_3 = Bert_QA_Model(4)\n",
        "m_4 = Bert_QA_Model(8)"
      ]
    },
    {
      "cell_type": "code",
      "execution_count": 7,
      "metadata": {
        "id": "vCATwB0IdEpf"
      },
      "outputs": [],
      "source": [
        "def squad_to_lists(file_name, cutsize=False):\n",
        "    with open(file_name, 'r') as file:\n",
        "        data = json.load(file)\n",
        "\n",
        "    que, con, ans, que_id = [], [], [], []\n",
        "\n",
        "    for i in range(0,len(data['data']), 5):\n",
        "      for p in range(0, len(data['data'][i]['paragraphs']), 2): \n",
        "\n",
        "          context = data['data'][i]['paragraphs'][p]['context']\n",
        "          for q in range(0, len(data['data'][i]['paragraphs'][p]['qas']), 1): \n",
        "\n",
        "              question = data['data'][i]['paragraphs'][p]['qas'][q]['question']\n",
        "              question_id = data['data'][i]['paragraphs'][p]['qas'][q][\"id\"]\n",
        "              temp = data['data'][i]['paragraphs'][p]['qas'][q]['answers']\n",
        "              answer = temp[0] if temp else {\"answer_end\": 0, \"answer_start\": 0}\n",
        "\n",
        "              if temp:\n",
        "                answer[\"answer_end\"] = answer[\"answer_start\"] + len(answer[\"text\"])\n",
        "\n",
        "              con.append(context)\n",
        "              que.append(question)                    \n",
        "              ans.append(answer)\n",
        "              que_id.append(question_id)\n",
        "\n",
        "    return que, con, ans, que_id"
      ]
    },
    {
      "cell_type": "code",
      "execution_count": 8,
      "metadata": {
        "id": "6CNb7jbBExEp"
      },
      "outputs": [],
      "source": [
        "train_que, train_con, train_ans, _ = squad_to_lists('train-v2.0.json', True)\n",
        "dev_que, dev_con, dev_ans, dev_que_id = squad_to_lists('dev-v2.0.json',True)"
      ]
    },
    {
      "cell_type": "code",
      "execution_count": 9,
      "metadata": {
        "colab": {
          "base_uri": "https://localhost:8080/"
        },
        "id": "Khnz2HldKNOb",
        "outputId": "27aac3d9-1e7a-4ac2-c767-71e8432b7e72"
      },
      "outputs": [
        {
          "output_type": "stream",
          "name": "stdout",
          "text": [
            "12941\n"
          ]
        }
      ],
      "source": [
        "print(len(train_que))"
      ]
    },
    {
      "cell_type": "code",
      "execution_count": 10,
      "metadata": {
        "id": "LXJgqKq3LIFZ"
      },
      "outputs": [],
      "source": [
        "zipped_train = list(zip(train_con, train_que))\n",
        "zipped_dev = list(zip(dev_con, dev_que))\n",
        "\n",
        "train_encod = tokenizer.batch_encode_plus(zipped_train, max_length=tokenizer.model_max_length, pad_to_max_length=True, return_token_type_ids=True)\n",
        "\n",
        "dev_encod = tokenizer.batch_encode_plus(zipped_dev, max_length=tokenizer.model_max_length, pad_to_max_length=True, return_token_type_ids=True)"
      ]
    },
    {
      "cell_type": "code",
      "execution_count": 11,
      "metadata": {
        "id": "uO3-MsJ3N4Bk"
      },
      "outputs": [],
      "source": [
        "def tok_dict_pos(tokenizer, encodings, answers):\n",
        "    start_pos = []\n",
        "    end_pos = []\n",
        "    \n",
        "    for i in range(len(answers)):\n",
        "\n",
        "        start_pos.append(encodings.char_to_token(i, answers[i]['answer_start']) if answers[i]['answer_end'] != 0 else 0)\n",
        "        end_pos.append(encodings.char_to_token(i, answers[i]['answer_end'] - 1) if answers[i]['answer_end'] != 0 else 0)    \n",
        "        \n",
        "        start_pos[-1] = tokenizer.model_max_length if start_pos[-1] is None else start_pos[-1]\n",
        "        end_pos[-1] = tokenizer.model_max_length if end_pos[-1] is None else end_pos[-1]\n",
        "    \n",
        "    encodings.update({'start_positions': start_pos, 'end_positions': end_pos})\n"
      ]
    },
    {
      "cell_type": "code",
      "execution_count": 12,
      "metadata": {
        "id": "XIqRZGKLPBUZ"
      },
      "outputs": [],
      "source": [
        "tok_dict_pos(tokenizer, train_encod, train_ans)\n",
        "tok_dict_pos(tokenizer,dev_encod, dev_ans)"
      ]
    },
    {
      "cell_type": "code",
      "execution_count": 13,
      "metadata": {
        "id": "KStrzdbKQ06I"
      },
      "outputs": [],
      "source": [
        "class Squad_ds(torch.utils.data.Dataset):\n",
        "    \n",
        "  def __init__(self, encodings):\n",
        "    self.encodings = encodings\n",
        "    self.length = len(self.encodings.input_ids)\n",
        "\n",
        "  def __getitem__(self, idx):\n",
        "    res = {}\n",
        "    for key, val in self.encodings.items():\n",
        "      res[key] = torch.tensor(val[idx])\n",
        "\n",
        "    return res\n",
        "\n",
        "  def __len__(self):\n",
        "    return self.length"
      ]
    },
    {
      "cell_type": "code",
      "execution_count": 14,
      "metadata": {
        "id": "Bti8m3VDQ2aW"
      },
      "outputs": [],
      "source": [
        "train_data_loader = DataLoader(Squad_ds(train_encod), batch_size=8, shuffle=True)\n",
        "\n",
        "dev_data_loader = DataLoader(Squad_ds(dev_encod), batch_size=8, shuffle=False)"
      ]
    },
    {
      "cell_type": "code",
      "source": [
        "def get_batch_params(batch):\n",
        "    start_positions = batch['start_positions'].to(DEVICE)\n",
        "    end_positions = batch['end_positions'].to(DEVICE)\n",
        "    token_type_ids = batch['token_type_ids'].to(DEVICE)\n",
        "    attention_mask = batch['attention_mask'].to(DEVICE)\n",
        "    input_ids = batch['input_ids'].to(DEVICE)\n",
        "\n",
        "    return start_positions, end_positions, token_type_ids, attention_mask, input_ids\n"
      ],
      "metadata": {
        "id": "CnXjrAgfUVt8"
      },
      "execution_count": 15,
      "outputs": []
    },
    {
      "cell_type": "code",
      "execution_count": 16,
      "metadata": {
        "id": "NRWym9m4XWYo"
      },
      "outputs": [],
      "source": [
        "def evaluate(model, loader, ignored_index):\n",
        "    answers = []\n",
        "    total_dev_loss = 0\n",
        "\n",
        "    with torch.no_grad():\n",
        "\n",
        "        for b in loader:\n",
        "            start_positions, end_positions, token_type_ids, attention_mask, input_ids = get_batch_params(b)\n",
        "\n",
        "            start_o, end_o = model(input_ids=input_ids, attention_mask=attention_mask, token_type_ids=token_type_ids) \n",
        "\n",
        "            start_loss = F.nll_loss(start_o, start_positions, ignore_index=ignored_index)\n",
        "            end_loss = F.nll_loss(end_o, end_positions, ignore_index=ignored_index)\n",
        "\n",
        "            total_loss = (start_loss + end_loss) / 2\n",
        "            total_dev_loss += total_loss.item()\n",
        "            start_pred = torch.argmax(start_o.detach().cpu(), dim=1).tolist()\n",
        "            end_pred = torch.argmax(end_o.detach().cpu(), dim=1).tolist()\n",
        "            input_ids = input_ids.detach().cpu().tolist()\n",
        "            cls_t = [tokenizer.cls_token_id]\n",
        "\n",
        "            for current_input_ids, start_p, end_p in zip(input_ids, start_pred, end_pred):\n",
        "\n",
        "                ans_tokens = current_input_ids[start_p: end_p + 1]\n",
        "\n",
        "                if cls_t != ans_tokens and cls_t[0] in ans_tokens:\n",
        "                    del ans_tokens[0]\n",
        "                \n",
        "                if cls_t == ans_tokens:\n",
        "                    answers.append('')\n",
        "                else:\n",
        "                    answers.append(tokenizer.convert_tokens_to_string(ans_tokens))\n",
        "\n",
        "    return total_dev_loss / len(loader), answers"
      ]
    },
    {
      "cell_type": "code",
      "execution_count": 17,
      "metadata": {
        "id": "dxo0VGLdrcSF"
      },
      "outputs": [],
      "source": [
        "def print_eval(questions_ids, predictions, epoch):\n",
        "    \n",
        "    preds = {key: val for key, val in zip(questions_ids, predictions)}\n",
        "\n",
        "    with open('./preds_model.json', 'w') as outfile:\n",
        "        json.dump(preds, outfile)\n",
        "\n",
        "    abc = !python3 evaluate-v2.0-40.py ./dev-v2.0.json ./preds_model.json\n",
        "\n",
        "    abc = eval(''.join(abc))\n",
        "\n",
        "    for key, val in abc.items():\n",
        "      abc[key] = np.round(val, 2)\n",
        "    \n",
        "    return (epoch, abc)"
      ]
    },
    {
      "cell_type": "code",
      "execution_count": 18,
      "metadata": {
        "id": "4Ru-4faYEaYK"
      },
      "outputs": [],
      "source": [
        "if torch.cuda.is_available():\n",
        "    m_1.cuda()\n",
        "    m_2.cuda()\n",
        "    m_3.cuda()\n",
        "    m_4.cuda()"
      ]
    },
    {
      "cell_type": "code",
      "execution_count": 19,
      "metadata": {
        "id": "CCba6tMtEaYK"
      },
      "outputs": [],
      "source": [
        "opti1 = AdamW(m_1.parameters(), lr=4e-5)\n",
        "opti2 = AdamW(m_2.parameters(), lr=4e-5)\n",
        "opti3 = AdamW(m_3.parameters(), lr=4e-5)\n",
        "opti4 = AdamW(m_4.parameters(), lr=4e-5)"
      ]
    },
    {
      "cell_type": "code",
      "execution_count": 20,
      "metadata": {
        "id": "pEb4UCpbEaYK"
      },
      "outputs": [],
      "source": [
        "def train(model, train_loader, dev_loader, optimizer, ignored_index, epochs=3):\n",
        "\n",
        "    train_loss, dev_loss = [], []\n",
        "    \n",
        "    lr = optimizer.param_groups[0]['lr']\n",
        "    initial_dev_loss, preds = evaluate(model, dev_loader, ignored_index)\n",
        "    dev_loss.append(initial_dev_loss)\n",
        "    dicts=[]\n",
        "    \n",
        "    dicts.append(print_eval(dev_que_id, preds, 0))\n",
        "    print(dicts[-1])\n",
        "\n",
        "    for e in range(epochs):\n",
        "        model.train()\n",
        "        total_train_loss = 0\n",
        "        sum_loss = 0\n",
        "\n",
        "        for batch_idx, b in enumerate(train_loader):\n",
        "            optimizer.zero_grad()\n",
        "            start_positions, end_positions, token_type_ids, attention_mask, input_ids = get_batch_params(b)\n",
        "            start_o, end_o = model(input_ids=input_ids, attention_mask=attention_mask, token_type_ids=token_type_ids)\n",
        "\n",
        "            start_loss = F.nll_loss(start_o, start_positions, ignore_index=ignored_index)\n",
        "            end_loss = F.nll_loss(end_o, end_positions, ignore_index=ignored_index)\n",
        "            total_loss = (start_loss + end_loss) / 2\n",
        "            \n",
        "            total_train_loss += total_loss.item()\n",
        "            sum_loss += total_loss.item()\n",
        "\n",
        "            total_loss.backward()\n",
        "            optimizer.step()\n",
        "        \n",
        "        avg_train_loss = total_train_loss / len(train_loader)            \n",
        "        train_loss.append(avg_train_loss)\n",
        "\n",
        "        model.eval()\n",
        "\n",
        "        avg_dev_loss, preds = evaluate(model, dev_loader, ignored_index)\n",
        "        dev_loss.append(avg_dev_loss)\n",
        "        \n",
        "        dicts.append(print_eval(dev_que_id, preds, e + 1))\n",
        "        print(dicts[-1])\n",
        "\n",
        "    return dicts, train_loss, dev_loss\n"
      ]
    },
    {
      "cell_type": "code",
      "execution_count": 21,
      "metadata": {
        "colab": {
          "base_uri": "https://localhost:8080/"
        },
        "id": "470Nd0PWEaYL",
        "outputId": "cf5b9fc3-a329-4786-9827-ce85435c1b65"
      },
      "outputs": [
        {
          "output_type": "stream",
          "name": "stdout",
          "text": [
            "(0, {'exact': 21.68, 'f1': 23.13, 'total': 1213, 'HasAns_exact': 0.0, 'HasAns_f1': 3.02, 'HasAns_total': 579, 'NoAns_exact': 41.48, 'NoAns_f1': 41.48, 'NoAns_total': 634})\n",
            "(1, {'exact': 55.89, 'f1': 58.8, 'total': 1213, 'HasAns_exact': 42.31, 'HasAns_f1': 48.4, 'HasAns_total': 579, 'NoAns_exact': 68.3, 'NoAns_f1': 68.3, 'NoAns_total': 634})\n",
            "(2, {'exact': 57.96, 'f1': 60.77, 'total': 1213, 'HasAns_exact': 43.7, 'HasAns_f1': 49.6, 'HasAns_total': 579, 'NoAns_exact': 70.98, 'NoAns_f1': 70.98, 'NoAns_total': 634})\n",
            "(3, {'exact': 55.48, 'f1': 60.1, 'total': 1213, 'HasAns_exact': 56.82, 'HasAns_f1': 66.5, 'HasAns_total': 579, 'NoAns_exact': 54.26, 'NoAns_f1': 54.26, 'NoAns_total': 634})\n"
          ]
        }
      ],
      "source": [
        "dicts1, train_epochs_loss1, dev_epochs_loss1 = train(m_1, train_data_loader, dev_data_loader, opti1, ignored_index=tokenizer.model_max_length)"
      ]
    },
    {
      "cell_type": "code",
      "execution_count": 22,
      "metadata": {
        "colab": {
          "base_uri": "https://localhost:8080/"
        },
        "id": "fYN6jn5YGdUT",
        "outputId": "2a78feef-8d89-446b-ac39-2d12768ef15a"
      },
      "outputs": [
        {
          "output_type": "stream",
          "name": "stdout",
          "text": [
            "(0, {'exact': 22.18, 'f1': 23.25, 'total': 1213, 'HasAns_exact': 0.0, 'HasAns_f1': 2.24, 'HasAns_total': 579, 'NoAns_exact': 42.43, 'NoAns_f1': 42.43, 'NoAns_total': 634})\n",
            "(1, {'exact': 55.89, 'f1': 58.76, 'total': 1213, 'HasAns_exact': 33.68, 'HasAns_f1': 39.68, 'HasAns_total': 579, 'NoAns_exact': 76.18, 'NoAns_f1': 76.18, 'NoAns_total': 634})\n",
            "(2, {'exact': 59.27, 'f1': 62.85, 'total': 1213, 'HasAns_exact': 55.96, 'HasAns_f1': 63.46, 'HasAns_total': 579, 'NoAns_exact': 62.3, 'NoAns_f1': 62.3, 'NoAns_total': 634})\n",
            "(3, {'exact': 59.93, 'f1': 63.53, 'total': 1213, 'HasAns_exact': 50.09, 'HasAns_f1': 57.63, 'HasAns_total': 579, 'NoAns_exact': 68.93, 'NoAns_f1': 68.93, 'NoAns_total': 634})\n"
          ]
        }
      ],
      "source": [
        "dicts2, train_epochs_loss2, dev_epochs_loss2 = train(m_2, train_data_loader, dev_data_loader, opti2, ignored_index=tokenizer.model_max_length)"
      ]
    },
    {
      "cell_type": "code",
      "execution_count": 23,
      "metadata": {
        "id": "Ox_W3kqK2CPb",
        "colab": {
          "base_uri": "https://localhost:8080/"
        },
        "outputId": "eb8b2c83-7d9a-4222-8575-5c27944345a3"
      },
      "outputs": [
        {
          "output_type": "stream",
          "name": "stdout",
          "text": [
            "(0, {'exact': 21.68, 'f1': 23.47, 'total': 1213, 'HasAns_exact': 0.0, 'HasAns_f1': 3.74, 'HasAns_total': 579, 'NoAns_exact': 41.48, 'NoAns_f1': 41.48, 'NoAns_total': 634})\n",
            "(1, {'exact': 49.63, 'f1': 53.5, 'total': 1213, 'HasAns_exact': 50.78, 'HasAns_f1': 58.88, 'HasAns_total': 579, 'NoAns_exact': 48.58, 'NoAns_f1': 48.58, 'NoAns_total': 634})\n",
            "(2, {'exact': 59.36, 'f1': 62.52, 'total': 1213, 'HasAns_exact': 45.6, 'HasAns_f1': 52.21, 'HasAns_total': 579, 'NoAns_exact': 71.92, 'NoAns_f1': 71.92, 'NoAns_total': 634})\n",
            "(3, {'exact': 57.21, 'f1': 61.41, 'total': 1213, 'HasAns_exact': 47.84, 'HasAns_f1': 56.62, 'HasAns_total': 579, 'NoAns_exact': 65.77, 'NoAns_f1': 65.77, 'NoAns_total': 634})\n"
          ]
        }
      ],
      "source": [
        "dicts3, train_epochs_loss3, dev_epochs_loss3 = train(m_3, train_data_loader, dev_data_loader, opti3, ignored_index=tokenizer.model_max_length)"
      ]
    },
    {
      "cell_type": "code",
      "execution_count": 24,
      "metadata": {
        "id": "XXQHmoLNlCRs",
        "colab": {
          "base_uri": "https://localhost:8080/"
        },
        "outputId": "342f7286-8896-48db-8a5e-f7cfd1e1cfcc"
      },
      "outputs": [
        {
          "output_type": "stream",
          "name": "stdout",
          "text": [
            "(0, {'exact': 20.12, 'f1': 21.71, 'total': 1213, 'HasAns_exact': 0.0, 'HasAns_f1': 3.34, 'HasAns_total': 579, 'NoAns_exact': 38.49, 'NoAns_f1': 38.49, 'NoAns_total': 634})\n",
            "(1, {'exact': 51.2, 'f1': 52.85, 'total': 1213, 'HasAns_exact': 14.51, 'HasAns_f1': 17.97, 'HasAns_total': 579, 'NoAns_exact': 84.7, 'NoAns_f1': 84.7, 'NoAns_total': 634})\n",
            "(2, {'exact': 52.84, 'f1': 56.78, 'total': 1213, 'HasAns_exact': 38.17, 'HasAns_f1': 46.42, 'HasAns_total': 579, 'NoAns_exact': 66.25, 'NoAns_f1': 66.25, 'NoAns_total': 634})\n",
            "(3, {'exact': 54.49, 'f1': 57.57, 'total': 1213, 'HasAns_exact': 26.25, 'HasAns_f1': 32.71, 'HasAns_total': 579, 'NoAns_exact': 80.28, 'NoAns_f1': 80.28, 'NoAns_total': 634})\n"
          ]
        }
      ],
      "source": [
        "dicts4, train_epochs_loss4, dev_epochs_loss4 = train(m_4, train_data_loader, dev_data_loader, opti4, ignored_index=tokenizer.model_max_length)"
      ]
    },
    {
      "cell_type": "code",
      "execution_count": 25,
      "metadata": {
        "id": "ikX_K6F7Zre7"
      },
      "outputs": [],
      "source": [
        "def draw_graph(dicts, title):\n",
        "  y_max = int(max([x[1][y] for (_ ,t, y) in dicts for x in t]))\n",
        "  y_min = int(min([x[1][y] for (_ ,t, y) in dicts for x in t]))\n",
        "\n",
        "  for line in dicts:\n",
        "    ep = list(range(1,len(line[1]) + 1))\n",
        "    by_key = [x[1][line[2]] for x in line[1]]\n",
        "    plt.plot(ep, by_key, \"o:\", label=line[0])\n",
        "    \n",
        "    for i, txt in zip(ep, by_key):\n",
        "      plt.annotate(str(np.round(txt,2)), (i, txt + 0.2))\n",
        "  \n",
        "  plt.yticks(list(range(y_min - 5, y_max + 10, 5)))\n",
        "  plt.ylabel(\"score\")\n",
        "  plt.xlabel(\"epoch\")\n",
        "  plt.title(title)\n",
        "  plt.xticks(ep)\n",
        "\n",
        "  plt.legend()\n",
        "  plt.show()"
      ]
    },
    {
      "cell_type": "code",
      "execution_count": 26,
      "metadata": {
        "id": "Hp7lIJkzZxp7"
      },
      "outputs": [],
      "source": [
        "def draw_graph_train_loss(ls, title):\n",
        "  y_max = int(max(ls))\n",
        "  y_min = int(min(ls))\n",
        "  ep = list(range(1,len(ls) + 1))\n",
        "  plt.plot(ep, ls)\n",
        "  \n",
        "  for i, txt in zip(ep, ls):\n",
        "    plt.annotate(str(np.round(txt,2)), (i, txt + 0.2))\n",
        "  \n",
        "  plt.yticks(list(range(y_min - 1, y_max + 4, 2)))\n",
        "  plt.ylabel(\"score\")\n",
        "  plt.xlabel(\"epoch\")\n",
        "  plt.title(title)\n",
        "  plt.xticks(ep)\n",
        "  \n",
        "  plt.show()"
      ]
    },
    {
      "cell_type": "code",
      "execution_count": 27,
      "metadata": {
        "id": "yLE3YqIhZ1hz",
        "colab": {
          "base_uri": "https://localhost:8080/",
          "height": 1000
        },
        "outputId": "5783a10b-cc2e-4c30-84be-7cf050c7eb54"
      },
      "outputs": [
        {
          "output_type": "display_data",
          "data": {
            "text/plain": [
              "<Figure size 432x288 with 1 Axes>"
            ],
            "image/png": "[encoded data removed]"
          },
          "metadata": {
            "needs_background": "light"
          }
        },
        {
          "output_type": "stream",
          "name": "stdout",
          "text": [
            "\n"
          ]
        },
        {
          "output_type": "display_data",
          "data": {
            "text/plain": [
              "<Figure size 432x288 with 1 Axes>"
            ],
            "image/png": "[encoded data removed]"
          },
          "metadata": {
            "needs_background": "light"
          }
        },
        {
          "output_type": "stream",
          "name": "stdout",
          "text": [
            "\n",
            "\n",
            "\n"
          ]
        },
        {
          "output_type": "display_data",
          "data": {
            "text/plain": [
              "<Figure size 432x288 with 1 Axes>"
            ],
            "image/png": "[encoded data removed]"
          },
          "metadata": {
            "needs_background": "light"
          }
        },
        {
          "output_type": "stream",
          "name": "stdout",
          "text": [
            "\n"
          ]
        },
        {
          "output_type": "display_data",
          "data": {
            "text/plain": [
              "<Figure size 432x288 with 1 Axes>"
            ],
            "image/png": "[encoded data removed]"
          },
          "metadata": {
            "needs_background": "light"
          }
        },
        {
          "output_type": "stream",
          "name": "stdout",
          "text": [
            "\n",
            "\n",
            "\n"
          ]
        },
        {
          "output_type": "display_data",
          "data": {
            "text/plain": [
              "<Figure size 432x288 with 1 Axes>"
            ],
            "image/png": "[encoded data removed]"
          },
          "metadata": {
            "needs_background": "light"
          }
        },
        {
          "output_type": "stream",
          "name": "stdout",
          "text": [
            "\n"
          ]
        },
        {
          "output_type": "display_data",
          "data": {
            "text/plain": [
              "<Figure size 432x288 with 1 Axes>"
            ],
            "image/png": "[encoded data removed]"
          },
          "metadata": {
            "needs_background": "light"
          }
        },
        {
          "output_type": "stream",
          "name": "stdout",
          "text": [
            "\n",
            "\n",
            "\n"
          ]
        },
        {
          "output_type": "display_data",
          "data": {
            "text/plain": [
              "<Figure size 432x288 with 1 Axes>"
            ],
            "image/png": "[encoded data removed]"
          },
          "metadata": {
            "needs_background": "light"
          }
        },
        {
          "output_type": "stream",
          "name": "stdout",
          "text": [
            "\n"
          ]
        },
        {
          "output_type": "display_data",
          "data": {
            "text/plain": [
              "<Figure size 432x288 with 1 Axes>"
            ],
            "image/png": "[encoded data removed]"
          },
          "metadata": {
            "needs_background": "light"
          }
        },
        {
          "output_type": "stream",
          "name": "stdout",
          "text": [
            "\n",
            "\n",
            "\n"
          ]
        }
      ],
      "source": [
        "all_dicts = [dicts1[1:], dicts2[1:], dicts3[1:], dicts4[1:]]\n",
        "train_loss = [train_epochs_loss1, train_epochs_loss2, train_epochs_loss3, train_epochs_loss4]\n",
        "for i, freez in enumerate([0,2,4,8]):\n",
        "  graph = [(\"EM\",all_dicts[i],\"exact\"), (\"f1\",all_dicts[i],\"f1\")]\n",
        "  draw_graph(graph, \"freez \" + str(freez))\n",
        "  print()\n",
        "  draw_graph_train_loss(train_loss[i], \"train loss, freez \" + str(freez))\n",
        "  print()\n",
        "  print()\n",
        "  print()"
      ]
    }
  ],
  "metadata": {
    "accelerator": "GPU",
    "colab": {
      "collapsed_sections": [],
      "machine_shape": "hm",
      "name": "NLP_final_project_NivNisanov_LiranGoldstein_copy.ipynb",
      "provenance": []
    },
    "gpuClass": "standard",
    "kernelspec": {
      "display_name": "Python 3",
      "language": "python",
      "name": "python3"
    },
    "language_info": {
      "codemirror_mode": {
        "name": "ipython",
        "version": 3
      },
      "file_extension": ".py",
      "mimetype": "text/x-python",
      "name": "python",
      "nbconvert_exporter": "python",
      "pygments_lexer": "ipython3",
      "version": "3.8.5"
    },
    "widgets": {
      "application/vnd.jupyter.widget-state+json": {
        "40ab3adcdeaf4ca1840d150745054269": {
          "model_module": "@jupyter-widgets/controls",
          "model_name": "HBoxModel",
          "model_module_version": "1.5.0",
          "state": {
            "_dom_classes": [],
            "_model_module": "@jupyter-widgets/controls",
            "_model_module_version": "1.5.0",
            "_model_name": "HBoxModel",
            "_view_count": null,
            "_view_module": "@jupyter-widgets/controls",
            "_view_module_version": "1.5.0",
            "_view_name": "HBoxView",
            "box_style": "",
            "children": [
              "IPY_MODEL_6382c85aed9e4998950ddc2a2bd1bd22",
              "IPY_MODEL_d07f4da22d3a416a9189ae81c56383a5",
              "IPY_MODEL_e2ecbb340a5241a09711d2a8b8c350e4"
            ],
            "layout": "IPY_MODEL_b12d7a066d1f4150be26f49695882893"
          }
        },
        "6382c85aed9e4998950ddc2a2bd1bd22": {
          "model_module": "@jupyter-widgets/controls",
          "model_name": "HTMLModel",
          "model_module_version": "1.5.0",
          "state": {
            "_dom_classes": [],
            "_model_module": "@jupyter-widgets/controls",
            "_model_module_version": "1.5.0",
            "_model_name": "HTMLModel",
            "_view_count": null,
            "_view_module": "@jupyter-widgets/controls",
            "_view_module_version": "1.5.0",
            "_view_name": "HTMLView",
            "description": "",
            "description_tooltip": null,
            "layout": "IPY_MODEL_faaf29e981394085bf093cdc68c1b420",
            "placeholder": "​",
            "style": "IPY_MODEL_9881f2522c8440ff82cda69f5d23374a",
            "value": "Downloading: 100%"
          }
        },
        "d07f4da22d3a416a9189ae81c56383a5": {
          "model_module": "@jupyter-widgets/controls",
          "model_name": "FloatProgressModel",
          "model_module_version": "1.5.0",
          "state": {
            "_dom_classes": [],
            "_model_module": "@jupyter-widgets/controls",
            "_model_module_version": "1.5.0",
            "_model_name": "FloatProgressModel",
            "_view_count": null,
            "_view_module": "@jupyter-widgets/controls",
            "_view_module_version": "1.5.0",
            "_view_name": "ProgressView",
            "bar_style": "success",
            "description": "",
            "description_tooltip": null,
            "layout": "IPY_MODEL_ebb29c3be0c34815adcdcc3f00ef049c",
            "max": 231508,
            "min": 0,
            "orientation": "horizontal",
            "style": "IPY_MODEL_acbd7c4e1e094c29a9df24142f80942f",
            "value": 231508
          }
        },
        "e2ecbb340a5241a09711d2a8b8c350e4": {
          "model_module": "@jupyter-widgets/controls",
          "model_name": "HTMLModel",
          "model_module_version": "1.5.0",
          "state": {
            "_dom_classes": [],
            "_model_module": "@jupyter-widgets/controls",
            "_model_module_version": "1.5.0",
            "_model_name": "HTMLModel",
            "_view_count": null,
            "_view_module": "@jupyter-widgets/controls",
            "_view_module_version": "1.5.0",
            "_view_name": "HTMLView",
            "description": "",
            "description_tooltip": null,
            "layout": "IPY_MODEL_6bb7522ec84a423f9cd568ffb8bd350e",
            "placeholder": "​",
            "style": "IPY_MODEL_2a4983b75433489fa160f76b9dd69984",
            "value": " 232k/232k [00:00&lt;00:00, 253kB/s]"
          }
        },
        "b12d7a066d1f4150be26f49695882893": {
          "model_module": "@jupyter-widgets/base",
          "model_name": "LayoutModel",
          "model_module_version": "1.2.0",
          "state": {
            "_model_module": "@jupyter-widgets/base",
            "_model_module_version": "1.2.0",
            "_model_name": "LayoutModel",
            "_view_count": null,
            "_view_module": "@jupyter-widgets/base",
            "_view_module_version": "1.2.0",
            "_view_name": "LayoutView",
            "align_content": null,
            "align_items": null,
            "align_self": null,
            "border": null,
            "bottom": null,
            "display": null,
            "flex": null,
            "flex_flow": null,
            "grid_area": null,
            "grid_auto_columns": null,
            "grid_auto_flow": null,
            "grid_auto_rows": null,
            "grid_column": null,
            "grid_gap": null,
            "grid_row": null,
            "grid_template_areas": null,
            "grid_template_columns": null,
            "grid_template_rows": null,
            "height": null,
            "justify_content": null,
            "justify_items": null,
            "left": null,
            "margin": null,
            "max_height": null,
            "max_width": null,
            "min_height": null,
            "min_width": null,
            "object_fit": null,
            "object_position": null,
            "order": null,
            "overflow": null,
            "overflow_x": null,
            "overflow_y": null,
            "padding": null,
            "right": null,
            "top": null,
            "visibility": null,
            "width": null
          }
        },
        "faaf29e981394085bf093cdc68c1b420": {
          "model_module": "@jupyter-widgets/base",
          "model_name": "LayoutModel",
          "model_module_version": "1.2.0",
          "state": {
            "_model_module": "@jupyter-widgets/base",
            "_model_module_version": "1.2.0",
            "_model_name": "LayoutModel",
            "_view_count": null,
            "_view_module": "@jupyter-widgets/base",
            "_view_module_version": "1.2.0",
            "_view_name": "LayoutView",
            "align_content": null,
            "align_items": null,
            "align_self": null,
            "border": null,
            "bottom": null,
            "display": null,
            "flex": null,
            "flex_flow": null,
            "grid_area": null,
            "grid_auto_columns": null,
            "grid_auto_flow": null,
            "grid_auto_rows": null,
            "grid_column": null,
            "grid_gap": null,
            "grid_row": null,
            "grid_template_areas": null,
            "grid_template_columns": null,
            "grid_template_rows": null,
            "height": null,
            "justify_content": null,
            "justify_items": null,
            "left": null,
            "margin": null,
            "max_height": null,
            "max_width": null,
            "min_height": null,
            "min_width": null,
            "object_fit": null,
            "object_position": null,
            "order": null,
            "overflow": null,
            "overflow_x": null,
            "overflow_y": null,
            "padding": null,
            "right": null,
            "top": null,
            "visibility": null,
            "width": null
          }
        },
        "9881f2522c8440ff82cda69f5d23374a": {
          "model_module": "@jupyter-widgets/controls",
          "model_name": "DescriptionStyleModel",
          "model_module_version": "1.5.0",
          "state": {
            "_model_module": "@jupyter-widgets/controls",
            "_model_module_version": "1.5.0",
            "_model_name": "DescriptionStyleModel",
            "_view_count": null,
            "_view_module": "@jupyter-widgets/base",
            "_view_module_version": "1.2.0",
            "_view_name": "StyleView",
            "description_width": ""
          }
        },
        "ebb29c3be0c34815adcdcc3f00ef049c": {
          "model_module": "@jupyter-widgets/base",
          "model_name": "LayoutModel",
          "model_module_version": "1.2.0",
          "state": {
            "_model_module": "@jupyter-widgets/base",
            "_model_module_version": "1.2.0",
            "_model_name": "LayoutModel",
            "_view_count": null,
            "_view_module": "@jupyter-widgets/base",
            "_view_module_version": "1.2.0",
            "_view_name": "LayoutView",
            "align_content": null,
            "align_items": null,
            "align_self": null,
            "border": null,
            "bottom": null,
            "display": null,
            "flex": null,
            "flex_flow": null,
            "grid_area": null,
            "grid_auto_columns": null,
            "grid_auto_flow": null,
            "grid_auto_rows": null,
            "grid_column": null,
            "grid_gap": null,
            "grid_row": null,
            "grid_template_areas": null,
            "grid_template_columns": null,
            "grid_template_rows": null,
            "height": null,
            "justify_content": null,
            "justify_items": null,
            "left": null,
            "margin": null,
            "max_height": null,
            "max_width": null,
            "min_height": null,
            "min_width": null,
            "object_fit": null,
            "object_position": null,
            "order": null,
            "overflow": null,
            "overflow_x": null,
            "overflow_y": null,
            "padding": null,
            "right": null,
            "top": null,
            "visibility": null,
            "width": null
          }
        },
        "acbd7c4e1e094c29a9df24142f80942f": {
          "model_module": "@jupyter-widgets/controls",
          "model_name": "ProgressStyleModel",
          "model_module_version": "1.5.0",
          "state": {
            "_model_module": "@jupyter-widgets/controls",
            "_model_module_version": "1.5.0",
            "_model_name": "ProgressStyleModel",
            "_view_count": null,
            "_view_module": "@jupyter-widgets/base",
            "_view_module_version": "1.2.0",
            "_view_name": "StyleView",
            "bar_color": null,
            "description_width": ""
          }
        },
        "6bb7522ec84a423f9cd568ffb8bd350e": {
          "model_module": "@jupyter-widgets/base",
          "model_name": "LayoutModel",
          "model_module_version": "1.2.0",
          "state": {
            "_model_module": "@jupyter-widgets/base",
            "_model_module_version": "1.2.0",
            "_model_name": "LayoutModel",
            "_view_count": null,
            "_view_module": "@jupyter-widgets/base",
            "_view_module_version": "1.2.0",
            "_view_name": "LayoutView",
            "align_content": null,
            "align_items": null,
            "align_self": null,
            "border": null,
            "bottom": null,
            "display": null,
            "flex": null,
            "flex_flow": null,
            "grid_area": null,
            "grid_auto_columns": null,
            "grid_auto_flow": null,
            "grid_auto_rows": null,
            "grid_column": null,
            "grid_gap": null,
            "grid_row": null,
            "grid_template_areas": null,
            "grid_template_columns": null,
            "grid_template_rows": null,
            "height": null,
            "justify_content": null,
            "justify_items": null,
            "left": null,
            "margin": null,
            "max_height": null,
            "max_width": null,
            "min_height": null,
            "min_width": null,
            "object_fit": null,
            "object_position": null,
            "order": null,
            "overflow": null,
            "overflow_x": null,
            "overflow_y": null,
            "padding": null,
            "right": null,
            "top": null,
            "visibility": null,
            "width": null
          }
        },
        "2a4983b75433489fa160f76b9dd69984": {
          "model_module": "@jupyter-widgets/controls",
          "model_name": "DescriptionStyleModel",
          "model_module_version": "1.5.0",
          "state": {
            "_model_module": "@jupyter-widgets/controls",
            "_model_module_version": "1.5.0",
            "_model_name": "DescriptionStyleModel",
            "_view_count": null,
            "_view_module": "@jupyter-widgets/base",
            "_view_module_version": "1.2.0",
            "_view_name": "StyleView",
            "description_width": ""
          }
        },
        "2d2f9a861d474c3896e2b30e0ed5eb5b": {
          "model_module": "@jupyter-widgets/controls",
          "model_name": "HBoxModel",
          "model_module_version": "1.5.0",
          "state": {
            "_dom_classes": [],
            "_model_module": "@jupyter-widgets/controls",
            "_model_module_version": "1.5.0",
            "_model_name": "HBoxModel",
            "_view_count": null,
            "_view_module": "@jupyter-widgets/controls",
            "_view_module_version": "1.5.0",
            "_view_name": "HBoxView",
            "box_style": "",
            "children": [
              "IPY_MODEL_1b9bb142b1b84a23964321124eea2f1a",
              "IPY_MODEL_44d306b041b64ab9b69a6bcbfbd6e178",
              "IPY_MODEL_52fc7450ba854215ab4874341adbd477"
            ],
            "layout": "IPY_MODEL_dddff75407fa41849d2375b16bc4c53f"
          }
        },
        "1b9bb142b1b84a23964321124eea2f1a": {
          "model_module": "@jupyter-widgets/controls",
          "model_name": "HTMLModel",
          "model_module_version": "1.5.0",
          "state": {
            "_dom_classes": [],
            "_model_module": "@jupyter-widgets/controls",
            "_model_module_version": "1.5.0",
            "_model_name": "HTMLModel",
            "_view_count": null,
            "_view_module": "@jupyter-widgets/controls",
            "_view_module_version": "1.5.0",
            "_view_name": "HTMLView",
            "description": "",
            "description_tooltip": null,
            "layout": "IPY_MODEL_90fb300058374031b83f943d0bc4b54c",
            "placeholder": "​",
            "style": "IPY_MODEL_cc0454ee8b4a4075a8d1184215932bc6",
            "value": "Downloading: 100%"
          }
        },
        "44d306b041b64ab9b69a6bcbfbd6e178": {
          "model_module": "@jupyter-widgets/controls",
          "model_name": "FloatProgressModel",
          "model_module_version": "1.5.0",
          "state": {
            "_dom_classes": [],
            "_model_module": "@jupyter-widgets/controls",
            "_model_module_version": "1.5.0",
            "_model_name": "FloatProgressModel",
            "_view_count": null,
            "_view_module": "@jupyter-widgets/controls",
            "_view_module_version": "1.5.0",
            "_view_name": "ProgressView",
            "bar_style": "success",
            "description": "",
            "description_tooltip": null,
            "layout": "IPY_MODEL_835e7de353b4459aa630a3009e00ecf9",
            "max": 433,
            "min": 0,
            "orientation": "horizontal",
            "style": "IPY_MODEL_9c96443acaa04e73a56598a232493cf4",
            "value": 433
          }
        },
        "52fc7450ba854215ab4874341adbd477": {
          "model_module": "@jupyter-widgets/controls",
          "model_name": "HTMLModel",
          "model_module_version": "1.5.0",
          "state": {
            "_dom_classes": [],
            "_model_module": "@jupyter-widgets/controls",
            "_model_module_version": "1.5.0",
            "_model_name": "HTMLModel",
            "_view_count": null,
            "_view_module": "@jupyter-widgets/controls",
            "_view_module_version": "1.5.0",
            "_view_name": "HTMLView",
            "description": "",
            "description_tooltip": null,
            "layout": "IPY_MODEL_442e64fd546d41cf92f20c5541a8978f",
            "placeholder": "​",
            "style": "IPY_MODEL_f43e24e1862d49ce8cf68ffffee05286",
            "value": " 433/433 [00:00&lt;00:00, 15.1kB/s]"
          }
        },
        "dddff75407fa41849d2375b16bc4c53f": {
          "model_module": "@jupyter-widgets/base",
          "model_name": "LayoutModel",
          "model_module_version": "1.2.0",
          "state": {
            "_model_module": "@jupyter-widgets/base",
            "_model_module_version": "1.2.0",
            "_model_name": "LayoutModel",
            "_view_count": null,
            "_view_module": "@jupyter-widgets/base",
            "_view_module_version": "1.2.0",
            "_view_name": "LayoutView",
            "align_content": null,
            "align_items": null,
            "align_self": null,
            "border": null,
            "bottom": null,
            "display": null,
            "flex": null,
            "flex_flow": null,
            "grid_area": null,
            "grid_auto_columns": null,
            "grid_auto_flow": null,
            "grid_auto_rows": null,
            "grid_column": null,
            "grid_gap": null,
            "grid_row": null,
            "grid_template_areas": null,
            "grid_template_columns": null,
            "grid_template_rows": null,
            "height": null,
            "justify_content": null,
            "justify_items": null,
            "left": null,
            "margin": null,
            "max_height": null,
            "max_width": null,
            "min_height": null,
            "min_width": null,
            "object_fit": null,
            "object_position": null,
            "order": null,
            "overflow": null,
            "overflow_x": null,
            "overflow_y": null,
            "padding": null,
            "right": null,
            "top": null,
            "visibility": null,
            "width": null
          }
        },
        "90fb300058374031b83f943d0bc4b54c": {
          "model_module": "@jupyter-widgets/base",
          "model_name": "LayoutModel",
          "model_module_version": "1.2.0",
          "state": {
            "_model_module": "@jupyter-widgets/base",
            "_model_module_version": "1.2.0",
            "_model_name": "LayoutModel",
            "_view_count": null,
            "_view_module": "@jupyter-widgets/base",
            "_view_module_version": "1.2.0",
            "_view_name": "LayoutView",
            "align_content": null,
            "align_items": null,
            "align_self": null,
            "border": null,
            "bottom": null,
            "display": null,
            "flex": null,
            "flex_flow": null,
            "grid_area": null,
            "grid_auto_columns": null,
            "grid_auto_flow": null,
            "grid_auto_rows": null,
            "grid_column": null,
            "grid_gap": null,
            "grid_row": null,
            "grid_template_areas": null,
            "grid_template_columns": null,
            "grid_template_rows": null,
            "height": null,
            "justify_content": null,
            "justify_items": null,
            "left": null,
            "margin": null,
            "max_height": null,
            "max_width": null,
            "min_height": null,
            "min_width": null,
            "object_fit": null,
            "object_position": null,
            "order": null,
            "overflow": null,
            "overflow_x": null,
            "overflow_y": null,
            "padding": null,
            "right": null,
            "top": null,
            "visibility": null,
            "width": null
          }
        },
        "cc0454ee8b4a4075a8d1184215932bc6": {
          "model_module": "@jupyter-widgets/controls",
          "model_name": "DescriptionStyleModel",
          "model_module_version": "1.5.0",
          "state": {
            "_model_module": "@jupyter-widgets/controls",
            "_model_module_version": "1.5.0",
            "_model_name": "DescriptionStyleModel",
            "_view_count": null,
            "_view_module": "@jupyter-widgets/base",
            "_view_module_version": "1.2.0",
            "_view_name": "StyleView",
            "description_width": ""
          }
        },
        "835e7de353b4459aa630a3009e00ecf9": {
          "model_module": "@jupyter-widgets/base",
          "model_name": "LayoutModel",
          "model_module_version": "1.2.0",
          "state": {
            "_model_module": "@jupyter-widgets/base",
            "_model_module_version": "1.2.0",
            "_model_name": "LayoutModel",
            "_view_count": null,
            "_view_module": "@jupyter-widgets/base",
            "_view_module_version": "1.2.0",
            "_view_name": "LayoutView",
            "align_content": null,
            "align_items": null,
            "align_self": null,
            "border": null,
            "bottom": null,
            "display": null,
            "flex": null,
            "flex_flow": null,
            "grid_area": null,
            "grid_auto_columns": null,
            "grid_auto_flow": null,
            "grid_auto_rows": null,
            "grid_column": null,
            "grid_gap": null,
            "grid_row": null,
            "grid_template_areas": null,
            "grid_template_columns": null,
            "grid_template_rows": null,
            "height": null,
            "justify_content": null,
            "justify_items": null,
            "left": null,
            "margin": null,
            "max_height": null,
            "max_width": null,
            "min_height": null,
            "min_width": null,
            "object_fit": null,
            "object_position": null,
            "order": null,
            "overflow": null,
            "overflow_x": null,
            "overflow_y": null,
            "padding": null,
            "right": null,
            "top": null,
            "visibility": null,
            "width": null
          }
        },
        "9c96443acaa04e73a56598a232493cf4": {
          "model_module": "@jupyter-widgets/controls",
          "model_name": "ProgressStyleModel",
          "model_module_version": "1.5.0",
          "state": {
            "_model_module": "@jupyter-widgets/controls",
            "_model_module_version": "1.5.0",
            "_model_name": "ProgressStyleModel",
            "_view_count": null,
            "_view_module": "@jupyter-widgets/base",
            "_view_module_version": "1.2.0",
            "_view_name": "StyleView",
            "bar_color": null,
            "description_width": ""
          }
        },
        "442e64fd546d41cf92f20c5541a8978f": {
          "model_module": "@jupyter-widgets/base",
          "model_name": "LayoutModel",
          "model_module_version": "1.2.0",
          "state": {
            "_model_module": "@jupyter-widgets/base",
            "_model_module_version": "1.2.0",
            "_model_name": "LayoutModel",
            "_view_count": null,
            "_view_module": "@jupyter-widgets/base",
            "_view_module_version": "1.2.0",
            "_view_name": "LayoutView",
            "align_content": null,
            "align_items": null,
            "align_self": null,
            "border": null,
            "bottom": null,
            "display": null,
            "flex": null,
            "flex_flow": null,
            "grid_area": null,
            "grid_auto_columns": null,
            "grid_auto_flow": null,
            "grid_auto_rows": null,
            "grid_column": null,
            "grid_gap": null,
            "grid_row": null,
            "grid_template_areas": null,
            "grid_template_columns": null,
            "grid_template_rows": null,
            "height": null,
            "justify_content": null,
            "justify_items": null,
            "left": null,
            "margin": null,
            "max_height": null,
            "max_width": null,
            "min_height": null,
            "min_width": null,
            "object_fit": null,
            "object_position": null,
            "order": null,
            "overflow": null,
            "overflow_x": null,
            "overflow_y": null,
            "padding": null,
            "right": null,
            "top": null,
            "visibility": null,
            "width": null
          }
        },
        "f43e24e1862d49ce8cf68ffffee05286": {
          "model_module": "@jupyter-widgets/controls",
          "model_name": "DescriptionStyleModel",
          "model_module_version": "1.5.0",
          "state": {
            "_model_module": "@jupyter-widgets/controls",
            "_model_module_version": "1.5.0",
            "_model_name": "DescriptionStyleModel",
            "_view_count": null,
            "_view_module": "@jupyter-widgets/base",
            "_view_module_version": "1.2.0",
            "_view_name": "StyleView",
            "description_width": ""
          }
        },
        "97efb89ebec042f183891246803c6a24": {
          "model_module": "@jupyter-widgets/controls",
          "model_name": "HBoxModel",
          "model_module_version": "1.5.0",
          "state": {
            "_dom_classes": [],
            "_model_module": "@jupyter-widgets/controls",
            "_model_module_version": "1.5.0",
            "_model_name": "HBoxModel",
            "_view_count": null,
            "_view_module": "@jupyter-widgets/controls",
            "_view_module_version": "1.5.0",
            "_view_name": "HBoxView",
            "box_style": "",
            "children": [
              "IPY_MODEL_b1c7923bbe104bbf8678ebd11f6ab723",
              "IPY_MODEL_c562db59079a418890ae198712cd63e9",
              "IPY_MODEL_659ed5c2365647b88b51757777ab6e14"
            ],
            "layout": "IPY_MODEL_1cda6ddbae7e481a84a84fee142e6048"
          }
        },
        "b1c7923bbe104bbf8678ebd11f6ab723": {
          "model_module": "@jupyter-widgets/controls",
          "model_name": "HTMLModel",
          "model_module_version": "1.5.0",
          "state": {
            "_dom_classes": [],
            "_model_module": "@jupyter-widgets/controls",
            "_model_module_version": "1.5.0",
            "_model_name": "HTMLModel",
            "_view_count": null,
            "_view_module": "@jupyter-widgets/controls",
            "_view_module_version": "1.5.0",
            "_view_name": "HTMLView",
            "description": "",
            "description_tooltip": null,
            "layout": "IPY_MODEL_682e718bd585420e88d46984487519c9",
            "placeholder": "​",
            "style": "IPY_MODEL_f8534b9c7d12431195cfa4959706ac8e",
            "value": "Downloading: 100%"
          }
        },
        "c562db59079a418890ae198712cd63e9": {
          "model_module": "@jupyter-widgets/controls",
          "model_name": "FloatProgressModel",
          "model_module_version": "1.5.0",
          "state": {
            "_dom_classes": [],
            "_model_module": "@jupyter-widgets/controls",
            "_model_module_version": "1.5.0",
            "_model_name": "FloatProgressModel",
            "_view_count": null,
            "_view_module": "@jupyter-widgets/controls",
            "_view_module_version": "1.5.0",
            "_view_name": "ProgressView",
            "bar_style": "success",
            "description": "",
            "description_tooltip": null,
            "layout": "IPY_MODEL_6e48778becb846b88549a90f1f85ee60",
            "max": 440473133,
            "min": 0,
            "orientation": "horizontal",
            "style": "IPY_MODEL_e06fed56959748fda04340565ce94250",
            "value": 440473133
          }
        },
        "659ed5c2365647b88b51757777ab6e14": {
          "model_module": "@jupyter-widgets/controls",
          "model_name": "HTMLModel",
          "model_module_version": "1.5.0",
          "state": {
            "_dom_classes": [],
            "_model_module": "@jupyter-widgets/controls",
            "_model_module_version": "1.5.0",
            "_model_name": "HTMLModel",
            "_view_count": null,
            "_view_module": "@jupyter-widgets/controls",
            "_view_module_version": "1.5.0",
            "_view_name": "HTMLView",
            "description": "",
            "description_tooltip": null,
            "layout": "IPY_MODEL_fc72b97fc3a14058be799f4255801c65",
            "placeholder": "​",
            "style": "IPY_MODEL_ead5a987c0164b5995e83b5483f8bcc5",
            "value": " 440M/440M [00:06&lt;00:00, 67.5MB/s]"
          }
        },
        "1cda6ddbae7e481a84a84fee142e6048": {
          "model_module": "@jupyter-widgets/base",
          "model_name": "LayoutModel",
          "model_module_version": "1.2.0",
          "state": {
            "_model_module": "@jupyter-widgets/base",
            "_model_module_version": "1.2.0",
            "_model_name": "LayoutModel",
            "_view_count": null,
            "_view_module": "@jupyter-widgets/base",
            "_view_module_version": "1.2.0",
            "_view_name": "LayoutView",
            "align_content": null,
            "align_items": null,
            "align_self": null,
            "border": null,
            "bottom": null,
            "display": null,
            "flex": null,
            "flex_flow": null,
            "grid_area": null,
            "grid_auto_columns": null,
            "grid_auto_flow": null,
            "grid_auto_rows": null,
            "grid_column": null,
            "grid_gap": null,
            "grid_row": null,
            "grid_template_areas": null,
            "grid_template_columns": null,
            "grid_template_rows": null,
            "height": null,
            "justify_content": null,
            "justify_items": null,
            "left": null,
            "margin": null,
            "max_height": null,
            "max_width": null,
            "min_height": null,
            "min_width": null,
            "object_fit": null,
            "object_position": null,
            "order": null,
            "overflow": null,
            "overflow_x": null,
            "overflow_y": null,
            "padding": null,
            "right": null,
            "top": null,
            "visibility": null,
            "width": null
          }
        },
        "682e718bd585420e88d46984487519c9": {
          "model_module": "@jupyter-widgets/base",
          "model_name": "LayoutModel",
          "model_module_version": "1.2.0",
          "state": {
            "_model_module": "@jupyter-widgets/base",
            "_model_module_version": "1.2.0",
            "_model_name": "LayoutModel",
            "_view_count": null,
            "_view_module": "@jupyter-widgets/base",
            "_view_module_version": "1.2.0",
            "_view_name": "LayoutView",
            "align_content": null,
            "align_items": null,
            "align_self": null,
            "border": null,
            "bottom": null,
            "display": null,
            "flex": null,
            "flex_flow": null,
            "grid_area": null,
            "grid_auto_columns": null,
            "grid_auto_flow": null,
            "grid_auto_rows": null,
            "grid_column": null,
            "grid_gap": null,
            "grid_row": null,
            "grid_template_areas": null,
            "grid_template_columns": null,
            "grid_template_rows": null,
            "height": null,
            "justify_content": null,
            "justify_items": null,
            "left": null,
            "margin": null,
            "max_height": null,
            "max_width": null,
            "min_height": null,
            "min_width": null,
            "object_fit": null,
            "object_position": null,
            "order": null,
            "overflow": null,
            "overflow_x": null,
            "overflow_y": null,
            "padding": null,
            "right": null,
            "top": null,
            "visibility": null,
            "width": null
          }
        },
        "f8534b9c7d12431195cfa4959706ac8e": {
          "model_module": "@jupyter-widgets/controls",
          "model_name": "DescriptionStyleModel",
          "model_module_version": "1.5.0",
          "state": {
            "_model_module": "@jupyter-widgets/controls",
            "_model_module_version": "1.5.0",
            "_model_name": "DescriptionStyleModel",
            "_view_count": null,
            "_view_module": "@jupyter-widgets/base",
            "_view_module_version": "1.2.0",
            "_view_name": "StyleView",
            "description_width": ""
          }
        },
        "6e48778becb846b88549a90f1f85ee60": {
          "model_module": "@jupyter-widgets/base",
          "model_name": "LayoutModel",
          "model_module_version": "1.2.0",
          "state": {
            "_model_module": "@jupyter-widgets/base",
            "_model_module_version": "1.2.0",
            "_model_name": "LayoutModel",
            "_view_count": null,
            "_view_module": "@jupyter-widgets/base",
            "_view_module_version": "1.2.0",
            "_view_name": "LayoutView",
            "align_content": null,
            "align_items": null,
            "align_self": null,
            "border": null,
            "bottom": null,
            "display": null,
            "flex": null,
            "flex_flow": null,
            "grid_area": null,
            "grid_auto_columns": null,
            "grid_auto_flow": null,
            "grid_auto_rows": null,
            "grid_column": null,
            "grid_gap": null,
            "grid_row": null,
            "grid_template_areas": null,
            "grid_template_columns": null,
            "grid_template_rows": null,
            "height": null,
            "justify_content": null,
            "justify_items": null,
            "left": null,
            "margin": null,
            "max_height": null,
            "max_width": null,
            "min_height": null,
            "min_width": null,
            "object_fit": null,
            "object_position": null,
            "order": null,
            "overflow": null,
            "overflow_x": null,
            "overflow_y": null,
            "padding": null,
            "right": null,
            "top": null,
            "visibility": null,
            "width": null
          }
        },
        "e06fed56959748fda04340565ce94250": {
          "model_module": "@jupyter-widgets/controls",
          "model_name": "ProgressStyleModel",
          "model_module_version": "1.5.0",
          "state": {
            "_model_module": "@jupyter-widgets/controls",
            "_model_module_version": "1.5.0",
            "_model_name": "ProgressStyleModel",
            "_view_count": null,
            "_view_module": "@jupyter-widgets/base",
            "_view_module_version": "1.2.0",
            "_view_name": "StyleView",
            "bar_color": null,
            "description_width": ""
          }
        },
        "fc72b97fc3a14058be799f4255801c65": {
          "model_module": "@jupyter-widgets/base",
          "model_name": "LayoutModel",
          "model_module_version": "1.2.0",
          "state": {
            "_model_module": "@jupyter-widgets/base",
            "_model_module_version": "1.2.0",
            "_model_name": "LayoutModel",
            "_view_count": null,
            "_view_module": "@jupyter-widgets/base",
            "_view_module_version": "1.2.0",
            "_view_name": "LayoutView",
            "align_content": null,
            "align_items": null,
            "align_self": null,
            "border": null,
            "bottom": null,
            "display": null,
            "flex": null,
            "flex_flow": null,
            "grid_area": null,
            "grid_auto_columns": null,
            "grid_auto_flow": null,
            "grid_auto_rows": null,
            "grid_column": null,
            "grid_gap": null,
            "grid_row": null,
            "grid_template_areas": null,
            "grid_template_columns": null,
            "grid_template_rows": null,
            "height": null,
            "justify_content": null,
            "justify_items": null,
            "left": null,
            "margin": null,
            "max_height": null,
            "max_width": null,
            "min_height": null,
            "min_width": null,
            "object_fit": null,
            "object_position": null,
            "order": null,
            "overflow": null,
            "overflow_x": null,
            "overflow_y": null,
            "padding": null,
            "right": null,
            "top": null,
            "visibility": null,
            "width": null
          }
        },
        "ead5a987c0164b5995e83b5483f8bcc5": {
          "model_module": "@jupyter-widgets/controls",
          "model_name": "DescriptionStyleModel",
          "model_module_version": "1.5.0",
          "state": {
            "_model_module": "@jupyter-widgets/controls",
            "_model_module_version": "1.5.0",
            "_model_name": "DescriptionStyleModel",
            "_view_count": null,
            "_view_module": "@jupyter-widgets/base",
            "_view_module_version": "1.2.0",
            "_view_name": "StyleView",
            "description_width": ""
          }
        }
      }
    }
  },
  "nbformat": 4,
  "nbformat_minor": 0
}